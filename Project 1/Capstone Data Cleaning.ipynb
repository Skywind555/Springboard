{
 "cells": [
  {
   "cell_type": "code",
   "execution_count": 1,
   "metadata": {
    "collapsed": true
   },
   "outputs": [],
   "source": [
    "import numpy as np\n",
    "import pandas as pd"
   ]
  },
  {
   "cell_type": "code",
   "execution_count": 2,
   "metadata": {
    "collapsed": true
   },
   "outputs": [],
   "source": [
    "df = pd.read_csv('C:/Users/Skywind/Desktop/Python/edX - Course 1/Video_Games_Sales_as_at_22_Dec_2016.csv')"
   ]
  },
  {
   "cell_type": "markdown",
   "metadata": {},
   "source": [
    "# Inspect the data and clean:"
   ]
  },
  {
   "cell_type": "code",
   "execution_count": 3,
   "metadata": {},
   "outputs": [
    {
     "data": {
      "text/html": [
       "<div>\n",
       "<style scoped>\n",
       "    .dataframe tbody tr th:only-of-type {\n",
       "        vertical-align: middle;\n",
       "    }\n",
       "\n",
       "    .dataframe tbody tr th {\n",
       "        vertical-align: top;\n",
       "    }\n",
       "\n",
       "    .dataframe thead th {\n",
       "        text-align: right;\n",
       "    }\n",
       "</style>\n",
       "<table border=\"1\" class=\"dataframe\">\n",
       "  <thead>\n",
       "    <tr style=\"text-align: right;\">\n",
       "      <th></th>\n",
       "      <th>Name</th>\n",
       "      <th>Platform</th>\n",
       "      <th>Year_of_Release</th>\n",
       "      <th>Genre</th>\n",
       "      <th>Publisher</th>\n",
       "      <th>NA_Sales</th>\n",
       "      <th>EU_Sales</th>\n",
       "      <th>JP_Sales</th>\n",
       "      <th>Other_Sales</th>\n",
       "      <th>Global_Sales</th>\n",
       "      <th>Critic_Score</th>\n",
       "      <th>Critic_Count</th>\n",
       "      <th>User_Score</th>\n",
       "      <th>User_Count</th>\n",
       "      <th>Developer</th>\n",
       "      <th>Rating</th>\n",
       "    </tr>\n",
       "  </thead>\n",
       "  <tbody>\n",
       "    <tr>\n",
       "      <th>0</th>\n",
       "      <td>Wii Sports</td>\n",
       "      <td>Wii</td>\n",
       "      <td>2006.0</td>\n",
       "      <td>Sports</td>\n",
       "      <td>Nintendo</td>\n",
       "      <td>41.36</td>\n",
       "      <td>28.96</td>\n",
       "      <td>3.77</td>\n",
       "      <td>8.45</td>\n",
       "      <td>82.53</td>\n",
       "      <td>76.0</td>\n",
       "      <td>51.0</td>\n",
       "      <td>8</td>\n",
       "      <td>322.0</td>\n",
       "      <td>Nintendo</td>\n",
       "      <td>E</td>\n",
       "    </tr>\n",
       "    <tr>\n",
       "      <th>1</th>\n",
       "      <td>Super Mario Bros.</td>\n",
       "      <td>NES</td>\n",
       "      <td>1985.0</td>\n",
       "      <td>Platform</td>\n",
       "      <td>Nintendo</td>\n",
       "      <td>29.08</td>\n",
       "      <td>3.58</td>\n",
       "      <td>6.81</td>\n",
       "      <td>0.77</td>\n",
       "      <td>40.24</td>\n",
       "      <td>NaN</td>\n",
       "      <td>NaN</td>\n",
       "      <td>NaN</td>\n",
       "      <td>NaN</td>\n",
       "      <td>NaN</td>\n",
       "      <td>NaN</td>\n",
       "    </tr>\n",
       "    <tr>\n",
       "      <th>2</th>\n",
       "      <td>Mario Kart Wii</td>\n",
       "      <td>Wii</td>\n",
       "      <td>2008.0</td>\n",
       "      <td>Racing</td>\n",
       "      <td>Nintendo</td>\n",
       "      <td>15.68</td>\n",
       "      <td>12.76</td>\n",
       "      <td>3.79</td>\n",
       "      <td>3.29</td>\n",
       "      <td>35.52</td>\n",
       "      <td>82.0</td>\n",
       "      <td>73.0</td>\n",
       "      <td>8.3</td>\n",
       "      <td>709.0</td>\n",
       "      <td>Nintendo</td>\n",
       "      <td>E</td>\n",
       "    </tr>\n",
       "    <tr>\n",
       "      <th>3</th>\n",
       "      <td>Wii Sports Resort</td>\n",
       "      <td>Wii</td>\n",
       "      <td>2009.0</td>\n",
       "      <td>Sports</td>\n",
       "      <td>Nintendo</td>\n",
       "      <td>15.61</td>\n",
       "      <td>10.93</td>\n",
       "      <td>3.28</td>\n",
       "      <td>2.95</td>\n",
       "      <td>32.77</td>\n",
       "      <td>80.0</td>\n",
       "      <td>73.0</td>\n",
       "      <td>8</td>\n",
       "      <td>192.0</td>\n",
       "      <td>Nintendo</td>\n",
       "      <td>E</td>\n",
       "    </tr>\n",
       "    <tr>\n",
       "      <th>4</th>\n",
       "      <td>Pokemon Red/Pokemon Blue</td>\n",
       "      <td>GB</td>\n",
       "      <td>1996.0</td>\n",
       "      <td>Role-Playing</td>\n",
       "      <td>Nintendo</td>\n",
       "      <td>11.27</td>\n",
       "      <td>8.89</td>\n",
       "      <td>10.22</td>\n",
       "      <td>1.00</td>\n",
       "      <td>31.37</td>\n",
       "      <td>NaN</td>\n",
       "      <td>NaN</td>\n",
       "      <td>NaN</td>\n",
       "      <td>NaN</td>\n",
       "      <td>NaN</td>\n",
       "      <td>NaN</td>\n",
       "    </tr>\n",
       "  </tbody>\n",
       "</table>\n",
       "</div>"
      ],
      "text/plain": [
       "                       Name Platform  Year_of_Release         Genre Publisher  \\\n",
       "0                Wii Sports      Wii           2006.0        Sports  Nintendo   \n",
       "1         Super Mario Bros.      NES           1985.0      Platform  Nintendo   \n",
       "2            Mario Kart Wii      Wii           2008.0        Racing  Nintendo   \n",
       "3         Wii Sports Resort      Wii           2009.0        Sports  Nintendo   \n",
       "4  Pokemon Red/Pokemon Blue       GB           1996.0  Role-Playing  Nintendo   \n",
       "\n",
       "   NA_Sales  EU_Sales  JP_Sales  Other_Sales  Global_Sales  Critic_Score  \\\n",
       "0     41.36     28.96      3.77         8.45         82.53          76.0   \n",
       "1     29.08      3.58      6.81         0.77         40.24           NaN   \n",
       "2     15.68     12.76      3.79         3.29         35.52          82.0   \n",
       "3     15.61     10.93      3.28         2.95         32.77          80.0   \n",
       "4     11.27      8.89     10.22         1.00         31.37           NaN   \n",
       "\n",
       "   Critic_Count User_Score  User_Count Developer Rating  \n",
       "0          51.0          8       322.0  Nintendo      E  \n",
       "1           NaN        NaN         NaN       NaN    NaN  \n",
       "2          73.0        8.3       709.0  Nintendo      E  \n",
       "3          73.0          8       192.0  Nintendo      E  \n",
       "4           NaN        NaN         NaN       NaN    NaN  "
      ]
     },
     "execution_count": 3,
     "metadata": {},
     "output_type": "execute_result"
    }
   ],
   "source": [
    "df.head()"
   ]
  },
  {
   "cell_type": "markdown",
   "metadata": {},
   "source": [
    "***From here we note that the game with the highest global_sales up to 2016 was Wii Sports.***"
   ]
  },
  {
   "cell_type": "code",
   "execution_count": 4,
   "metadata": {},
   "outputs": [
    {
     "name": "stdout",
     "output_type": "stream",
     "text": [
      "<class 'pandas.core.frame.DataFrame'>\n",
      "RangeIndex: 16719 entries, 0 to 16718\n",
      "Data columns (total 16 columns):\n",
      "Name               16717 non-null object\n",
      "Platform           16719 non-null object\n",
      "Year_of_Release    16450 non-null float64\n",
      "Genre              16717 non-null object\n",
      "Publisher          16665 non-null object\n",
      "NA_Sales           16719 non-null float64\n",
      "EU_Sales           16719 non-null float64\n",
      "JP_Sales           16719 non-null float64\n",
      "Other_Sales        16719 non-null float64\n",
      "Global_Sales       16719 non-null float64\n",
      "Critic_Score       8137 non-null float64\n",
      "Critic_Count       8137 non-null float64\n",
      "User_Score         10015 non-null object\n",
      "User_Count         7590 non-null float64\n",
      "Developer          10096 non-null object\n",
      "Rating             9950 non-null object\n",
      "dtypes: float64(9), object(7)\n",
      "memory usage: 2.0+ MB\n"
     ]
    }
   ],
   "source": [
    "df.info()"
   ]
  },
  {
   "cell_type": "markdown",
   "metadata": {},
   "source": [
    "***We see that there are null values for some of the columns. Will drop all null values and consider only complete cases for the purpose of this analysis. Since we are not interested in the regional sales columns, let us first make sure that the null values we are removing are not part of those columns.***"
   ]
  },
  {
   "cell_type": "code",
   "execution_count": 5,
   "metadata": {},
   "outputs": [
    {
     "data": {
      "text/plain": [
       "0"
      ]
     },
     "execution_count": 5,
     "metadata": {},
     "output_type": "execute_result"
    }
   ],
   "source": [
    "sum(df['NA_Sales'].isna())"
   ]
  },
  {
   "cell_type": "code",
   "execution_count": 6,
   "metadata": {},
   "outputs": [
    {
     "data": {
      "text/plain": [
       "0"
      ]
     },
     "execution_count": 6,
     "metadata": {},
     "output_type": "execute_result"
    }
   ],
   "source": [
    "sum(df['EU_Sales'].isna())"
   ]
  },
  {
   "cell_type": "code",
   "execution_count": 7,
   "metadata": {},
   "outputs": [
    {
     "data": {
      "text/plain": [
       "0"
      ]
     },
     "execution_count": 7,
     "metadata": {},
     "output_type": "execute_result"
    }
   ],
   "source": [
    "sum(df['JP_Sales'].isna())"
   ]
  },
  {
   "cell_type": "code",
   "execution_count": 8,
   "metadata": {},
   "outputs": [
    {
     "data": {
      "text/plain": [
       "0"
      ]
     },
     "execution_count": 8,
     "metadata": {},
     "output_type": "execute_result"
    }
   ],
   "source": [
    "sum(df['Other_Sales'].isna())"
   ]
  },
  {
   "cell_type": "markdown",
   "metadata": {},
   "source": [
    "***This means that the null values are coming from the columns we want to use as predictors. Since this is the case, we want to remove those and only consider complete cases for our question***"
   ]
  },
  {
   "cell_type": "code",
   "execution_count": 9,
   "metadata": {
    "collapsed": true
   },
   "outputs": [],
   "source": [
    "df_complete = df.dropna()"
   ]
  },
  {
   "cell_type": "code",
   "execution_count": 10,
   "metadata": {},
   "outputs": [
    {
     "data": {
      "text/html": [
       "<div>\n",
       "<style scoped>\n",
       "    .dataframe tbody tr th:only-of-type {\n",
       "        vertical-align: middle;\n",
       "    }\n",
       "\n",
       "    .dataframe tbody tr th {\n",
       "        vertical-align: top;\n",
       "    }\n",
       "\n",
       "    .dataframe thead th {\n",
       "        text-align: right;\n",
       "    }\n",
       "</style>\n",
       "<table border=\"1\" class=\"dataframe\">\n",
       "  <thead>\n",
       "    <tr style=\"text-align: right;\">\n",
       "      <th></th>\n",
       "      <th>Year_of_Release</th>\n",
       "      <th>NA_Sales</th>\n",
       "      <th>EU_Sales</th>\n",
       "      <th>JP_Sales</th>\n",
       "      <th>Other_Sales</th>\n",
       "      <th>Global_Sales</th>\n",
       "      <th>Critic_Score</th>\n",
       "      <th>Critic_Count</th>\n",
       "      <th>User_Count</th>\n",
       "    </tr>\n",
       "  </thead>\n",
       "  <tbody>\n",
       "    <tr>\n",
       "      <th>count</th>\n",
       "      <td>6825.000000</td>\n",
       "      <td>6825.000000</td>\n",
       "      <td>6825.000000</td>\n",
       "      <td>6825.000000</td>\n",
       "      <td>6825.000000</td>\n",
       "      <td>6825.000000</td>\n",
       "      <td>6825.000000</td>\n",
       "      <td>6825.000000</td>\n",
       "      <td>6825.000000</td>\n",
       "    </tr>\n",
       "    <tr>\n",
       "      <th>mean</th>\n",
       "      <td>2007.436777</td>\n",
       "      <td>0.394484</td>\n",
       "      <td>0.236089</td>\n",
       "      <td>0.064158</td>\n",
       "      <td>0.082677</td>\n",
       "      <td>0.777590</td>\n",
       "      <td>70.272088</td>\n",
       "      <td>28.931136</td>\n",
       "      <td>174.722344</td>\n",
       "    </tr>\n",
       "    <tr>\n",
       "      <th>std</th>\n",
       "      <td>4.211248</td>\n",
       "      <td>0.967385</td>\n",
       "      <td>0.687330</td>\n",
       "      <td>0.287570</td>\n",
       "      <td>0.269871</td>\n",
       "      <td>1.963443</td>\n",
       "      <td>13.868572</td>\n",
       "      <td>19.224165</td>\n",
       "      <td>587.428538</td>\n",
       "    </tr>\n",
       "    <tr>\n",
       "      <th>min</th>\n",
       "      <td>1985.000000</td>\n",
       "      <td>0.000000</td>\n",
       "      <td>0.000000</td>\n",
       "      <td>0.000000</td>\n",
       "      <td>0.000000</td>\n",
       "      <td>0.010000</td>\n",
       "      <td>13.000000</td>\n",
       "      <td>3.000000</td>\n",
       "      <td>4.000000</td>\n",
       "    </tr>\n",
       "    <tr>\n",
       "      <th>25%</th>\n",
       "      <td>2004.000000</td>\n",
       "      <td>0.060000</td>\n",
       "      <td>0.020000</td>\n",
       "      <td>0.000000</td>\n",
       "      <td>0.010000</td>\n",
       "      <td>0.110000</td>\n",
       "      <td>62.000000</td>\n",
       "      <td>14.000000</td>\n",
       "      <td>11.000000</td>\n",
       "    </tr>\n",
       "    <tr>\n",
       "      <th>50%</th>\n",
       "      <td>2007.000000</td>\n",
       "      <td>0.150000</td>\n",
       "      <td>0.060000</td>\n",
       "      <td>0.000000</td>\n",
       "      <td>0.020000</td>\n",
       "      <td>0.290000</td>\n",
       "      <td>72.000000</td>\n",
       "      <td>25.000000</td>\n",
       "      <td>27.000000</td>\n",
       "    </tr>\n",
       "    <tr>\n",
       "      <th>75%</th>\n",
       "      <td>2011.000000</td>\n",
       "      <td>0.390000</td>\n",
       "      <td>0.210000</td>\n",
       "      <td>0.010000</td>\n",
       "      <td>0.070000</td>\n",
       "      <td>0.750000</td>\n",
       "      <td>80.000000</td>\n",
       "      <td>39.000000</td>\n",
       "      <td>89.000000</td>\n",
       "    </tr>\n",
       "    <tr>\n",
       "      <th>max</th>\n",
       "      <td>2016.000000</td>\n",
       "      <td>41.360000</td>\n",
       "      <td>28.960000</td>\n",
       "      <td>6.500000</td>\n",
       "      <td>10.570000</td>\n",
       "      <td>82.530000</td>\n",
       "      <td>98.000000</td>\n",
       "      <td>113.000000</td>\n",
       "      <td>10665.000000</td>\n",
       "    </tr>\n",
       "  </tbody>\n",
       "</table>\n",
       "</div>"
      ],
      "text/plain": [
       "       Year_of_Release     NA_Sales     EU_Sales     JP_Sales  Other_Sales  \\\n",
       "count      6825.000000  6825.000000  6825.000000  6825.000000  6825.000000   \n",
       "mean       2007.436777     0.394484     0.236089     0.064158     0.082677   \n",
       "std           4.211248     0.967385     0.687330     0.287570     0.269871   \n",
       "min        1985.000000     0.000000     0.000000     0.000000     0.000000   \n",
       "25%        2004.000000     0.060000     0.020000     0.000000     0.010000   \n",
       "50%        2007.000000     0.150000     0.060000     0.000000     0.020000   \n",
       "75%        2011.000000     0.390000     0.210000     0.010000     0.070000   \n",
       "max        2016.000000    41.360000    28.960000     6.500000    10.570000   \n",
       "\n",
       "       Global_Sales  Critic_Score  Critic_Count    User_Count  \n",
       "count   6825.000000   6825.000000   6825.000000   6825.000000  \n",
       "mean       0.777590     70.272088     28.931136    174.722344  \n",
       "std        1.963443     13.868572     19.224165    587.428538  \n",
       "min        0.010000     13.000000      3.000000      4.000000  \n",
       "25%        0.110000     62.000000     14.000000     11.000000  \n",
       "50%        0.290000     72.000000     25.000000     27.000000  \n",
       "75%        0.750000     80.000000     39.000000     89.000000  \n",
       "max       82.530000     98.000000    113.000000  10665.000000  "
      ]
     },
     "execution_count": 10,
     "metadata": {},
     "output_type": "execute_result"
    }
   ],
   "source": [
    "df_complete.describe()"
   ]
  },
  {
   "cell_type": "code",
   "execution_count": 11,
   "metadata": {},
   "outputs": [
    {
     "name": "stdout",
     "output_type": "stream",
     "text": [
      "<class 'pandas.core.frame.DataFrame'>\n",
      "Int64Index: 6825 entries, 0 to 16706\n",
      "Data columns (total 16 columns):\n",
      "Name               6825 non-null object\n",
      "Platform           6825 non-null object\n",
      "Year_of_Release    6825 non-null float64\n",
      "Genre              6825 non-null object\n",
      "Publisher          6825 non-null object\n",
      "NA_Sales           6825 non-null float64\n",
      "EU_Sales           6825 non-null float64\n",
      "JP_Sales           6825 non-null float64\n",
      "Other_Sales        6825 non-null float64\n",
      "Global_Sales       6825 non-null float64\n",
      "Critic_Score       6825 non-null float64\n",
      "Critic_Count       6825 non-null float64\n",
      "User_Score         6825 non-null object\n",
      "User_Count         6825 non-null float64\n",
      "Developer          6825 non-null object\n",
      "Rating             6825 non-null object\n",
      "dtypes: float64(9), object(7)\n",
      "memory usage: 906.4+ KB\n"
     ]
    }
   ],
   "source": [
    "df_complete.info()"
   ]
  },
  {
   "cell_type": "markdown",
   "metadata": {},
   "source": [
    "***We see that User_Score is incorrectly an object instead of a float64 value. Since it is a numerical value it should be a float64 type. Need to change this***\n",
    "\n",
    "***All Objects except Name should be categories.***"
   ]
  },
  {
   "cell_type": "code",
   "execution_count": 12,
   "metadata": {
    "collapsed": true
   },
   "outputs": [],
   "source": [
    "df2 = df_complete.copy()"
   ]
  },
  {
   "cell_type": "code",
   "execution_count": 13,
   "metadata": {
    "collapsed": true
   },
   "outputs": [],
   "source": [
    "df2['User_Score'] = df_complete['User_Score'].astype(float)\n",
    "df2['Platform'] = df_complete['Platform'].astype('category')\n",
    "df2['Genre'] = df_complete['Genre'].astype('category')\n",
    "df2['Rating'] = df_complete['Rating'].astype('category')\n",
    "df2['Publisher'] = df_complete['Publisher'].astype('category')"
   ]
  },
  {
   "cell_type": "code",
   "execution_count": 14,
   "metadata": {},
   "outputs": [
    {
     "name": "stdout",
     "output_type": "stream",
     "text": [
      "<class 'pandas.core.frame.DataFrame'>\n",
      "Int64Index: 6825 entries, 0 to 16706\n",
      "Data columns (total 16 columns):\n",
      "Name               6825 non-null object\n",
      "Platform           6825 non-null category\n",
      "Year_of_Release    6825 non-null float64\n",
      "Genre              6825 non-null category\n",
      "Publisher          6825 non-null category\n",
      "NA_Sales           6825 non-null float64\n",
      "EU_Sales           6825 non-null float64\n",
      "JP_Sales           6825 non-null float64\n",
      "Other_Sales        6825 non-null float64\n",
      "Global_Sales       6825 non-null float64\n",
      "Critic_Score       6825 non-null float64\n",
      "Critic_Count       6825 non-null float64\n",
      "User_Score         6825 non-null float64\n",
      "User_Count         6825 non-null float64\n",
      "Developer          6825 non-null object\n",
      "Rating             6825 non-null category\n",
      "dtypes: category(4), float64(10), object(2)\n",
      "memory usage: 740.1+ KB\n"
     ]
    }
   ],
   "source": [
    "df2.info()"
   ]
  },
  {
   "cell_type": "code",
   "execution_count": 15,
   "metadata": {},
   "outputs": [
    {
     "data": {
      "text/plain": [
       "PS2     1140\n",
       "X360     858\n",
       "PS3      769\n",
       "PC       651\n",
       "XB       565\n",
       "Wii      479\n",
       "DS       464\n",
       "PSP      390\n",
       "GC       348\n",
       "PS4      239\n",
       "GBA      237\n",
       "XOne     159\n",
       "3DS      155\n",
       "PS       150\n",
       "PSV      118\n",
       "WiiU      89\n",
       "DC        14\n",
       "Name: Platform, dtype: int64"
      ]
     },
     "execution_count": 15,
     "metadata": {},
     "output_type": "execute_result"
    }
   ],
   "source": [
    "df2['Platform'].value_counts()"
   ]
  },
  {
   "cell_type": "markdown",
   "metadata": {},
   "source": [
    "***DC(Dreamcast) has a low sample size. I'll combine this with the WiiU category and rename it to 'Other'.***"
   ]
  },
  {
   "cell_type": "code",
   "execution_count": 16,
   "metadata": {
    "collapsed": true
   },
   "outputs": [],
   "source": [
    "df2['Platform'] = df['Platform'].replace({'WiiU' : 'Other', 'DC' : 'Other'})"
   ]
  },
  {
   "cell_type": "code",
   "execution_count": 17,
   "metadata": {},
   "outputs": [
    {
     "data": {
      "text/plain": [
       "PS2      1140\n",
       "X360      858\n",
       "PS3       769\n",
       "PC        651\n",
       "XB        565\n",
       "Wii       479\n",
       "DS        464\n",
       "PSP       390\n",
       "GC        348\n",
       "PS4       239\n",
       "GBA       237\n",
       "XOne      159\n",
       "3DS       155\n",
       "PS        150\n",
       "PSV       118\n",
       "Other     103\n",
       "Name: Platform, dtype: int64"
      ]
     },
     "execution_count": 17,
     "metadata": {},
     "output_type": "execute_result"
    }
   ],
   "source": [
    "df2['Platform'].value_counts()"
   ]
  },
  {
   "cell_type": "code",
   "execution_count": 18,
   "metadata": {},
   "outputs": [
    {
     "data": {
      "text/plain": [
       "Action          1630\n",
       "Sports           943\n",
       "Shooter          864\n",
       "Role-Playing     712\n",
       "Racing           581\n",
       "Platform         403\n",
       "Misc             384\n",
       "Fighting         378\n",
       "Simulation       297\n",
       "Strategy         267\n",
       "Adventure        248\n",
       "Puzzle           118\n",
       "Name: Genre, dtype: int64"
      ]
     },
     "execution_count": 18,
     "metadata": {},
     "output_type": "execute_result"
    }
   ],
   "source": [
    "df2['Genre'].value_counts()"
   ]
  },
  {
   "cell_type": "markdown",
   "metadata": {},
   "source": [
    "***All categories are appropriate here.***"
   ]
  },
  {
   "cell_type": "code",
   "execution_count": 19,
   "metadata": {},
   "outputs": [
    {
     "data": {
      "text/plain": [
       "Electronic Arts                           944\n",
       "Ubisoft                                   496\n",
       "Activision                                492\n",
       "Sony Computer Entertainment               316\n",
       "THQ                                       307\n",
       "Nintendo                                  291\n",
       "Sega                                      284\n",
       "Take-Two Interactive                      273\n",
       "Konami Digital Entertainment              244\n",
       "Namco Bandai Games                        239\n",
       "Capcom                                    197\n",
       "Atari                                     176\n",
       "Microsoft Game Studios                    141\n",
       "Tecmo Koei                                137\n",
       "Square Enix                               134\n",
       "Warner Bros. Interactive Entertainment    130\n",
       "Eidos Interactive                         123\n",
       "Vivendi Games                             113\n",
       "Codemasters                               111\n",
       "Midway Games                              103\n",
       "505 Games                                  80\n",
       "Deep Silver                                76\n",
       "Disney Interactive Studios                 74\n",
       "LucasArts                                  70\n",
       "Acclaim Entertainment                      66\n",
       "Nippon Ichi Software                       60\n",
       "Rising Star Games                          52\n",
       "Bethesda Softworks                         46\n",
       "D3Publisher                                35\n",
       "Focus Home Interactive                     31\n",
       "Ignition Entertainment                     30\n",
       "Empire Interactive                         27\n",
       "Atlus                                      25\n",
       "Zoo Digital Publishing                     24\n",
       "Unknown                                    24\n",
       "Majesco Entertainment                      23\n",
       "Kalypso Media                              22\n",
       "PQube                                      22\n",
       "SouthPeak Games                            21\n",
       "TDK Mediactive                             21\n",
       "Global Star                                20\n",
       "Virgin Interactive                         19\n",
       "Universal Interactive                      18\n",
       "MTV Games                                  16\n",
       "3DO                                        15\n",
       "Infogrames                                 14\n",
       "Paradox Interactive                        13\n",
       "Ubisoft Annecy                             12\n",
       "DTP Entertainment                          12\n",
       "Crave Entertainment                        11\n",
       "Name: Publisher, dtype: int64"
      ]
     },
     "execution_count": 19,
     "metadata": {},
     "output_type": "execute_result"
    }
   ],
   "source": [
    "df2['Publisher'].value_counts().head(50)"
   ]
  },
  {
   "cell_type": "markdown",
   "metadata": {},
   "source": [
    "***There are too many categories here. I will combine everything from Empire Interactive and under into an 'Other' category.***"
   ]
  },
  {
   "cell_type": "code",
   "execution_count": 20,
   "metadata": {},
   "outputs": [
    {
     "data": {
      "text/plain": [
       "Other                                     954\n",
       "Electronic Arts                           944\n",
       "Ubisoft                                   496\n",
       "Activision                                492\n",
       "Sony Computer Entertainment               316\n",
       "THQ                                       307\n",
       "Nintendo                                  291\n",
       "Sega                                      284\n",
       "Take-Two Interactive                      273\n",
       "Konami Digital Entertainment              244\n",
       "Namco Bandai Games                        239\n",
       "Capcom                                    197\n",
       "Atari                                     176\n",
       "Microsoft Game Studios                    141\n",
       "Tecmo Koei                                137\n",
       "Square Enix                               134\n",
       "Warner Bros. Interactive Entertainment    130\n",
       "Eidos Interactive                         123\n",
       "Vivendi Games                             113\n",
       "Codemasters                               111\n",
       "Midway Games                              103\n",
       "505 Games                                  80\n",
       "Deep Silver                                76\n",
       "Disney Interactive Studios                 74\n",
       "LucasArts                                  70\n",
       "Acclaim Entertainment                      66\n",
       "Nippon Ichi Software                       60\n",
       "Rising Star Games                          52\n",
       "Bethesda Softworks                         46\n",
       "D3Publisher                                35\n",
       "Focus Home Interactive                     31\n",
       "Ignition Entertainment                     30\n",
       "Name: Publisher, dtype: int64"
      ]
     },
     "execution_count": 20,
     "metadata": {},
     "output_type": "execute_result"
    }
   ],
   "source": [
    "Publisher = []\n",
    "Main = ['Electronic Arts', 'Ubisoft', 'Activision', 'Sony Computer Entertainment', 'THQ', 'Nintendo', 'Sega', 'Take-Two Interactive',\n",
    "       'Konami Digital Entertainment', 'Namco Bandai Games', 'Capcom', 'Atari', 'Microsoft Game Studios', 'Tecmo Koei', 'Square Enix',\n",
    "       'Warner Bros. Interactive Entertainment', 'Eidos Interactive', 'Vivendi Games', 'Codemasters', 'Midway Games', '505 Games',\n",
    "       'Deep Silver', 'Disney Interactive Studios', 'LucasArts', 'Acclaim Entertainment', 'Nippon Ichi Software', 'Rising Star Games',\n",
    "       'Bethesda Softworks', 'D3Publisher', 'Focus Home Interactive', 'Ignition Entertainment']\n",
    "\n",
    "for publisher in df2['Publisher']:\n",
    "    if publisher in Main:\n",
    "        Publisher.append(publisher)\n",
    "    else:\n",
    "        Publisher.append('Other')\n",
    "\n",
    "df2['Publisher'] = Publisher\n",
    "df2['Publisher'].value_counts()"
   ]
  },
  {
   "cell_type": "code",
   "execution_count": 21,
   "metadata": {},
   "outputs": [
    {
     "data": {
      "text/plain": [
       "EA Canada                         149\n",
       "EA Sports                         142\n",
       "Capcom                            126\n",
       "Ubisoft                           103\n",
       "Konami                             95\n",
       "Ubisoft Montreal                   87\n",
       "EA Tiburon                         82\n",
       "Omega Force                        69\n",
       "Visual Concepts                    68\n",
       "Nintendo                           68\n",
       "Electronic Arts                    67\n",
       "Traveller's Tales                  59\n",
       "Codemasters                        57\n",
       "Vicarious Visions                  57\n",
       "Namco                              55\n",
       "Yuke's                             48\n",
       "TT Games                           43\n",
       "Maxis                              42\n",
       "Neversoft Entertainment            42\n",
       "Midway                             42\n",
       "From Software                      41\n",
       "Treyarch                           41\n",
       "Eurocom Entertainment Software     40\n",
       "Square Enix                        39\n",
       "Sonic Team                         35\n",
       "TOSE                               34\n",
       "Radical Entertainment              33\n",
       "Arc System Works                   32\n",
       "Sega                               32\n",
       "Rebellion                          30\n",
       "High Voltage Software              30\n",
       "Artificial Mind and Movement       29\n",
       "Harmonix Music Systems             28\n",
       "Koei                               27\n",
       "Climax Group                       26\n",
       "Gearbox Software                   26\n",
       "SCEA San Diego Studios             25\n",
       "Rainbow Studios                    25\n",
       "KCET                               24\n",
       "Criterion Games                    24\n",
       "EA Games                           24\n",
       "EA DICE                            24\n",
       "Krome Studios                      24\n",
       "Acclaim                            23\n",
       "Ubisoft Shanghai                   23\n",
       "Griptonite Games                   23\n",
       "BioWare                            22\n",
       "CyberConnect2                      22\n",
       "Exient Entertainment               22\n",
       "Team 17                            21\n",
       "LucasArts                          21\n",
       "Name: Developer, dtype: int64"
      ]
     },
     "execution_count": 21,
     "metadata": {},
     "output_type": "execute_result"
    }
   ],
   "source": [
    "df2['Developer'].value_counts().head(51)"
   ]
  },
  {
   "cell_type": "markdown",
   "metadata": {},
   "source": [
    "***There are too many categories here as well. Will include the first 50 categories. Will throw the other ones into the 'Other' Category***"
   ]
  },
  {
   "cell_type": "code",
   "execution_count": 22,
   "metadata": {},
   "outputs": [
    {
     "data": {
      "text/plain": [
       "Other                             4475\n",
       "EA Canada                          149\n",
       "EA Sports                          142\n",
       "Capcom                             126\n",
       "Ubisoft                            103\n",
       "Konami                              95\n",
       "Ubisoft Montreal                    87\n",
       "EA Tiburon                          82\n",
       "Omega Force                         69\n",
       "Visual Concepts                     68\n",
       "Nintendo                            68\n",
       "Electronic Arts                     67\n",
       "Traveller's Tales                   59\n",
       "Codemasters                         57\n",
       "Vicarious Visions                   57\n",
       "Namco                               55\n",
       "Yuke's                              48\n",
       "TT Games                            43\n",
       "Maxis                               42\n",
       "Neversoft Entertainment             42\n",
       "Midway                              42\n",
       "From Software                       41\n",
       "Treyarch                            41\n",
       "Eurocom Entertainment Software      40\n",
       "Square Enix                         39\n",
       "Sonic Team                          35\n",
       "TOSE                                34\n",
       "Radical Entertainment               33\n",
       "Sega                                32\n",
       "Arc System Works                    32\n",
       "High Voltage Software               30\n",
       "Rebellion                           30\n",
       "Artificial Mind and Movement        29\n",
       "Harmonix Music Systems              28\n",
       "Koei                                27\n",
       "Climax Group                        26\n",
       "Gearbox Software                    26\n",
       "SCEA San Diego Studios              25\n",
       "Rainbow Studios                     25\n",
       "KCET                                24\n",
       "Criterion Games                     24\n",
       "EA Games                            24\n",
       "Krome Studios                       24\n",
       "EA DICE                             24\n",
       "Ubisoft Shanghai                    23\n",
       "Acclaim                             23\n",
       "Griptonite Games                    23\n",
       "Exient Entertainment                22\n",
       "CyberConnect2                       22\n",
       "BioWare                             22\n",
       "Volition Inc.                       21\n",
       "Name: Developer, dtype: int64"
      ]
     },
     "execution_count": 22,
     "metadata": {},
     "output_type": "execute_result"
    }
   ],
   "source": [
    "Developer = []\n",
    "Main = ['EA Canada', 'EA Sports', 'Capcom', 'Ubisoft', 'Konami', 'Ubisoft Montreal', 'EA Tiburon', 'Omega Force', 'Visual Concepts',\n",
    "       'Nintendo', 'Electronic Arts', \"Traveller's Tales\", 'Vicarious Visions', 'Codemasters', 'Namco', \"Yuke's\", 'TT Games',\n",
    "       'Maxis', 'Neversoft Entertainment', 'Midway', 'Treyarch', 'From Software', 'Eurocom Entertainment Software', 'Square Enix',\n",
    "       'Sonic Team', 'TOSE', 'Radical Entertainment', 'Sega', 'Arc System Works', 'Rebellion', 'High Voltage Software',\n",
    "       'Artificial Mind and Movement', 'Harmonix Music Systems', 'Koei', 'Climax Group', 'Gearbox Software', 'SCEA San Diego Studios',\n",
    "       'Rainbow Studios', 'KCET', 'EA DICE', 'EA Games', 'Krome Studios', 'Criterion Games', 'Griptonite Games', 'Acclaim', \n",
    "       'Ubisoft Shanghai', 'CyberConnect2', 'BioWare', 'Exient Entertainment', 'Volition Inc.']\n",
    "\n",
    "for developer in df2['Developer']:\n",
    "    if developer in Main:\n",
    "        Developer.append(developer)\n",
    "    else:\n",
    "        Developer.append('Other')\n",
    "\n",
    "df2['Developer'] = Developer\n",
    "df2['Developer'].value_counts()"
   ]
  },
  {
   "cell_type": "markdown",
   "metadata": {},
   "source": [
    "***It could be interesting to know if the publisher was the same as the developer. Will create a new column for that.***\n",
    "\n",
    "***First reset the index.***"
   ]
  },
  {
   "cell_type": "code",
   "execution_count": 23,
   "metadata": {
    "collapsed": true
   },
   "outputs": [],
   "source": [
    "df2 = df2.reset_index()"
   ]
  },
  {
   "cell_type": "code",
   "execution_count": 24,
   "metadata": {
    "collapsed": true
   },
   "outputs": [],
   "source": [
    "del df2['index']"
   ]
  },
  {
   "cell_type": "code",
   "execution_count": 25,
   "metadata": {
    "collapsed": true
   },
   "outputs": [],
   "source": [
    "Dev_same_publisher = []\n",
    "\n",
    "for row in range(0, len(df2)):\n",
    "    if (df2.loc[row, 'Publisher'] == df2.loc[row, 'Developer']):\n",
    "        Dev_same_publisher.append(1)\n",
    "    else:\n",
    "        Dev_same_publisher.append(0)\n",
    "\n",
    "df3 = df2.copy()\n",
    "df3['Dev_same_publisher'] = Dev_same_publisher"
   ]
  },
  {
   "cell_type": "code",
   "execution_count": 26,
   "metadata": {},
   "outputs": [
    {
     "data": {
      "text/plain": [
       "0    5520\n",
       "1    1305\n",
       "Name: Dev_same_publisher, dtype: int64"
      ]
     },
     "execution_count": 26,
     "metadata": {},
     "output_type": "execute_result"
    }
   ],
   "source": [
    "df3['Dev_same_publisher'].value_counts()"
   ]
  },
  {
   "cell_type": "code",
   "execution_count": 27,
   "metadata": {},
   "outputs": [
    {
     "data": {
      "text/plain": [
       "T       2377\n",
       "E       2082\n",
       "M       1433\n",
       "E10+     930\n",
       "RP         1\n",
       "K-A        1\n",
       "AO         1\n",
       "Name: Rating, dtype: int64"
      ]
     },
     "execution_count": 27,
     "metadata": {},
     "output_type": "execute_result"
    }
   ],
   "source": [
    "df3['Rating'].value_counts()"
   ]
  },
  {
   "cell_type": "markdown",
   "metadata": {},
   "source": [
    "***K-A is Kids to adults which is the same as E for everyone. Will throw K-A with E. RP is Rating Pending, will also combine with T the most populated category.***"
   ]
  },
  {
   "cell_type": "code",
   "execution_count": 28,
   "metadata": {
    "collapsed": true
   },
   "outputs": [],
   "source": [
    "df3['Rating'] = df3['Rating'].replace({'K-A' : 'E', 'RP' : 'T'})"
   ]
  },
  {
   "cell_type": "code",
   "execution_count": 29,
   "metadata": {},
   "outputs": [
    {
     "data": {
      "text/html": [
       "<div>\n",
       "<style scoped>\n",
       "    .dataframe tbody tr th:only-of-type {\n",
       "        vertical-align: middle;\n",
       "    }\n",
       "\n",
       "    .dataframe tbody tr th {\n",
       "        vertical-align: top;\n",
       "    }\n",
       "\n",
       "    .dataframe thead th {\n",
       "        text-align: right;\n",
       "    }\n",
       "</style>\n",
       "<table border=\"1\" class=\"dataframe\">\n",
       "  <thead>\n",
       "    <tr style=\"text-align: right;\">\n",
       "      <th></th>\n",
       "      <th>Name</th>\n",
       "      <th>Platform</th>\n",
       "      <th>Year_of_Release</th>\n",
       "      <th>Genre</th>\n",
       "      <th>Publisher</th>\n",
       "      <th>NA_Sales</th>\n",
       "      <th>EU_Sales</th>\n",
       "      <th>JP_Sales</th>\n",
       "      <th>Other_Sales</th>\n",
       "      <th>Global_Sales</th>\n",
       "      <th>Critic_Score</th>\n",
       "      <th>Critic_Count</th>\n",
       "      <th>User_Score</th>\n",
       "      <th>User_Count</th>\n",
       "      <th>Developer</th>\n",
       "      <th>Rating</th>\n",
       "      <th>Dev_same_publisher</th>\n",
       "    </tr>\n",
       "  </thead>\n",
       "  <tbody>\n",
       "    <tr>\n",
       "      <th>578</th>\n",
       "      <td>Grand Theft Auto: San Andreas</td>\n",
       "      <td>XB</td>\n",
       "      <td>2005.0</td>\n",
       "      <td>Action</td>\n",
       "      <td>Take-Two Interactive</td>\n",
       "      <td>1.26</td>\n",
       "      <td>0.61</td>\n",
       "      <td>0.0</td>\n",
       "      <td>0.09</td>\n",
       "      <td>1.95</td>\n",
       "      <td>93.0</td>\n",
       "      <td>58.0</td>\n",
       "      <td>8.6</td>\n",
       "      <td>118.0</td>\n",
       "      <td>Other</td>\n",
       "      <td>AO</td>\n",
       "      <td>0</td>\n",
       "    </tr>\n",
       "  </tbody>\n",
       "</table>\n",
       "</div>"
      ],
      "text/plain": [
       "                              Name Platform  Year_of_Release   Genre  \\\n",
       "578  Grand Theft Auto: San Andreas       XB           2005.0  Action   \n",
       "\n",
       "                Publisher  NA_Sales  EU_Sales  JP_Sales  Other_Sales  \\\n",
       "578  Take-Two Interactive      1.26      0.61       0.0         0.09   \n",
       "\n",
       "     Global_Sales  Critic_Score  Critic_Count  User_Score  User_Count  \\\n",
       "578          1.95          93.0          58.0         8.6       118.0   \n",
       "\n",
       "    Developer Rating  Dev_same_publisher  \n",
       "578     Other     AO                   0  "
      ]
     },
     "execution_count": 29,
     "metadata": {},
     "output_type": "execute_result"
    }
   ],
   "source": [
    "df3[df3['Rating'] == 'AO']"
   ]
  },
  {
   "cell_type": "markdown",
   "metadata": {},
   "source": [
    "***Will throw this title in with the M for Mature category. This title was originally released as as M with a controvesial scene added later. For the purposes of this analysis better to combine with M.***"
   ]
  },
  {
   "cell_type": "code",
   "execution_count": 30,
   "metadata": {
    "collapsed": true
   },
   "outputs": [],
   "source": [
    "df3['Rating'] = df3['Rating'].replace({'AO' : 'M'})"
   ]
  },
  {
   "cell_type": "code",
   "execution_count": 31,
   "metadata": {},
   "outputs": [
    {
     "data": {
      "text/plain": [
       "T       2378\n",
       "E       2083\n",
       "M       1434\n",
       "E10+     930\n",
       "Name: Rating, dtype: int64"
      ]
     },
     "execution_count": 31,
     "metadata": {},
     "output_type": "execute_result"
    }
   ],
   "source": [
    "df3['Rating'].value_counts()"
   ]
  },
  {
   "cell_type": "markdown",
   "metadata": {},
   "source": [
    "***Examine the data again.***"
   ]
  },
  {
   "cell_type": "code",
   "execution_count": 32,
   "metadata": {},
   "outputs": [
    {
     "data": {
      "text/html": [
       "<div>\n",
       "<style scoped>\n",
       "    .dataframe tbody tr th:only-of-type {\n",
       "        vertical-align: middle;\n",
       "    }\n",
       "\n",
       "    .dataframe tbody tr th {\n",
       "        vertical-align: top;\n",
       "    }\n",
       "\n",
       "    .dataframe thead th {\n",
       "        text-align: right;\n",
       "    }\n",
       "</style>\n",
       "<table border=\"1\" class=\"dataframe\">\n",
       "  <thead>\n",
       "    <tr style=\"text-align: right;\">\n",
       "      <th></th>\n",
       "      <th>Year_of_Release</th>\n",
       "      <th>NA_Sales</th>\n",
       "      <th>EU_Sales</th>\n",
       "      <th>JP_Sales</th>\n",
       "      <th>Other_Sales</th>\n",
       "      <th>Global_Sales</th>\n",
       "      <th>Critic_Score</th>\n",
       "      <th>Critic_Count</th>\n",
       "      <th>User_Score</th>\n",
       "      <th>User_Count</th>\n",
       "      <th>Dev_same_publisher</th>\n",
       "    </tr>\n",
       "  </thead>\n",
       "  <tbody>\n",
       "    <tr>\n",
       "      <th>count</th>\n",
       "      <td>6825.000000</td>\n",
       "      <td>6825.000000</td>\n",
       "      <td>6825.000000</td>\n",
       "      <td>6825.000000</td>\n",
       "      <td>6825.000000</td>\n",
       "      <td>6825.000000</td>\n",
       "      <td>6825.000000</td>\n",
       "      <td>6825.000000</td>\n",
       "      <td>6825.000000</td>\n",
       "      <td>6825.000000</td>\n",
       "      <td>6825.000000</td>\n",
       "    </tr>\n",
       "    <tr>\n",
       "      <th>mean</th>\n",
       "      <td>2007.436777</td>\n",
       "      <td>0.394484</td>\n",
       "      <td>0.236089</td>\n",
       "      <td>0.064158</td>\n",
       "      <td>0.082677</td>\n",
       "      <td>0.777590</td>\n",
       "      <td>70.272088</td>\n",
       "      <td>28.931136</td>\n",
       "      <td>7.185626</td>\n",
       "      <td>174.722344</td>\n",
       "      <td>0.191209</td>\n",
       "    </tr>\n",
       "    <tr>\n",
       "      <th>std</th>\n",
       "      <td>4.211248</td>\n",
       "      <td>0.967385</td>\n",
       "      <td>0.687330</td>\n",
       "      <td>0.287570</td>\n",
       "      <td>0.269871</td>\n",
       "      <td>1.963443</td>\n",
       "      <td>13.868572</td>\n",
       "      <td>19.224165</td>\n",
       "      <td>1.439942</td>\n",
       "      <td>587.428538</td>\n",
       "      <td>0.393282</td>\n",
       "    </tr>\n",
       "    <tr>\n",
       "      <th>min</th>\n",
       "      <td>1985.000000</td>\n",
       "      <td>0.000000</td>\n",
       "      <td>0.000000</td>\n",
       "      <td>0.000000</td>\n",
       "      <td>0.000000</td>\n",
       "      <td>0.010000</td>\n",
       "      <td>13.000000</td>\n",
       "      <td>3.000000</td>\n",
       "      <td>0.500000</td>\n",
       "      <td>4.000000</td>\n",
       "      <td>0.000000</td>\n",
       "    </tr>\n",
       "    <tr>\n",
       "      <th>25%</th>\n",
       "      <td>2004.000000</td>\n",
       "      <td>0.060000</td>\n",
       "      <td>0.020000</td>\n",
       "      <td>0.000000</td>\n",
       "      <td>0.010000</td>\n",
       "      <td>0.110000</td>\n",
       "      <td>62.000000</td>\n",
       "      <td>14.000000</td>\n",
       "      <td>6.500000</td>\n",
       "      <td>11.000000</td>\n",
       "      <td>0.000000</td>\n",
       "    </tr>\n",
       "    <tr>\n",
       "      <th>50%</th>\n",
       "      <td>2007.000000</td>\n",
       "      <td>0.150000</td>\n",
       "      <td>0.060000</td>\n",
       "      <td>0.000000</td>\n",
       "      <td>0.020000</td>\n",
       "      <td>0.290000</td>\n",
       "      <td>72.000000</td>\n",
       "      <td>25.000000</td>\n",
       "      <td>7.500000</td>\n",
       "      <td>27.000000</td>\n",
       "      <td>0.000000</td>\n",
       "    </tr>\n",
       "    <tr>\n",
       "      <th>75%</th>\n",
       "      <td>2011.000000</td>\n",
       "      <td>0.390000</td>\n",
       "      <td>0.210000</td>\n",
       "      <td>0.010000</td>\n",
       "      <td>0.070000</td>\n",
       "      <td>0.750000</td>\n",
       "      <td>80.000000</td>\n",
       "      <td>39.000000</td>\n",
       "      <td>8.200000</td>\n",
       "      <td>89.000000</td>\n",
       "      <td>0.000000</td>\n",
       "    </tr>\n",
       "    <tr>\n",
       "      <th>max</th>\n",
       "      <td>2016.000000</td>\n",
       "      <td>41.360000</td>\n",
       "      <td>28.960000</td>\n",
       "      <td>6.500000</td>\n",
       "      <td>10.570000</td>\n",
       "      <td>82.530000</td>\n",
       "      <td>98.000000</td>\n",
       "      <td>113.000000</td>\n",
       "      <td>9.600000</td>\n",
       "      <td>10665.000000</td>\n",
       "      <td>1.000000</td>\n",
       "    </tr>\n",
       "  </tbody>\n",
       "</table>\n",
       "</div>"
      ],
      "text/plain": [
       "       Year_of_Release     NA_Sales     EU_Sales     JP_Sales  Other_Sales  \\\n",
       "count      6825.000000  6825.000000  6825.000000  6825.000000  6825.000000   \n",
       "mean       2007.436777     0.394484     0.236089     0.064158     0.082677   \n",
       "std           4.211248     0.967385     0.687330     0.287570     0.269871   \n",
       "min        1985.000000     0.000000     0.000000     0.000000     0.000000   \n",
       "25%        2004.000000     0.060000     0.020000     0.000000     0.010000   \n",
       "50%        2007.000000     0.150000     0.060000     0.000000     0.020000   \n",
       "75%        2011.000000     0.390000     0.210000     0.010000     0.070000   \n",
       "max        2016.000000    41.360000    28.960000     6.500000    10.570000   \n",
       "\n",
       "       Global_Sales  Critic_Score  Critic_Count   User_Score    User_Count  \\\n",
       "count   6825.000000   6825.000000   6825.000000  6825.000000   6825.000000   \n",
       "mean       0.777590     70.272088     28.931136     7.185626    174.722344   \n",
       "std        1.963443     13.868572     19.224165     1.439942    587.428538   \n",
       "min        0.010000     13.000000      3.000000     0.500000      4.000000   \n",
       "25%        0.110000     62.000000     14.000000     6.500000     11.000000   \n",
       "50%        0.290000     72.000000     25.000000     7.500000     27.000000   \n",
       "75%        0.750000     80.000000     39.000000     8.200000     89.000000   \n",
       "max       82.530000     98.000000    113.000000     9.600000  10665.000000   \n",
       "\n",
       "       Dev_same_publisher  \n",
       "count         6825.000000  \n",
       "mean             0.191209  \n",
       "std              0.393282  \n",
       "min              0.000000  \n",
       "25%              0.000000  \n",
       "50%              0.000000  \n",
       "75%              0.000000  \n",
       "max              1.000000  "
      ]
     },
     "execution_count": 32,
     "metadata": {},
     "output_type": "execute_result"
    }
   ],
   "source": [
    "df3.describe()"
   ]
  },
  {
   "cell_type": "markdown",
   "metadata": {},
   "source": [
    "***We see that the minimum critic count and user count are 3 and 4 respectively. Check how many there are:***"
   ]
  },
  {
   "cell_type": "code",
   "execution_count": 33,
   "metadata": {},
   "outputs": [
    {
     "data": {
      "text/plain": [
       "1954"
      ]
     },
     "execution_count": 33,
     "metadata": {},
     "output_type": "execute_result"
    }
   ],
   "source": [
    "len(df3[(df3['Critic_Count'] < 10) | (df3['User_Count'] < 10)])"
   ]
  },
  {
   "cell_type": "markdown",
   "metadata": {},
   "source": [
    "***There are 1954 rows where this occurs. I will not remove these rows since there are so many. Since we are including both the critic rating and user rating, it's okay to leave the low number of votes in the data because we also have those as possible predictors.***\n",
    "\n",
    "***Instead of year_of_release, it can be more useful to know how long the game has been out. Since the data is collected at the end of 2016, I will assume any game released in 2016 has been out for a year. 2015 for 2 years, etc.***"
   ]
  },
  {
   "cell_type": "code",
   "execution_count": 34,
   "metadata": {
    "collapsed": true
   },
   "outputs": [],
   "source": [
    "Years_since_release = []\n",
    "\n",
    "for year in df3['Year_of_Release']:\n",
    "    value_to_add = 2017 - year\n",
    "    Years_since_release.append(value_to_add)\n",
    "\n",
    "df3['Years_Since_Release'] = Years_since_release"
   ]
  },
  {
   "cell_type": "markdown",
   "metadata": {},
   "source": [
    "***Create a column for if a game is good. Will assign the value 1 if the User_Score >= 8.***"
   ]
  },
  {
   "cell_type": "code",
   "execution_count": 35,
   "metadata": {},
   "outputs": [
    {
     "data": {
      "text/html": [
       "<div>\n",
       "<style scoped>\n",
       "    .dataframe tbody tr th:only-of-type {\n",
       "        vertical-align: middle;\n",
       "    }\n",
       "\n",
       "    .dataframe tbody tr th {\n",
       "        vertical-align: top;\n",
       "    }\n",
       "\n",
       "    .dataframe thead th {\n",
       "        text-align: right;\n",
       "    }\n",
       "</style>\n",
       "<table border=\"1\" class=\"dataframe\">\n",
       "  <thead>\n",
       "    <tr style=\"text-align: right;\">\n",
       "      <th></th>\n",
       "      <th>Name</th>\n",
       "      <th>Platform</th>\n",
       "      <th>Year_of_Release</th>\n",
       "      <th>Genre</th>\n",
       "      <th>Publisher</th>\n",
       "      <th>NA_Sales</th>\n",
       "      <th>EU_Sales</th>\n",
       "      <th>JP_Sales</th>\n",
       "      <th>Other_Sales</th>\n",
       "      <th>Global_Sales</th>\n",
       "      <th>Critic_Score</th>\n",
       "      <th>Critic_Count</th>\n",
       "      <th>User_Score</th>\n",
       "      <th>User_Count</th>\n",
       "      <th>Developer</th>\n",
       "      <th>Rating</th>\n",
       "      <th>Dev_same_publisher</th>\n",
       "      <th>Years_Since_Release</th>\n",
       "      <th>Good</th>\n",
       "    </tr>\n",
       "  </thead>\n",
       "  <tbody>\n",
       "    <tr>\n",
       "      <th>0</th>\n",
       "      <td>Wii Sports</td>\n",
       "      <td>Wii</td>\n",
       "      <td>2006.0</td>\n",
       "      <td>Sports</td>\n",
       "      <td>Nintendo</td>\n",
       "      <td>41.36</td>\n",
       "      <td>28.96</td>\n",
       "      <td>3.77</td>\n",
       "      <td>8.45</td>\n",
       "      <td>82.53</td>\n",
       "      <td>76.0</td>\n",
       "      <td>51.0</td>\n",
       "      <td>8.0</td>\n",
       "      <td>322.0</td>\n",
       "      <td>Nintendo</td>\n",
       "      <td>E</td>\n",
       "      <td>1</td>\n",
       "      <td>11.0</td>\n",
       "      <td>1</td>\n",
       "    </tr>\n",
       "    <tr>\n",
       "      <th>1</th>\n",
       "      <td>Mario Kart Wii</td>\n",
       "      <td>Wii</td>\n",
       "      <td>2008.0</td>\n",
       "      <td>Racing</td>\n",
       "      <td>Nintendo</td>\n",
       "      <td>15.68</td>\n",
       "      <td>12.76</td>\n",
       "      <td>3.79</td>\n",
       "      <td>3.29</td>\n",
       "      <td>35.52</td>\n",
       "      <td>82.0</td>\n",
       "      <td>73.0</td>\n",
       "      <td>8.3</td>\n",
       "      <td>709.0</td>\n",
       "      <td>Nintendo</td>\n",
       "      <td>E</td>\n",
       "      <td>1</td>\n",
       "      <td>9.0</td>\n",
       "      <td>1</td>\n",
       "    </tr>\n",
       "    <tr>\n",
       "      <th>2</th>\n",
       "      <td>Wii Sports Resort</td>\n",
       "      <td>Wii</td>\n",
       "      <td>2009.0</td>\n",
       "      <td>Sports</td>\n",
       "      <td>Nintendo</td>\n",
       "      <td>15.61</td>\n",
       "      <td>10.93</td>\n",
       "      <td>3.28</td>\n",
       "      <td>2.95</td>\n",
       "      <td>32.77</td>\n",
       "      <td>80.0</td>\n",
       "      <td>73.0</td>\n",
       "      <td>8.0</td>\n",
       "      <td>192.0</td>\n",
       "      <td>Nintendo</td>\n",
       "      <td>E</td>\n",
       "      <td>1</td>\n",
       "      <td>8.0</td>\n",
       "      <td>1</td>\n",
       "    </tr>\n",
       "    <tr>\n",
       "      <th>3</th>\n",
       "      <td>New Super Mario Bros.</td>\n",
       "      <td>DS</td>\n",
       "      <td>2006.0</td>\n",
       "      <td>Platform</td>\n",
       "      <td>Nintendo</td>\n",
       "      <td>11.28</td>\n",
       "      <td>9.14</td>\n",
       "      <td>6.50</td>\n",
       "      <td>2.88</td>\n",
       "      <td>29.80</td>\n",
       "      <td>89.0</td>\n",
       "      <td>65.0</td>\n",
       "      <td>8.5</td>\n",
       "      <td>431.0</td>\n",
       "      <td>Nintendo</td>\n",
       "      <td>E</td>\n",
       "      <td>1</td>\n",
       "      <td>11.0</td>\n",
       "      <td>1</td>\n",
       "    </tr>\n",
       "    <tr>\n",
       "      <th>4</th>\n",
       "      <td>Wii Play</td>\n",
       "      <td>Wii</td>\n",
       "      <td>2006.0</td>\n",
       "      <td>Misc</td>\n",
       "      <td>Nintendo</td>\n",
       "      <td>13.96</td>\n",
       "      <td>9.18</td>\n",
       "      <td>2.93</td>\n",
       "      <td>2.84</td>\n",
       "      <td>28.92</td>\n",
       "      <td>58.0</td>\n",
       "      <td>41.0</td>\n",
       "      <td>6.6</td>\n",
       "      <td>129.0</td>\n",
       "      <td>Nintendo</td>\n",
       "      <td>E</td>\n",
       "      <td>1</td>\n",
       "      <td>11.0</td>\n",
       "      <td>0</td>\n",
       "    </tr>\n",
       "  </tbody>\n",
       "</table>\n",
       "</div>"
      ],
      "text/plain": [
       "                    Name Platform  Year_of_Release     Genre Publisher  \\\n",
       "0             Wii Sports      Wii           2006.0    Sports  Nintendo   \n",
       "1         Mario Kart Wii      Wii           2008.0    Racing  Nintendo   \n",
       "2      Wii Sports Resort      Wii           2009.0    Sports  Nintendo   \n",
       "3  New Super Mario Bros.       DS           2006.0  Platform  Nintendo   \n",
       "4               Wii Play      Wii           2006.0      Misc  Nintendo   \n",
       "\n",
       "   NA_Sales  EU_Sales  JP_Sales  Other_Sales  Global_Sales  Critic_Score  \\\n",
       "0     41.36     28.96      3.77         8.45         82.53          76.0   \n",
       "1     15.68     12.76      3.79         3.29         35.52          82.0   \n",
       "2     15.61     10.93      3.28         2.95         32.77          80.0   \n",
       "3     11.28      9.14      6.50         2.88         29.80          89.0   \n",
       "4     13.96      9.18      2.93         2.84         28.92          58.0   \n",
       "\n",
       "   Critic_Count  User_Score  User_Count Developer Rating  Dev_same_publisher  \\\n",
       "0          51.0         8.0       322.0  Nintendo      E                   1   \n",
       "1          73.0         8.3       709.0  Nintendo      E                   1   \n",
       "2          73.0         8.0       192.0  Nintendo      E                   1   \n",
       "3          65.0         8.5       431.0  Nintendo      E                   1   \n",
       "4          41.0         6.6       129.0  Nintendo      E                   1   \n",
       "\n",
       "   Years_Since_Release  Good  \n",
       "0                 11.0     1  \n",
       "1                  9.0     1  \n",
       "2                  8.0     1  \n",
       "3                 11.0     1  \n",
       "4                 11.0     0  "
      ]
     },
     "execution_count": 35,
     "metadata": {},
     "output_type": "execute_result"
    }
   ],
   "source": [
    "Good = []\n",
    "\n",
    "for rating in df3['User_Score']:\n",
    "    if rating < 8:\n",
    "        Good.append(0)\n",
    "    else:\n",
    "        Good.append(1)\n",
    "\n",
    "df3['Good'] = Good\n",
    "df3.head()"
   ]
  },
  {
   "cell_type": "code",
   "execution_count": 36,
   "metadata": {
    "collapsed": true
   },
   "outputs": [],
   "source": [
    "#Save clean data to file\n",
    "df3.to_csv('Project_1_Clean.csv')\n"
   ]
  },
  {
   "cell_type": "code",
   "execution_count": null,
   "metadata": {
    "collapsed": true
   },
   "outputs": [],
   "source": []
  }
 ],
 "metadata": {
  "kernelspec": {
   "display_name": "Python 3",
   "language": "python",
   "name": "python3"
  },
  "language_info": {
   "codemirror_mode": {
    "name": "ipython",
    "version": 3
   },
   "file_extension": ".py",
   "mimetype": "text/x-python",
   "name": "python",
   "nbconvert_exporter": "python",
   "pygments_lexer": "ipython3",
   "version": "3.6.2"
  }
 },
 "nbformat": 4,
 "nbformat_minor": 2
}
