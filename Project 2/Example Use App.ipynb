{
 "cells": [
  {
   "cell_type": "markdown",
   "metadata": {},
   "source": [
    "**All Crimes and States selected**\n",
    "\n",
    "![title](images/plot1.png)\n",
    "\n",
    "![title](images/plot2.png)"
   ]
  },
  {
   "cell_type": "markdown",
   "metadata": {},
   "source": [
    "The average number of crimes committed from 1995 to 2016 decreases despite the overall average population of the USA increasing."
   ]
  },
  {
   "cell_type": "markdown",
   "metadata": {},
   "source": [
    "![title](images/plot3.png)"
   ]
  },
  {
   "cell_type": "markdown",
   "metadata": {},
   "source": [
    "At first glance it appears that higher population results in a higher crime count"
   ]
  },
  {
   "cell_type": "markdown",
   "metadata": {},
   "source": [
    "**Select only CA**\n",
    "\n",
    "![title](images/plot4.png)\n",
    "\n",
    "**Select only MA**\n",
    "\n",
    "![title](images/plot5.png)\n",
    "\n",
    "**Select only NJ**\n",
    "\n",
    "![title](images/plot6.png)\n",
    "\n",
    "**Select only OH**\n",
    "\n",
    "![title](images/plot7.png)\n",
    "\n",
    "**Select only AZ**\n",
    "\n",
    "![title](images/plot8.png)"
   ]
  },
  {
   "cell_type": "markdown",
   "metadata": {},
   "source": [
    "However, this is only due to simpson's paradox and it appears that within each state, there is actually a negative correlation between population and total crimes. It is still not completely clear whether higher population results in lower crimes committed. Other factors such as population density, differing state laws, methods of recording crime count, time, and possible more could be confounding the relationship. We know that population has a gradual increase over the years, so law enforcement may have improved over time to prevent crimes."
   ]
  },
  {
   "cell_type": "markdown",
   "metadata": {},
   "source": [
    "**Select Variable MENTHLTH**\n",
    "\n",
    "**Select only NM**\n",
    "\n",
    "![title](images/plot9.png)\n",
    "\n",
    "![title](images/plot10.png)\n",
    "\n",
    "![title](images/plot11.png)"
   ]
  },
  {
   "cell_type": "markdown",
   "metadata": {},
   "source": [
    "We see a negative correlation between average MENTHLTH and average total crimes. This could mean that crime rate increases when people have less days in a month feeling mentally unhealthy. In other words, total crimes increases when people are more mentally healthy. When comparing the two time series, we expect to see a decrease in MENTHLTH when total crimes increases, which we do see for over half of the years."
   ]
  },
  {
   "cell_type": "markdown",
   "metadata": {},
   "source": [
    "**Select all states**\n",
    "\n",
    "**Select variable MENTHLTH**\n",
    "\n",
    "![title](images/plot12.png)\n",
    "\n",
    "![title](images/plot1.png)\n",
    "\n"
   ]
  },
  {
   "cell_type": "markdown",
   "metadata": {},
   "source": [
    "As we saw previously, the average number of crimes has decreased over the years. Meanwhile, the average number of days of a person having poor mental health in a month has increased. This still implies that worse mental health may have lowered the average number of crimes over the years."
   ]
  },
  {
   "cell_type": "markdown",
   "metadata": {},
   "source": [
    "We can try to examine the effect of major natural disasters on the numbers of crime committed."
   ]
  },
  {
   "cell_type": "markdown",
   "metadata": {},
   "source": [
    "**Select variable population**\n",
    "\n",
    "**Select AL, LA, MS**\n",
    "\n",
    "**Select years 2000-2007**\n",
    "\n",
    "**Draw line 2005**\n",
    "\n",
    "![title](images/plot13.png)\n",
    "\n",
    "![title](images/plot14.png)"
   ]
  },
  {
   "cell_type": "markdown",
   "metadata": {},
   "source": [
    "The three states largely affected by Hurricane Katrina (2005) are Alabama, Louisiana, and Mississippi. We see a sharp decrease in the average number of crimes committed in these three states in the year of the hurricane which could imply that natural disasters reduce crime rate. Since the population also decreased as a result of the disaster, it is unclear if natural disasters decrease crime rate."
   ]
  },
  {
   "cell_type": "markdown",
   "metadata": {},
   "source": [
    "We can examine how mental health is for states/years where there are droughts."
   ]
  },
  {
   "cell_type": "markdown",
   "metadata": {},
   "source": [
    "**Select variable MENTHLTH and SPI**\n",
    "\n",
    "**Select all states**\n",
    "\n",
    "**Select SUM aggregate for total crimes**\n",
    "\n",
    "**Select years 1995-2000**\n",
    "\n",
    "**Filter SPI < 0 **\n",
    "\n",
    "![title](images/plot15.png)\n",
    "\n",
    "![title](images/plot17.png)\n",
    "\n",
    "![title](images/plot16.png)"
   ]
  },
  {
   "cell_type": "markdown",
   "metadata": {
    "collapsed": true
   },
   "source": [
    "For the selected years, it appears that worse droughts increase the average number of days of poor mental health and decrease crime. Unclear if the lower crime is a result of worse mental health or worse droughts."
   ]
  },
  {
   "cell_type": "code",
   "execution_count": null,
   "metadata": {
    "collapsed": true
   },
   "outputs": [],
   "source": []
  }
 ],
 "metadata": {
  "kernelspec": {
   "display_name": "Python 3",
   "language": "python",
   "name": "python3"
  },
  "language_info": {
   "codemirror_mode": {
    "name": "ipython",
    "version": 3
   },
   "file_extension": ".py",
   "mimetype": "text/x-python",
   "name": "python",
   "nbconvert_exporter": "python",
   "pygments_lexer": "ipython3",
   "version": "3.6.2"
  }
 },
 "nbformat": 4,
 "nbformat_minor": 2
}
