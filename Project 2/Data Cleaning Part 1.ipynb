{
 "cells": [
  {
   "cell_type": "code",
   "execution_count": 24,
   "metadata": {
    "collapsed": true
   },
   "outputs": [],
   "source": [
    "import glob\n",
    "import pandas as pd\n",
    "import numpy as np\n",
    "from datetime import datetime"
   ]
  },
  {
   "cell_type": "markdown",
   "metadata": {},
   "source": [
    "## Load in Weather data and Clean"
   ]
  },
  {
   "cell_type": "markdown",
   "metadata": {},
   "source": [
    "**All 50 csv files are in the directory below. The name of each file is the state name and they are in alphabetical order.**"
   ]
  },
  {
   "cell_type": "code",
   "execution_count": 25,
   "metadata": {
    "collapsed": true
   },
   "outputs": [],
   "source": [
    "path = 'C:/Users/Skywind/Desktop/Backup2/Python/Springboard/project2/Weather'\n",
    "csvFiles = glob.glob(path + '/*.csv')"
   ]
  },
  {
   "cell_type": "markdown",
   "metadata": {},
   "source": [
    "**I create a list with the name of the states in alphabetical order in order to tag each of of the dataset with the correct state**"
   ]
  },
  {
   "cell_type": "code",
   "execution_count": 26,
   "metadata": {
    "collapsed": true
   },
   "outputs": [],
   "source": [
    "states = ['Alabama', 'Alaska', 'Arizona', 'Arkansas', 'California', 'Colorado', 'Connecticut', 'Delaware',\n",
    "          'Florida', 'Georgia', 'Idaho', 'Illinois', 'Indiana', 'Iowa', 'Kansas', 'Kentucky', 'Louisiana',\n",
    "          'Maine', 'Maryland', 'Massachusetts', 'Michigan', 'Minnesota', 'Mississippi', 'Missouri', 'Montana',\n",
    "          'Nebraska', 'Nevada', 'New Hampshire', 'New Jersey', 'New Mexico', 'New York', 'North Carolina',\n",
    "          'North Dakota', 'Ohio', 'Oklahoma', 'Oregon', 'Pennsylvania', 'Rhode Island', 'South Carolina',\n",
    "          'South Dakota', 'Tennessee', 'Texas', 'Utah', 'Vermont', 'Virginia', 'Washington', 'West Virginia',\n",
    "          'Wisconsin', 'Wyoming']"
   ]
  },
  {
   "cell_type": "markdown",
   "metadata": {},
   "source": [
    "**Read in all 50 csv files**"
   ]
  },
  {
   "cell_type": "code",
   "execution_count": 27,
   "metadata": {
    "collapsed": true
   },
   "outputs": [],
   "source": [
    "i = 0\n",
    "for file in csvFiles:\n",
    "    if i == 0:\n",
    "        df = pd.read_csv(file)\n",
    "        df['State'] = states[i]\n",
    "        i += 1\n",
    "        continue\n",
    "    df2 = pd.read_csv(file)\n",
    "    df2['State'] = states[i]\n",
    "    df = pd.concat([df, df2])\n",
    "    i += 1\n",
    "\n",
    "    "
   ]
  },
  {
   "cell_type": "code",
   "execution_count": 28,
   "metadata": {},
   "outputs": [
    {
     "data": {
      "text/html": [
       "<div>\n",
       "<style scoped>\n",
       "    .dataframe tbody tr th:only-of-type {\n",
       "        vertical-align: middle;\n",
       "    }\n",
       "\n",
       "    .dataframe tbody tr th {\n",
       "        vertical-align: top;\n",
       "    }\n",
       "\n",
       "    .dataframe thead th {\n",
       "        text-align: right;\n",
       "    }\n",
       "</style>\n",
       "<table border=\"1\" class=\"dataframe\">\n",
       "  <thead>\n",
       "    <tr style=\"text-align: right;\">\n",
       "      <th></th>\n",
       "      <th>StateCode</th>\n",
       "      <th>Division</th>\n",
       "      <th>YearMonth</th>\n",
       "      <th>PCP</th>\n",
       "      <th>TAVG</th>\n",
       "      <th>PDSI</th>\n",
       "      <th>PHDI</th>\n",
       "      <th>ZNDX</th>\n",
       "      <th>PMDI</th>\n",
       "      <th>CDD</th>\n",
       "      <th>...</th>\n",
       "      <th>SP02</th>\n",
       "      <th>SP03</th>\n",
       "      <th>SP06</th>\n",
       "      <th>SP09</th>\n",
       "      <th>SP12</th>\n",
       "      <th>SP24</th>\n",
       "      <th>TMIN</th>\n",
       "      <th>TMAX</th>\n",
       "      <th>Unnamed: 20</th>\n",
       "      <th>State</th>\n",
       "    </tr>\n",
       "  </thead>\n",
       "  <tbody>\n",
       "    <tr>\n",
       "      <th>0</th>\n",
       "      <td>1</td>\n",
       "      <td>0</td>\n",
       "      <td>199401</td>\n",
       "      <td>5.31</td>\n",
       "      <td>40.8</td>\n",
       "      <td>0.15</td>\n",
       "      <td>-0.82</td>\n",
       "      <td>0.42</td>\n",
       "      <td>-0.25</td>\n",
       "      <td>3</td>\n",
       "      <td>...</td>\n",
       "      <td>-0.13</td>\n",
       "      <td>-0.09</td>\n",
       "      <td>0.15</td>\n",
       "      <td>-0.54</td>\n",
       "      <td>-0.71</td>\n",
       "      <td>-0.06</td>\n",
       "      <td>30.8</td>\n",
       "      <td>50.9</td>\n",
       "      <td>NaN</td>\n",
       "      <td>Alabama</td>\n",
       "    </tr>\n",
       "    <tr>\n",
       "      <th>1</th>\n",
       "      <td>1</td>\n",
       "      <td>0</td>\n",
       "      <td>199402</td>\n",
       "      <td>5.08</td>\n",
       "      <td>50.3</td>\n",
       "      <td>0.05</td>\n",
       "      <td>-0.82</td>\n",
       "      <td>-0.24</td>\n",
       "      <td>-0.31</td>\n",
       "      <td>8</td>\n",
       "      <td>...</td>\n",
       "      <td>0.14</td>\n",
       "      <td>-0.17</td>\n",
       "      <td>0.12</td>\n",
       "      <td>-0.51</td>\n",
       "      <td>-0.57</td>\n",
       "      <td>-0.20</td>\n",
       "      <td>38.3</td>\n",
       "      <td>62.2</td>\n",
       "      <td>NaN</td>\n",
       "      <td>Alabama</td>\n",
       "    </tr>\n",
       "    <tr>\n",
       "      <th>2</th>\n",
       "      <td>1</td>\n",
       "      <td>0</td>\n",
       "      <td>199403</td>\n",
       "      <td>7.25</td>\n",
       "      <td>55.8</td>\n",
       "      <td>0.27</td>\n",
       "      <td>0.27</td>\n",
       "      <td>0.67</td>\n",
       "      <td>0.27</td>\n",
       "      <td>23</td>\n",
       "      <td>...</td>\n",
       "      <td>0.41</td>\n",
       "      <td>0.38</td>\n",
       "      <td>0.29</td>\n",
       "      <td>-0.11</td>\n",
       "      <td>-0.44</td>\n",
       "      <td>0.14</td>\n",
       "      <td>42.3</td>\n",
       "      <td>69.2</td>\n",
       "      <td>NaN</td>\n",
       "      <td>Alabama</td>\n",
       "    </tr>\n",
       "    <tr>\n",
       "      <th>3</th>\n",
       "      <td>1</td>\n",
       "      <td>0</td>\n",
       "      <td>199404</td>\n",
       "      <td>4.40</td>\n",
       "      <td>64.7</td>\n",
       "      <td>-0.22</td>\n",
       "      <td>-0.22</td>\n",
       "      <td>-0.67</td>\n",
       "      <td>-0.22</td>\n",
       "      <td>67</td>\n",
       "      <td>...</td>\n",
       "      <td>0.33</td>\n",
       "      <td>0.24</td>\n",
       "      <td>0.06</td>\n",
       "      <td>0.21</td>\n",
       "      <td>-0.30</td>\n",
       "      <td>0.27</td>\n",
       "      <td>51.3</td>\n",
       "      <td>78.2</td>\n",
       "      <td>NaN</td>\n",
       "      <td>Alabama</td>\n",
       "    </tr>\n",
       "    <tr>\n",
       "      <th>4</th>\n",
       "      <td>1</td>\n",
       "      <td>0</td>\n",
       "      <td>199405</td>\n",
       "      <td>3.20</td>\n",
       "      <td>68.4</td>\n",
       "      <td>-0.39</td>\n",
       "      <td>-0.39</td>\n",
       "      <td>-0.58</td>\n",
       "      <td>-0.39</td>\n",
       "      <td>131</td>\n",
       "      <td>...</td>\n",
       "      <td>-0.34</td>\n",
       "      <td>0.07</td>\n",
       "      <td>-0.13</td>\n",
       "      <td>0.01</td>\n",
       "      <td>-0.40</td>\n",
       "      <td>0.38</td>\n",
       "      <td>56.2</td>\n",
       "      <td>80.6</td>\n",
       "      <td>NaN</td>\n",
       "      <td>Alabama</td>\n",
       "    </tr>\n",
       "  </tbody>\n",
       "</table>\n",
       "<p>5 rows × 22 columns</p>\n",
       "</div>"
      ],
      "text/plain": [
       "   StateCode  Division  YearMonth      PCP     TAVG     PDSI     PHDI  \\\n",
       "0          1         0     199401     5.31     40.8     0.15    -0.82   \n",
       "1          1         0     199402     5.08     50.3     0.05    -0.82   \n",
       "2          1         0     199403     7.25     55.8     0.27     0.27   \n",
       "3          1         0     199404     4.40     64.7    -0.22    -0.22   \n",
       "4          1         0     199405     3.20     68.4    -0.39    -0.39   \n",
       "\n",
       "      ZNDX     PMDI      CDD   ...        SP02     SP03     SP06     SP09  \\\n",
       "0     0.42    -0.25        3   ...       -0.13    -0.09     0.15    -0.54   \n",
       "1    -0.24    -0.31        8   ...        0.14    -0.17     0.12    -0.51   \n",
       "2     0.67     0.27       23   ...        0.41     0.38     0.29    -0.11   \n",
       "3    -0.67    -0.22       67   ...        0.33     0.24     0.06     0.21   \n",
       "4    -0.58    -0.39      131   ...       -0.34     0.07    -0.13     0.01   \n",
       "\n",
       "      SP12     SP24     TMIN     TMAX  Unnamed: 20    State  \n",
       "0    -0.71    -0.06     30.8     50.9          NaN  Alabama  \n",
       "1    -0.57    -0.20     38.3     62.2          NaN  Alabama  \n",
       "2    -0.44     0.14     42.3     69.2          NaN  Alabama  \n",
       "3    -0.30     0.27     51.3     78.2          NaN  Alabama  \n",
       "4    -0.40     0.38     56.2     80.6          NaN  Alabama  \n",
       "\n",
       "[5 rows x 22 columns]"
      ]
     },
     "execution_count": 28,
     "metadata": {},
     "output_type": "execute_result"
    }
   ],
   "source": [
    "df.head()"
   ]
  },
  {
   "cell_type": "markdown",
   "metadata": {},
   "source": [
    "**Select only the relevant columns for analysis**"
   ]
  },
  {
   "cell_type": "code",
   "execution_count": 29,
   "metadata": {},
   "outputs": [
    {
     "data": {
      "text/html": [
       "<div>\n",
       "<style scoped>\n",
       "    .dataframe tbody tr th:only-of-type {\n",
       "        vertical-align: middle;\n",
       "    }\n",
       "\n",
       "    .dataframe tbody tr th {\n",
       "        vertical-align: top;\n",
       "    }\n",
       "\n",
       "    .dataframe thead th {\n",
       "        text-align: right;\n",
       "    }\n",
       "</style>\n",
       "<table border=\"1\" class=\"dataframe\">\n",
       "  <thead>\n",
       "    <tr style=\"text-align: right;\">\n",
       "      <th></th>\n",
       "      <th>State</th>\n",
       "      <th>YearMonth</th>\n",
       "      <th>TAVG</th>\n",
       "      <th>TMIN</th>\n",
       "      <th>TMAX</th>\n",
       "    </tr>\n",
       "  </thead>\n",
       "  <tbody>\n",
       "    <tr>\n",
       "      <th>0</th>\n",
       "      <td>Alabama</td>\n",
       "      <td>199401</td>\n",
       "      <td>40.8</td>\n",
       "      <td>30.8</td>\n",
       "      <td>50.9</td>\n",
       "    </tr>\n",
       "    <tr>\n",
       "      <th>1</th>\n",
       "      <td>Alabama</td>\n",
       "      <td>199402</td>\n",
       "      <td>50.3</td>\n",
       "      <td>38.3</td>\n",
       "      <td>62.2</td>\n",
       "    </tr>\n",
       "    <tr>\n",
       "      <th>2</th>\n",
       "      <td>Alabama</td>\n",
       "      <td>199403</td>\n",
       "      <td>55.8</td>\n",
       "      <td>42.3</td>\n",
       "      <td>69.2</td>\n",
       "    </tr>\n",
       "    <tr>\n",
       "      <th>3</th>\n",
       "      <td>Alabama</td>\n",
       "      <td>199404</td>\n",
       "      <td>64.7</td>\n",
       "      <td>51.3</td>\n",
       "      <td>78.2</td>\n",
       "    </tr>\n",
       "    <tr>\n",
       "      <th>4</th>\n",
       "      <td>Alabama</td>\n",
       "      <td>199405</td>\n",
       "      <td>68.4</td>\n",
       "      <td>56.2</td>\n",
       "      <td>80.6</td>\n",
       "    </tr>\n",
       "  </tbody>\n",
       "</table>\n",
       "</div>"
      ],
      "text/plain": [
       "     State  YearMonth     TAVG     TMIN     TMAX\n",
       "0  Alabama     199401     40.8     30.8     50.9\n",
       "1  Alabama     199402     50.3     38.3     62.2\n",
       "2  Alabama     199403     55.8     42.3     69.2\n",
       "3  Alabama     199404     64.7     51.3     78.2\n",
       "4  Alabama     199405     68.4     56.2     80.6"
      ]
     },
     "execution_count": 29,
     "metadata": {},
     "output_type": "execute_result"
    }
   ],
   "source": [
    "df = df.loc[:,('State', 'YearMonth', '   TAVG', '   TMIN', '   TMAX')]\n",
    "df.head()"
   ]
  },
  {
   "cell_type": "markdown",
   "metadata": {},
   "source": [
    "**Check datatypes for each column**"
   ]
  },
  {
   "cell_type": "code",
   "execution_count": 30,
   "metadata": {},
   "outputs": [
    {
     "name": "stdout",
     "output_type": "stream",
     "text": [
      "<class 'pandas.core.frame.DataFrame'>\n",
      "Int64Index: 14112 entries, 0 to 287\n",
      "Data columns (total 5 columns):\n",
      "State        14112 non-null object\n",
      "YearMonth    14112 non-null int64\n",
      "   TAVG      14112 non-null float64\n",
      "   TMIN      14112 non-null float64\n",
      "   TMAX      14112 non-null float64\n",
      "dtypes: float64(3), int64(1), object(1)\n",
      "memory usage: 661.5+ KB\n"
     ]
    }
   ],
   "source": [
    "df.info()"
   ]
  },
  {
   "cell_type": "markdown",
   "metadata": {},
   "source": [
    "**Convert YearMonth to datetime format**"
   ]
  },
  {
   "cell_type": "code",
   "execution_count": 31,
   "metadata": {
    "collapsed": true
   },
   "outputs": [],
   "source": [
    "df['YearMonth'] = df['YearMonth'].astype(str)"
   ]
  },
  {
   "cell_type": "code",
   "execution_count": 32,
   "metadata": {
    "collapsed": true
   },
   "outputs": [],
   "source": [
    "df['Date'] = pd.to_datetime(df['YearMonth'], format = '%Y%m')"
   ]
  },
  {
   "cell_type": "code",
   "execution_count": 33,
   "metadata": {
    "collapsed": true
   },
   "outputs": [],
   "source": [
    "year = []\n",
    "month = []\n",
    "\n",
    "for date in df.loc[:, 'YearMonth']:\n",
    "    year.append(date[:4])\n",
    "    month.append(date[4:6])"
   ]
  },
  {
   "cell_type": "markdown",
   "metadata": {},
   "source": [
    "**Store Year and Month in separate columns**"
   ]
  },
  {
   "cell_type": "code",
   "execution_count": 34,
   "metadata": {
    "collapsed": true
   },
   "outputs": [],
   "source": [
    "df['Year'] = np.array(year)\n",
    "df['Month'] = np.array(month)\n",
    "\n",
    "        \n"
   ]
  },
  {
   "cell_type": "code",
   "execution_count": 35,
   "metadata": {
    "collapsed": true
   },
   "outputs": [],
   "source": [
    "del df['YearMonth']"
   ]
  },
  {
   "cell_type": "markdown",
   "metadata": {},
   "source": [
    "**Fix data type for Year and Month**"
   ]
  },
  {
   "cell_type": "code",
   "execution_count": 36,
   "metadata": {},
   "outputs": [
    {
     "data": {
      "text/html": [
       "<div>\n",
       "<style scoped>\n",
       "    .dataframe tbody tr th:only-of-type {\n",
       "        vertical-align: middle;\n",
       "    }\n",
       "\n",
       "    .dataframe tbody tr th {\n",
       "        vertical-align: top;\n",
       "    }\n",
       "\n",
       "    .dataframe thead th {\n",
       "        text-align: right;\n",
       "    }\n",
       "</style>\n",
       "<table border=\"1\" class=\"dataframe\">\n",
       "  <thead>\n",
       "    <tr style=\"text-align: right;\">\n",
       "      <th></th>\n",
       "      <th>State</th>\n",
       "      <th>TAVG</th>\n",
       "      <th>TMIN</th>\n",
       "      <th>TMAX</th>\n",
       "      <th>Date</th>\n",
       "      <th>Year</th>\n",
       "      <th>Month</th>\n",
       "    </tr>\n",
       "  </thead>\n",
       "  <tbody>\n",
       "    <tr>\n",
       "      <th>0</th>\n",
       "      <td>Alabama</td>\n",
       "      <td>40.8</td>\n",
       "      <td>30.8</td>\n",
       "      <td>50.9</td>\n",
       "      <td>1994-01-01</td>\n",
       "      <td>1994</td>\n",
       "      <td>1</td>\n",
       "    </tr>\n",
       "    <tr>\n",
       "      <th>1</th>\n",
       "      <td>Alabama</td>\n",
       "      <td>50.3</td>\n",
       "      <td>38.3</td>\n",
       "      <td>62.2</td>\n",
       "      <td>1994-02-01</td>\n",
       "      <td>1994</td>\n",
       "      <td>2</td>\n",
       "    </tr>\n",
       "    <tr>\n",
       "      <th>2</th>\n",
       "      <td>Alabama</td>\n",
       "      <td>55.8</td>\n",
       "      <td>42.3</td>\n",
       "      <td>69.2</td>\n",
       "      <td>1994-03-01</td>\n",
       "      <td>1994</td>\n",
       "      <td>3</td>\n",
       "    </tr>\n",
       "    <tr>\n",
       "      <th>3</th>\n",
       "      <td>Alabama</td>\n",
       "      <td>64.7</td>\n",
       "      <td>51.3</td>\n",
       "      <td>78.2</td>\n",
       "      <td>1994-04-01</td>\n",
       "      <td>1994</td>\n",
       "      <td>4</td>\n",
       "    </tr>\n",
       "    <tr>\n",
       "      <th>4</th>\n",
       "      <td>Alabama</td>\n",
       "      <td>68.4</td>\n",
       "      <td>56.2</td>\n",
       "      <td>80.6</td>\n",
       "      <td>1994-05-01</td>\n",
       "      <td>1994</td>\n",
       "      <td>5</td>\n",
       "    </tr>\n",
       "  </tbody>\n",
       "</table>\n",
       "</div>"
      ],
      "text/plain": [
       "     State     TAVG     TMIN     TMAX       Date  Year  Month\n",
       "0  Alabama     40.8     30.8     50.9 1994-01-01  1994      1\n",
       "1  Alabama     50.3     38.3     62.2 1994-02-01  1994      2\n",
       "2  Alabama     55.8     42.3     69.2 1994-03-01  1994      3\n",
       "3  Alabama     64.7     51.3     78.2 1994-04-01  1994      4\n",
       "4  Alabama     68.4     56.2     80.6 1994-05-01  1994      5"
      ]
     },
     "execution_count": 36,
     "metadata": {},
     "output_type": "execute_result"
    }
   ],
   "source": [
    "df['Year'] = df['Year'].astype('int64')\n",
    "df['Month'] = df['Month'].astype('int64')\n",
    "\n",
    "df.head()"
   ]
  },
  {
   "cell_type": "markdown",
   "metadata": {},
   "source": [
    "**Save cleaned data to new file**"
   ]
  },
  {
   "cell_type": "code",
   "execution_count": 37,
   "metadata": {
    "collapsed": true
   },
   "outputs": [],
   "source": [
    "weather = df.copy()"
   ]
  },
  {
   "cell_type": "code",
   "execution_count": 38,
   "metadata": {
    "collapsed": true
   },
   "outputs": [],
   "source": [
    "weather.to_csv('Weather.csv', index = False)"
   ]
  },
  {
   "cell_type": "markdown",
   "metadata": {},
   "source": [
    "## Read Income data and Clean"
   ]
  },
  {
   "cell_type": "code",
   "execution_count": 39,
   "metadata": {},
   "outputs": [
    {
     "data": {
      "text/html": [
       "<div>\n",
       "<style scoped>\n",
       "    .dataframe tbody tr th:only-of-type {\n",
       "        vertical-align: middle;\n",
       "    }\n",
       "\n",
       "    .dataframe tbody tr th {\n",
       "        vertical-align: top;\n",
       "    }\n",
       "\n",
       "    .dataframe thead th {\n",
       "        text-align: right;\n",
       "    }\n",
       "</style>\n",
       "<table border=\"1\" class=\"dataframe\">\n",
       "  <thead>\n",
       "    <tr style=\"text-align: right;\">\n",
       "      <th></th>\n",
       "      <th>State</th>\n",
       "      <th>2016</th>\n",
       "      <th>2015</th>\n",
       "      <th>2014</th>\n",
       "      <th>2013 (39)</th>\n",
       "      <th>2013 (38)</th>\n",
       "      <th>2012</th>\n",
       "      <th>2011</th>\n",
       "      <th>2010 (37)</th>\n",
       "      <th>2009 (36)</th>\n",
       "      <th>...</th>\n",
       "      <th>1993 (23)</th>\n",
       "      <th>1992 (22)</th>\n",
       "      <th>1991</th>\n",
       "      <th>1990</th>\n",
       "      <th>1989</th>\n",
       "      <th>1988</th>\n",
       "      <th>1987 (21)</th>\n",
       "      <th>1986</th>\n",
       "      <th>1985 (20)</th>\n",
       "      <th>1984 (19)</th>\n",
       "    </tr>\n",
       "  </thead>\n",
       "  <tbody>\n",
       "    <tr>\n",
       "      <th>0</th>\n",
       "      <td>NaN</td>\n",
       "      <td>Median\\nincome</td>\n",
       "      <td>Median\\nincome</td>\n",
       "      <td>Median\\nincome</td>\n",
       "      <td>Median\\nincome</td>\n",
       "      <td>Median\\nincome</td>\n",
       "      <td>Median\\nincome</td>\n",
       "      <td>Median\\nincome</td>\n",
       "      <td>Median\\nincome</td>\n",
       "      <td>Median\\nincome</td>\n",
       "      <td>...</td>\n",
       "      <td>Median\\nincome</td>\n",
       "      <td>Median\\nincome</td>\n",
       "      <td>Median\\nincome</td>\n",
       "      <td>Median\\nincome</td>\n",
       "      <td>Median\\nincome</td>\n",
       "      <td>Median\\nincome</td>\n",
       "      <td>Median\\nincome</td>\n",
       "      <td>Median\\nincome</td>\n",
       "      <td>Median\\nincome</td>\n",
       "      <td>Median\\nincome</td>\n",
       "    </tr>\n",
       "    <tr>\n",
       "      <th>1</th>\n",
       "      <td>United States</td>\n",
       "      <td>59039</td>\n",
       "      <td>56516</td>\n",
       "      <td>53657</td>\n",
       "      <td>53585</td>\n",
       "      <td>51939</td>\n",
       "      <td>51017</td>\n",
       "      <td>50054</td>\n",
       "      <td>49276</td>\n",
       "      <td>49777</td>\n",
       "      <td>...</td>\n",
       "      <td>31241</td>\n",
       "      <td>30636</td>\n",
       "      <td>30126</td>\n",
       "      <td>29943</td>\n",
       "      <td>28906</td>\n",
       "      <td>27225</td>\n",
       "      <td>26061</td>\n",
       "      <td>24897</td>\n",
       "      <td>23618</td>\n",
       "      <td>22415</td>\n",
       "    </tr>\n",
       "    <tr>\n",
       "      <th>2</th>\n",
       "      <td>Alabama</td>\n",
       "      <td>47221</td>\n",
       "      <td>44509</td>\n",
       "      <td>42278</td>\n",
       "      <td>47320</td>\n",
       "      <td>41381</td>\n",
       "      <td>43464</td>\n",
       "      <td>42590</td>\n",
       "      <td>40933</td>\n",
       "      <td>39980</td>\n",
       "      <td>...</td>\n",
       "      <td>25082</td>\n",
       "      <td>25808</td>\n",
       "      <td>24346</td>\n",
       "      <td>23357</td>\n",
       "      <td>21284</td>\n",
       "      <td>19948</td>\n",
       "      <td>19734</td>\n",
       "      <td>19132</td>\n",
       "      <td>18333</td>\n",
       "      <td>17310</td>\n",
       "    </tr>\n",
       "    <tr>\n",
       "      <th>3</th>\n",
       "      <td>Alaska</td>\n",
       "      <td>75723</td>\n",
       "      <td>75112</td>\n",
       "      <td>67629</td>\n",
       "      <td>72472</td>\n",
       "      <td>61137</td>\n",
       "      <td>63648</td>\n",
       "      <td>57431</td>\n",
       "      <td>57848</td>\n",
       "      <td>61604</td>\n",
       "      <td>...</td>\n",
       "      <td>42931</td>\n",
       "      <td>41802</td>\n",
       "      <td>40612</td>\n",
       "      <td>39298</td>\n",
       "      <td>36006</td>\n",
       "      <td>33103</td>\n",
       "      <td>33233</td>\n",
       "      <td>31356</td>\n",
       "      <td>34782</td>\n",
       "      <td>32356</td>\n",
       "    </tr>\n",
       "    <tr>\n",
       "      <th>4</th>\n",
       "      <td>Arizona</td>\n",
       "      <td>57100</td>\n",
       "      <td>52248</td>\n",
       "      <td>49254</td>\n",
       "      <td>52611</td>\n",
       "      <td>50602</td>\n",
       "      <td>47044</td>\n",
       "      <td>48621</td>\n",
       "      <td>46896</td>\n",
       "      <td>45739</td>\n",
       "      <td>...</td>\n",
       "      <td>30510</td>\n",
       "      <td>29358</td>\n",
       "      <td>30737</td>\n",
       "      <td>29224</td>\n",
       "      <td>28552</td>\n",
       "      <td>26435</td>\n",
       "      <td>26749</td>\n",
       "      <td>25500</td>\n",
       "      <td>23877</td>\n",
       "      <td>21425</td>\n",
       "    </tr>\n",
       "  </tbody>\n",
       "</table>\n",
       "<p>5 rows × 34 columns</p>\n",
       "</div>"
      ],
      "text/plain": [
       "           State            2016            2015            2014  \\\n",
       "0            NaN  Median\\nincome  Median\\nincome  Median\\nincome   \n",
       "1  United States           59039           56516           53657   \n",
       "2        Alabama           47221           44509           42278   \n",
       "3         Alaska           75723           75112           67629   \n",
       "4        Arizona           57100           52248           49254   \n",
       "\n",
       "        2013 (39)       2013 (38)            2012            2011  \\\n",
       "0  Median\\nincome  Median\\nincome  Median\\nincome  Median\\nincome   \n",
       "1           53585           51939           51017           50054   \n",
       "2           47320           41381           43464           42590   \n",
       "3           72472           61137           63648           57431   \n",
       "4           52611           50602           47044           48621   \n",
       "\n",
       "        2010 (37)       2009 (36)       ...             1993 (23)  \\\n",
       "0  Median\\nincome  Median\\nincome       ...        Median\\nincome   \n",
       "1           49276           49777       ...                 31241   \n",
       "2           40933           39980       ...                 25082   \n",
       "3           57848           61604       ...                 42931   \n",
       "4           46896           45739       ...                 30510   \n",
       "\n",
       "        1992 (22)            1991            1990            1989  \\\n",
       "0  Median\\nincome  Median\\nincome  Median\\nincome  Median\\nincome   \n",
       "1           30636           30126           29943           28906   \n",
       "2           25808           24346           23357           21284   \n",
       "3           41802           40612           39298           36006   \n",
       "4           29358           30737           29224           28552   \n",
       "\n",
       "             1988       1987 (21)            1986       1985 (20)  \\\n",
       "0  Median\\nincome  Median\\nincome  Median\\nincome  Median\\nincome   \n",
       "1           27225           26061           24897           23618   \n",
       "2           19948           19734           19132           18333   \n",
       "3           33103           33233           31356           34782   \n",
       "4           26435           26749           25500           23877   \n",
       "\n",
       "        1984 (19)  \n",
       "0  Median\\nincome  \n",
       "1           22415  \n",
       "2           17310  \n",
       "3           32356  \n",
       "4           21425  \n",
       "\n",
       "[5 rows x 34 columns]"
      ]
     },
     "execution_count": 39,
     "metadata": {},
     "output_type": "execute_result"
    }
   ],
   "source": [
    "df = pd.read_excel('C:/Users/Skywind/Desktop/Backup2/Python/Springboard/project2/Income/Income.xls', skiprows = 4, \n",
    "              usecols =[0,1,3,5,7,9,11,13,15,17,19,21,23,25,27,29,31,33,35,37,39,41,43,47,49,51,53,55,57,59,61,63,65,67,69],\n",
    "             skip_footer = 56)\n",
    "df.head()"
   ]
  },
  {
   "cell_type": "markdown",
   "metadata": {},
   "source": [
    "**Delete first row**"
   ]
  },
  {
   "cell_type": "code",
   "execution_count": 40,
   "metadata": {
    "collapsed": true
   },
   "outputs": [],
   "source": [
    "df = df.drop(0)"
   ]
  },
  {
   "cell_type": "markdown",
   "metadata": {},
   "source": [
    "**Melt the dataframe to have the year columns be stored as one variable**"
   ]
  },
  {
   "cell_type": "code",
   "execution_count": 41,
   "metadata": {},
   "outputs": [
    {
     "data": {
      "text/html": [
       "<div>\n",
       "<style scoped>\n",
       "    .dataframe tbody tr th:only-of-type {\n",
       "        vertical-align: middle;\n",
       "    }\n",
       "\n",
       "    .dataframe tbody tr th {\n",
       "        vertical-align: top;\n",
       "    }\n",
       "\n",
       "    .dataframe thead th {\n",
       "        text-align: right;\n",
       "    }\n",
       "</style>\n",
       "<table border=\"1\" class=\"dataframe\">\n",
       "  <thead>\n",
       "    <tr style=\"text-align: right;\">\n",
       "      <th></th>\n",
       "      <th>State</th>\n",
       "      <th>Year1</th>\n",
       "      <th>Median_Income</th>\n",
       "    </tr>\n",
       "  </thead>\n",
       "  <tbody>\n",
       "    <tr>\n",
       "      <th>0</th>\n",
       "      <td>United States</td>\n",
       "      <td>2016</td>\n",
       "      <td>59039</td>\n",
       "    </tr>\n",
       "    <tr>\n",
       "      <th>1</th>\n",
       "      <td>Alabama</td>\n",
       "      <td>2016</td>\n",
       "      <td>47221</td>\n",
       "    </tr>\n",
       "    <tr>\n",
       "      <th>2</th>\n",
       "      <td>Alaska</td>\n",
       "      <td>2016</td>\n",
       "      <td>75723</td>\n",
       "    </tr>\n",
       "    <tr>\n",
       "      <th>3</th>\n",
       "      <td>Arizona</td>\n",
       "      <td>2016</td>\n",
       "      <td>57100</td>\n",
       "    </tr>\n",
       "    <tr>\n",
       "      <th>4</th>\n",
       "      <td>Arkansas</td>\n",
       "      <td>2016</td>\n",
       "      <td>45907</td>\n",
       "    </tr>\n",
       "  </tbody>\n",
       "</table>\n",
       "</div>"
      ],
      "text/plain": [
       "           State Year1 Median_Income\n",
       "0  United States  2016         59039\n",
       "1        Alabama  2016         47221\n",
       "2         Alaska  2016         75723\n",
       "3        Arizona  2016         57100\n",
       "4       Arkansas  2016         45907"
      ]
     },
     "execution_count": 41,
     "metadata": {},
     "output_type": "execute_result"
    }
   ],
   "source": [
    "df = pd.melt(frame = df, id_vars = 'State', var_name = 'Year1', value_name = 'Median_Income')\n",
    "df.head()"
   ]
  },
  {
   "cell_type": "markdown",
   "metadata": {},
   "source": [
    "**Fix data type and convert to datetime**"
   ]
  },
  {
   "cell_type": "code",
   "execution_count": 42,
   "metadata": {
    "collapsed": true
   },
   "outputs": [],
   "source": [
    "df['Year1'] = df['Year1'].astype(str)"
   ]
  },
  {
   "cell_type": "code",
   "execution_count": 43,
   "metadata": {
    "collapsed": true
   },
   "outputs": [],
   "source": [
    "Year = []\n",
    "for year in df['Year1']:\n",
    "    Year.append(year[:4])\n",
    "    "
   ]
  },
  {
   "cell_type": "code",
   "execution_count": 44,
   "metadata": {
    "collapsed": true
   },
   "outputs": [],
   "source": [
    "df['Year'] = np.array(Year).astype('int64')\n",
    "df['Median_Income'] = df['Median_Income'].astype(float)"
   ]
  },
  {
   "cell_type": "code",
   "execution_count": 45,
   "metadata": {
    "collapsed": true
   },
   "outputs": [],
   "source": [
    "del df['Year1']"
   ]
  },
  {
   "cell_type": "code",
   "execution_count": 46,
   "metadata": {
    "collapsed": true
   },
   "outputs": [],
   "source": [
    "df['Date'] = pd.to_datetime(df['Year'], format = '%Y')"
   ]
  },
  {
   "cell_type": "code",
   "execution_count": 47,
   "metadata": {},
   "outputs": [
    {
     "data": {
      "text/html": [
       "<div>\n",
       "<style scoped>\n",
       "    .dataframe tbody tr th:only-of-type {\n",
       "        vertical-align: middle;\n",
       "    }\n",
       "\n",
       "    .dataframe tbody tr th {\n",
       "        vertical-align: top;\n",
       "    }\n",
       "\n",
       "    .dataframe thead th {\n",
       "        text-align: right;\n",
       "    }\n",
       "</style>\n",
       "<table border=\"1\" class=\"dataframe\">\n",
       "  <thead>\n",
       "    <tr style=\"text-align: right;\">\n",
       "      <th></th>\n",
       "      <th>State</th>\n",
       "      <th>Median_Income</th>\n",
       "      <th>Year</th>\n",
       "      <th>Date</th>\n",
       "    </tr>\n",
       "  </thead>\n",
       "  <tbody>\n",
       "    <tr>\n",
       "      <th>0</th>\n",
       "      <td>United States</td>\n",
       "      <td>59039.0</td>\n",
       "      <td>2016</td>\n",
       "      <td>2016-01-01</td>\n",
       "    </tr>\n",
       "    <tr>\n",
       "      <th>1</th>\n",
       "      <td>Alabama</td>\n",
       "      <td>47221.0</td>\n",
       "      <td>2016</td>\n",
       "      <td>2016-01-01</td>\n",
       "    </tr>\n",
       "    <tr>\n",
       "      <th>2</th>\n",
       "      <td>Alaska</td>\n",
       "      <td>75723.0</td>\n",
       "      <td>2016</td>\n",
       "      <td>2016-01-01</td>\n",
       "    </tr>\n",
       "    <tr>\n",
       "      <th>3</th>\n",
       "      <td>Arizona</td>\n",
       "      <td>57100.0</td>\n",
       "      <td>2016</td>\n",
       "      <td>2016-01-01</td>\n",
       "    </tr>\n",
       "    <tr>\n",
       "      <th>4</th>\n",
       "      <td>Arkansas</td>\n",
       "      <td>45907.0</td>\n",
       "      <td>2016</td>\n",
       "      <td>2016-01-01</td>\n",
       "    </tr>\n",
       "  </tbody>\n",
       "</table>\n",
       "</div>"
      ],
      "text/plain": [
       "           State  Median_Income  Year       Date\n",
       "0  United States        59039.0  2016 2016-01-01\n",
       "1        Alabama        47221.0  2016 2016-01-01\n",
       "2         Alaska        75723.0  2016 2016-01-01\n",
       "3        Arizona        57100.0  2016 2016-01-01\n",
       "4       Arkansas        45907.0  2016 2016-01-01"
      ]
     },
     "execution_count": 47,
     "metadata": {},
     "output_type": "execute_result"
    }
   ],
   "source": [
    "df.head()"
   ]
  },
  {
   "cell_type": "code",
   "execution_count": 48,
   "metadata": {},
   "outputs": [
    {
     "name": "stdout",
     "output_type": "stream",
     "text": [
      "<class 'pandas.core.frame.DataFrame'>\n",
      "RangeIndex: 1716 entries, 0 to 1715\n",
      "Data columns (total 4 columns):\n",
      "State            1716 non-null object\n",
      "Median_Income    1716 non-null float64\n",
      "Year             1716 non-null int64\n",
      "Date             1716 non-null datetime64[ns]\n",
      "dtypes: datetime64[ns](1), float64(1), int64(1), object(1)\n",
      "memory usage: 53.7+ KB\n"
     ]
    }
   ],
   "source": [
    "df.info()"
   ]
  },
  {
   "cell_type": "markdown",
   "metadata": {},
   "source": [
    "**Save cleaned data to file**"
   ]
  },
  {
   "cell_type": "code",
   "execution_count": 49,
   "metadata": {
    "collapsed": true
   },
   "outputs": [],
   "source": [
    "Income = df.copy()"
   ]
  },
  {
   "cell_type": "code",
   "execution_count": 50,
   "metadata": {
    "collapsed": true
   },
   "outputs": [],
   "source": [
    "Income.to_csv('Income.csv', index = False)"
   ]
  },
  {
   "cell_type": "markdown",
   "metadata": {},
   "source": [
    "## Read Population and Clean"
   ]
  },
  {
   "cell_type": "code",
   "execution_count": 51,
   "metadata": {
    "collapsed": true
   },
   "outputs": [],
   "source": [
    "df = pd.read_csv('C:/Users/Skywind/Desktop/Backup2/Python/Springboard/project2/Population/Population.txt', header = None)"
   ]
  },
  {
   "cell_type": "code",
   "execution_count": 52,
   "metadata": {},
   "outputs": [
    {
     "data": {
      "text/html": [
       "<div>\n",
       "<style scoped>\n",
       "    .dataframe tbody tr th:only-of-type {\n",
       "        vertical-align: middle;\n",
       "    }\n",
       "\n",
       "    .dataframe tbody tr th {\n",
       "        vertical-align: top;\n",
       "    }\n",
       "\n",
       "    .dataframe thead th {\n",
       "        text-align: right;\n",
       "    }\n",
       "</style>\n",
       "<table border=\"1\" class=\"dataframe\">\n",
       "  <thead>\n",
       "    <tr style=\"text-align: right;\">\n",
       "      <th></th>\n",
       "      <th>0</th>\n",
       "    </tr>\n",
       "  </thead>\n",
       "  <tbody>\n",
       "    <tr>\n",
       "      <th>0</th>\n",
       "      <td>1969AL01001991910000000159</td>\n",
       "    </tr>\n",
       "    <tr>\n",
       "      <th>1</th>\n",
       "      <td>1969AL01001991910100000657</td>\n",
       "    </tr>\n",
       "    <tr>\n",
       "      <th>2</th>\n",
       "      <td>1969AL01001991910200001137</td>\n",
       "    </tr>\n",
       "    <tr>\n",
       "      <th>3</th>\n",
       "      <td>1969AL01001991910300000956</td>\n",
       "    </tr>\n",
       "    <tr>\n",
       "      <th>4</th>\n",
       "      <td>1969AL01001991910400000721</td>\n",
       "    </tr>\n",
       "  </tbody>\n",
       "</table>\n",
       "</div>"
      ],
      "text/plain": [
       "                            0\n",
       "0  1969AL01001991910000000159\n",
       "1  1969AL01001991910100000657\n",
       "2  1969AL01001991910200001137\n",
       "3  1969AL01001991910300000956\n",
       "4  1969AL01001991910400000721"
      ]
     },
     "execution_count": 52,
     "metadata": {},
     "output_type": "execute_result"
    }
   ],
   "source": [
    "df.head()"
   ]
  },
  {
   "cell_type": "markdown",
   "metadata": {},
   "source": [
    "**Create new columns to store each variable of interest**"
   ]
  },
  {
   "cell_type": "code",
   "execution_count": 53,
   "metadata": {
    "collapsed": true
   },
   "outputs": [],
   "source": [
    "Year = []\n",
    "State_Abbrev = []\n",
    "Race = []\n",
    "Sex = []\n",
    "Age = []\n",
    "Population = []\n",
    "\n",
    "for row in df[0]:\n",
    "    Year.append(row[:4])\n",
    "    State_Abbrev.append(row[4:6])\n",
    "    Race.append(row[13])\n",
    "    Sex.append(row[15])\n",
    "    Age.append(row[16:18])\n",
    "    Population.append(row[18:])\n",
    "    "
   ]
  },
  {
   "cell_type": "code",
   "execution_count": 54,
   "metadata": {
    "collapsed": true
   },
   "outputs": [],
   "source": [
    "df['Year'] = np.array(Year)\n",
    "df['State_Abbrev'] = np.array(State_Abbrev)\n",
    "df['Race'] = np.array(Race)\n",
    "df['Sex'] = np.array(Sex)\n",
    "df['Age'] = np.array(Age)\n",
    "df['Population'] = np.array(Population)"
   ]
  },
  {
   "cell_type": "code",
   "execution_count": 55,
   "metadata": {
    "collapsed": true
   },
   "outputs": [],
   "source": [
    "del df[0]"
   ]
  },
  {
   "cell_type": "code",
   "execution_count": 56,
   "metadata": {},
   "outputs": [
    {
     "name": "stdout",
     "output_type": "stream",
     "text": [
      "<class 'pandas.core.frame.DataFrame'>\n",
      "RangeIndex: 14191291 entries, 0 to 14191290\n",
      "Data columns (total 6 columns):\n",
      "Year            object\n",
      "State_Abbrev    object\n",
      "Race            object\n",
      "Sex             object\n",
      "Age             object\n",
      "Population      object\n",
      "dtypes: object(6)\n",
      "memory usage: 649.6+ MB\n"
     ]
    }
   ],
   "source": [
    "df.info()"
   ]
  },
  {
   "cell_type": "markdown",
   "metadata": {},
   "source": [
    "**Convert Year to int variable**"
   ]
  },
  {
   "cell_type": "code",
   "execution_count": 57,
   "metadata": {
    "collapsed": true
   },
   "outputs": [],
   "source": [
    "df['Year'] = df['Year'].astype('int64')"
   ]
  },
  {
   "cell_type": "code",
   "execution_count": 58,
   "metadata": {},
   "outputs": [
    {
     "data": {
      "text/html": [
       "<div>\n",
       "<style scoped>\n",
       "    .dataframe tbody tr th:only-of-type {\n",
       "        vertical-align: middle;\n",
       "    }\n",
       "\n",
       "    .dataframe tbody tr th {\n",
       "        vertical-align: top;\n",
       "    }\n",
       "\n",
       "    .dataframe thead th {\n",
       "        text-align: right;\n",
       "    }\n",
       "</style>\n",
       "<table border=\"1\" class=\"dataframe\">\n",
       "  <thead>\n",
       "    <tr style=\"text-align: right;\">\n",
       "      <th></th>\n",
       "      <th>Year</th>\n",
       "      <th>State_Abbrev</th>\n",
       "      <th>Race</th>\n",
       "      <th>Sex</th>\n",
       "      <th>Age</th>\n",
       "      <th>Population</th>\n",
       "    </tr>\n",
       "  </thead>\n",
       "  <tbody>\n",
       "    <tr>\n",
       "      <th>0</th>\n",
       "      <td>1969</td>\n",
       "      <td>AL</td>\n",
       "      <td>1</td>\n",
       "      <td>1</td>\n",
       "      <td>00</td>\n",
       "      <td>00000159</td>\n",
       "    </tr>\n",
       "    <tr>\n",
       "      <th>1</th>\n",
       "      <td>1969</td>\n",
       "      <td>AL</td>\n",
       "      <td>1</td>\n",
       "      <td>1</td>\n",
       "      <td>01</td>\n",
       "      <td>00000657</td>\n",
       "    </tr>\n",
       "    <tr>\n",
       "      <th>2</th>\n",
       "      <td>1969</td>\n",
       "      <td>AL</td>\n",
       "      <td>1</td>\n",
       "      <td>1</td>\n",
       "      <td>02</td>\n",
       "      <td>00001137</td>\n",
       "    </tr>\n",
       "    <tr>\n",
       "      <th>3</th>\n",
       "      <td>1969</td>\n",
       "      <td>AL</td>\n",
       "      <td>1</td>\n",
       "      <td>1</td>\n",
       "      <td>03</td>\n",
       "      <td>00000956</td>\n",
       "    </tr>\n",
       "    <tr>\n",
       "      <th>4</th>\n",
       "      <td>1969</td>\n",
       "      <td>AL</td>\n",
       "      <td>1</td>\n",
       "      <td>1</td>\n",
       "      <td>04</td>\n",
       "      <td>00000721</td>\n",
       "    </tr>\n",
       "  </tbody>\n",
       "</table>\n",
       "</div>"
      ],
      "text/plain": [
       "   Year State_Abbrev Race Sex Age Population\n",
       "0  1969           AL    1   1  00   00000159\n",
       "1  1969           AL    1   1  01   00000657\n",
       "2  1969           AL    1   1  02   00001137\n",
       "3  1969           AL    1   1  03   00000956\n",
       "4  1969           AL    1   1  04   00000721"
      ]
     },
     "execution_count": 58,
     "metadata": {},
     "output_type": "execute_result"
    }
   ],
   "source": [
    "df.head()"
   ]
  },
  {
   "cell_type": "markdown",
   "metadata": {},
   "source": [
    "**Subset years to only include 1994 and up**"
   ]
  },
  {
   "cell_type": "code",
   "execution_count": 59,
   "metadata": {
    "collapsed": true
   },
   "outputs": [],
   "source": [
    "df = df[df.loc[: , 'Year'] >= 1994]"
   ]
  },
  {
   "cell_type": "markdown",
   "metadata": {},
   "source": [
    "**Change age type to int**"
   ]
  },
  {
   "cell_type": "code",
   "execution_count": 60,
   "metadata": {
    "collapsed": true
   },
   "outputs": [],
   "source": [
    "df['Age'] = df['Age'].astype('int64')"
   ]
  },
  {
   "cell_type": "code",
   "execution_count": 61,
   "metadata": {},
   "outputs": [
    {
     "data": {
      "text/html": [
       "<div>\n",
       "<style scoped>\n",
       "    .dataframe tbody tr th:only-of-type {\n",
       "        vertical-align: middle;\n",
       "    }\n",
       "\n",
       "    .dataframe tbody tr th {\n",
       "        vertical-align: top;\n",
       "    }\n",
       "\n",
       "    .dataframe thead th {\n",
       "        text-align: right;\n",
       "    }\n",
       "</style>\n",
       "<table border=\"1\" class=\"dataframe\">\n",
       "  <thead>\n",
       "    <tr style=\"text-align: right;\">\n",
       "      <th></th>\n",
       "      <th>Year</th>\n",
       "      <th>State_Abbrev</th>\n",
       "      <th>Race</th>\n",
       "      <th>Sex</th>\n",
       "      <th>Age</th>\n",
       "      <th>Population</th>\n",
       "    </tr>\n",
       "  </thead>\n",
       "  <tbody>\n",
       "    <tr>\n",
       "      <th>7029295</th>\n",
       "      <td>1994</td>\n",
       "      <td>AL</td>\n",
       "      <td>1</td>\n",
       "      <td>1</td>\n",
       "      <td>0</td>\n",
       "      <td>00000226</td>\n",
       "    </tr>\n",
       "    <tr>\n",
       "      <th>7029296</th>\n",
       "      <td>1994</td>\n",
       "      <td>AL</td>\n",
       "      <td>1</td>\n",
       "      <td>1</td>\n",
       "      <td>1</td>\n",
       "      <td>00000917</td>\n",
       "    </tr>\n",
       "    <tr>\n",
       "      <th>7029297</th>\n",
       "      <td>1994</td>\n",
       "      <td>AL</td>\n",
       "      <td>1</td>\n",
       "      <td>1</td>\n",
       "      <td>2</td>\n",
       "      <td>00001235</td>\n",
       "    </tr>\n",
       "    <tr>\n",
       "      <th>7029298</th>\n",
       "      <td>1994</td>\n",
       "      <td>AL</td>\n",
       "      <td>1</td>\n",
       "      <td>1</td>\n",
       "      <td>3</td>\n",
       "      <td>00001333</td>\n",
       "    </tr>\n",
       "    <tr>\n",
       "      <th>7029299</th>\n",
       "      <td>1994</td>\n",
       "      <td>AL</td>\n",
       "      <td>1</td>\n",
       "      <td>1</td>\n",
       "      <td>4</td>\n",
       "      <td>00001114</td>\n",
       "    </tr>\n",
       "  </tbody>\n",
       "</table>\n",
       "</div>"
      ],
      "text/plain": [
       "         Year State_Abbrev Race Sex  Age Population\n",
       "7029295  1994           AL    1   1    0   00000226\n",
       "7029296  1994           AL    1   1    1   00000917\n",
       "7029297  1994           AL    1   1    2   00001235\n",
       "7029298  1994           AL    1   1    3   00001333\n",
       "7029299  1994           AL    1   1    4   00001114"
      ]
     },
     "execution_count": 61,
     "metadata": {},
     "output_type": "execute_result"
    }
   ],
   "source": [
    "df.head()"
   ]
  },
  {
   "cell_type": "markdown",
   "metadata": {},
   "source": [
    "**Create new column to divide the ages into four groups**"
   ]
  },
  {
   "cell_type": "code",
   "execution_count": 62,
   "metadata": {
    "collapsed": true
   },
   "outputs": [],
   "source": [
    "df['Age_Group'] = np.where(df['Age'] <= 4, 'Child/Teen', \n",
    "                  np.where(df['Age'] <= 8, 'Young Adult', \n",
    "                  np.where(df['Age'] <= 12, 'Older Adult', '60+')))"
   ]
  },
  {
   "cell_type": "markdown",
   "metadata": {},
   "source": [
    "**Change population type to int**"
   ]
  },
  {
   "cell_type": "code",
   "execution_count": 63,
   "metadata": {
    "collapsed": true
   },
   "outputs": [],
   "source": [
    "df['Population'] = df['Population'].astype('int64')"
   ]
  },
  {
   "cell_type": "markdown",
   "metadata": {},
   "source": [
    "**Group by Year, State, Race, Sex, and Age group to population for each group. Will save this to a file to be able to select how to divide the population for visualizations later in the analysis**"
   ]
  },
  {
   "cell_type": "code",
   "execution_count": 64,
   "metadata": {},
   "outputs": [
    {
     "data": {
      "text/plain": [
       "Year  State_Abbrev  Race  Sex  Age_Group  \n",
       "1994  AK            1     1    60+             16243\n",
       "                               Child/Teen      74405\n",
       "                               Older Adult     66529\n",
       "                               Young Adult     85065\n",
       "                          2    60+             16091\n",
       "                               Child/Teen      68444\n",
       "                               Older Adult     55786\n",
       "                               Young Adult     74111\n",
       "                    2     1    60+               410\n",
       "                               Child/Teen       5321\n",
       "                               Older Adult      2098\n",
       "                               Young Adult      5969\n",
       "                          2    60+               437\n",
       "                               Child/Teen       5263\n",
       "                               Older Adult      1704\n",
       "                               Young Adult      4927\n",
       "                    3     1    60+              4047\n",
       "                               Child/Teen      25622\n",
       "                               Older Adult     11076\n",
       "                               Young Adult     19408\n",
       "                          2    60+              4948\n",
       "                               Child/Teen      24548\n",
       "                               Older Adult     11917\n",
       "                               Young Adult     18939\n",
       "      AL            1     1    60+            244302\n",
       "                               Child/Teen     414002\n",
       "                               Older Adult    384838\n",
       "                               Young Adult    472679\n",
       "                          2    60+            343127\n",
       "                               Child/Teen     390725\n",
       "                                               ...  \n",
       "2016  WV            3     1    Older Adult      2658\n",
       "                               Young Adult      4042\n",
       "                          2    60+              2117\n",
       "                               Child/Teen       2559\n",
       "                               Older Adult      2992\n",
       "                               Young Adult      3652\n",
       "      WY            1     1    60+             59860\n",
       "                               Child/Teen      72905\n",
       "                               Older Adult     70050\n",
       "                               Young Adult     77990\n",
       "                          2    60+             63029\n",
       "                               Child/Teen      68579\n",
       "                               Older Adult     66957\n",
       "                               Young Adult     71295\n",
       "                    2     1    60+               748\n",
       "                               Child/Teen       1932\n",
       "                               Older Adult      1136\n",
       "                               Young Adult      2142\n",
       "                          2    60+               604\n",
       "                               Child/Teen       1676\n",
       "                               Older Adult       721\n",
       "                               Young Adult      1334\n",
       "                    3     1    60+              1254\n",
       "                               Child/Teen       4404\n",
       "                               Older Adult      2524\n",
       "                               Young Adult      3997\n",
       "                          2    60+              1603\n",
       "                               Child/Teen       4230\n",
       "                               Older Adult      2668\n",
       "                               Young Adult      3863\n",
       "Name: Population, Length: 28176, dtype: int64"
      ]
     },
     "execution_count": 64,
     "metadata": {},
     "output_type": "execute_result"
    }
   ],
   "source": [
    "df.groupby(['Year', 'State_Abbrev', 'Race', 'Sex', 'Age_Group'])['Population'].sum()"
   ]
  },
  {
   "cell_type": "markdown",
   "metadata": {},
   "source": [
    "**Group by Year and State and find state aggregates of population to combine with the main dataset**"
   ]
  },
  {
   "cell_type": "code",
   "execution_count": 65,
   "metadata": {
    "collapsed": true
   },
   "outputs": [],
   "source": [
    "Pop = df.groupby(['Year', 'State_Abbrev'])[['Population']].sum()"
   ]
  },
  {
   "cell_type": "code",
   "execution_count": 66,
   "metadata": {
    "collapsed": true
   },
   "outputs": [],
   "source": [
    "Pop = pd.DataFrame(Pop.to_records())"
   ]
  },
  {
   "cell_type": "code",
   "execution_count": 67,
   "metadata": {},
   "outputs": [
    {
     "name": "stdout",
     "output_type": "stream",
     "text": [
      "<class 'pandas.core.frame.DataFrame'>\n",
      "RangeIndex: 1174 entries, 0 to 1173\n",
      "Data columns (total 3 columns):\n",
      "Year            1174 non-null int32\n",
      "State_Abbrev    1174 non-null object\n",
      "Population      1174 non-null int64\n",
      "dtypes: int32(1), int64(1), object(1)\n",
      "memory usage: 23.0+ KB\n"
     ]
    }
   ],
   "source": [
    "Pop.info()"
   ]
  },
  {
   "cell_type": "markdown",
   "metadata": {},
   "source": [
    "**Population is the state aggregated population. Population2 is the more detailed state aggregated population**"
   ]
  },
  {
   "cell_type": "code",
   "execution_count": 68,
   "metadata": {
    "collapsed": true
   },
   "outputs": [],
   "source": [
    "Population = Pop.copy()"
   ]
  },
  {
   "cell_type": "code",
   "execution_count": 69,
   "metadata": {
    "collapsed": true
   },
   "outputs": [],
   "source": [
    "Population2 = df.copy()"
   ]
  },
  {
   "cell_type": "markdown",
   "metadata": {},
   "source": [
    "**Write to csv file**"
   ]
  },
  {
   "cell_type": "code",
   "execution_count": 70,
   "metadata": {
    "collapsed": true
   },
   "outputs": [],
   "source": [
    "Population.to_csv('Population.csv', index = False)"
   ]
  },
  {
   "cell_type": "code",
   "execution_count": 71,
   "metadata": {
    "collapsed": true
   },
   "outputs": [],
   "source": [
    "Population2.to_csv('Population2.csv', index = False)"
   ]
  },
  {
   "cell_type": "markdown",
   "metadata": {},
   "source": [
    "## Read Storm_Events and Clean"
   ]
  },
  {
   "cell_type": "code",
   "execution_count": 72,
   "metadata": {
    "collapsed": true
   },
   "outputs": [],
   "source": [
    "path = 'C:/Users/Skywind/Desktop/Backup2/Python/Springboard/project2/Storm_Events'\n",
    "csvFiles = glob.glob(path + '/*.csv')"
   ]
  },
  {
   "cell_type": "markdown",
   "metadata": {},
   "source": [
    "**Read in all data files**"
   ]
  },
  {
   "cell_type": "code",
   "execution_count": 73,
   "metadata": {
    "collapsed": true
   },
   "outputs": [],
   "source": [
    "i = 0\n",
    "\n",
    "for file in csvFiles:\n",
    "    \n",
    "    if i == 0:\n",
    "       \n",
    "        df = pd.read_csv(file, low_memory = False)\n",
    "        i += 1\n",
    "        continue\n",
    "    \n",
    "    df2 = pd.read_csv(file, low_memory = False)\n",
    "    df = pd.concat([df, df2])\n",
    "    i += 1"
   ]
  },
  {
   "cell_type": "code",
   "execution_count": 74,
   "metadata": {},
   "outputs": [
    {
     "name": "stdout",
     "output_type": "stream",
     "text": [
      "<class 'pandas.core.frame.DataFrame'>\n",
      "Int64Index: 1218787 entries, 0 to 56001\n",
      "Data columns (total 51 columns):\n",
      "BEGIN_YEARMONTH       1218787 non-null int64\n",
      "BEGIN_DAY             1218787 non-null int64\n",
      "BEGIN_TIME            1218787 non-null int64\n",
      "END_YEARMONTH         1218787 non-null int64\n",
      "END_DAY               1218787 non-null int64\n",
      "END_TIME              1218787 non-null int64\n",
      "EPISODE_ID            1182699 non-null float64\n",
      "EVENT_ID              1218787 non-null int64\n",
      "STATE                 1218786 non-null object\n",
      "STATE_FIPS            1218786 non-null float64\n",
      "YEAR                  1218787 non-null int64\n",
      "MONTH_NAME            1218787 non-null object\n",
      "EVENT_TYPE            1218787 non-null object\n",
      "CZ_TYPE               1218787 non-null object\n",
      "CZ_FIPS               1218787 non-null int64\n",
      "CZ_NAME               1218787 non-null object\n",
      "WFO                   1182699 non-null object\n",
      "BEGIN_DATE_TIME       1218787 non-null object\n",
      "CZ_TIMEZONE           1218787 non-null object\n",
      "END_DATE_TIME         1218787 non-null object\n",
      "INJURIES_DIRECT       1218787 non-null int64\n",
      "INJURIES_INDIRECT     1218787 non-null int64\n",
      "DEATHS_DIRECT         1218787 non-null int64\n",
      "DEATHS_INDIRECT       1218787 non-null int64\n",
      "DAMAGE_PROPERTY       733128 non-null object\n",
      "DAMAGE_CROPS          621011 non-null object\n",
      "SOURCE                1069073 non-null object\n",
      "MAGNITUDE             641132 non-null float64\n",
      "MAGNITUDE_TYPE        310173 non-null object\n",
      "FLOOD_CAUSE           60715 non-null object\n",
      "CATEGORY              221 non-null float64\n",
      "TOR_F_SCALE           30783 non-null object\n",
      "TOR_LENGTH            64758 non-null float64\n",
      "TOR_WIDTH             64758 non-null float64\n",
      "TOR_OTHER_WFO         1730 non-null object\n",
      "TOR_OTHER_CZ_STATE    1730 non-null object\n",
      "TOR_OTHER_CZ_FIPS     1730 non-null float64\n",
      "TOR_OTHER_CZ_NAME     1730 non-null object\n",
      "BEGIN_RANGE           558215 non-null float64\n",
      "BEGIN_AZIMUTH         532721 non-null object\n",
      "BEGIN_LOCATION        778770 non-null object\n",
      "END_RANGE             557838 non-null float64\n",
      "END_AZIMUTH           522356 non-null object\n",
      "END_LOCATION          746701 non-null object\n",
      "BEGIN_LAT             683018 non-null float64\n",
      "BEGIN_LON             683019 non-null float64\n",
      "END_LAT               681931 non-null float64\n",
      "END_LON               681932 non-null float64\n",
      "EPISODE_NARRATIVE     935830 non-null object\n",
      "EVENT_NARRATIVE       625560 non-null object\n",
      "DATA_SOURCE           1218787 non-null object\n",
      "dtypes: float64(13), int64(13), object(25)\n",
      "memory usage: 483.5+ MB\n"
     ]
    }
   ],
   "source": [
    "df.info()"
   ]
  },
  {
   "cell_type": "code",
   "execution_count": 75,
   "metadata": {},
   "outputs": [
    {
     "data": {
      "text/html": [
       "<div>\n",
       "<style scoped>\n",
       "    .dataframe tbody tr th:only-of-type {\n",
       "        vertical-align: middle;\n",
       "    }\n",
       "\n",
       "    .dataframe tbody tr th {\n",
       "        vertical-align: top;\n",
       "    }\n",
       "\n",
       "    .dataframe thead th {\n",
       "        text-align: right;\n",
       "    }\n",
       "</style>\n",
       "<table border=\"1\" class=\"dataframe\">\n",
       "  <thead>\n",
       "    <tr style=\"text-align: right;\">\n",
       "      <th></th>\n",
       "      <th>BEGIN_YEARMONTH</th>\n",
       "      <th>BEGIN_DAY</th>\n",
       "      <th>BEGIN_TIME</th>\n",
       "      <th>END_YEARMONTH</th>\n",
       "      <th>END_DAY</th>\n",
       "      <th>END_TIME</th>\n",
       "      <th>EPISODE_ID</th>\n",
       "      <th>EVENT_ID</th>\n",
       "      <th>STATE</th>\n",
       "      <th>STATE_FIPS</th>\n",
       "      <th>...</th>\n",
       "      <th>END_RANGE</th>\n",
       "      <th>END_AZIMUTH</th>\n",
       "      <th>END_LOCATION</th>\n",
       "      <th>BEGIN_LAT</th>\n",
       "      <th>BEGIN_LON</th>\n",
       "      <th>END_LAT</th>\n",
       "      <th>END_LON</th>\n",
       "      <th>EPISODE_NARRATIVE</th>\n",
       "      <th>EVENT_NARRATIVE</th>\n",
       "      <th>DATA_SOURCE</th>\n",
       "    </tr>\n",
       "  </thead>\n",
       "  <tbody>\n",
       "    <tr>\n",
       "      <th>0</th>\n",
       "      <td>199403</td>\n",
       "      <td>27</td>\n",
       "      <td>1132</td>\n",
       "      <td>199403</td>\n",
       "      <td>27</td>\n",
       "      <td>1132</td>\n",
       "      <td>NaN</td>\n",
       "      <td>10314418</td>\n",
       "      <td>ALABAMA</td>\n",
       "      <td>1.0</td>\n",
       "      <td>...</td>\n",
       "      <td>0.0</td>\n",
       "      <td>NaN</td>\n",
       "      <td>NaN</td>\n",
       "      <td>34.43</td>\n",
       "      <td>-85.98</td>\n",
       "      <td>34.47</td>\n",
       "      <td>-85.78</td>\n",
       "      <td>NaN</td>\n",
       "      <td>A tornado struck near the Grove Oak area in th...</td>\n",
       "      <td>CSV</td>\n",
       "    </tr>\n",
       "    <tr>\n",
       "      <th>1</th>\n",
       "      <td>199405</td>\n",
       "      <td>15</td>\n",
       "      <td>1930</td>\n",
       "      <td>199405</td>\n",
       "      <td>15</td>\n",
       "      <td>1930</td>\n",
       "      <td>NaN</td>\n",
       "      <td>10314419</td>\n",
       "      <td>ALABAMA</td>\n",
       "      <td>1.0</td>\n",
       "      <td>...</td>\n",
       "      <td>0.0</td>\n",
       "      <td>NaN</td>\n",
       "      <td>NaN</td>\n",
       "      <td>NaN</td>\n",
       "      <td>NaN</td>\n",
       "      <td>NaN</td>\n",
       "      <td>NaN</td>\n",
       "      <td>NaN</td>\n",
       "      <td>Sheriff's Department reported numerous large t...</td>\n",
       "      <td>CSV</td>\n",
       "    </tr>\n",
       "    <tr>\n",
       "      <th>2</th>\n",
       "      <td>199406</td>\n",
       "      <td>26</td>\n",
       "      <td>2220</td>\n",
       "      <td>199406</td>\n",
       "      <td>26</td>\n",
       "      <td>2220</td>\n",
       "      <td>NaN</td>\n",
       "      <td>10314420</td>\n",
       "      <td>ALABAMA</td>\n",
       "      <td>1.0</td>\n",
       "      <td>...</td>\n",
       "      <td>0.0</td>\n",
       "      <td>NaN</td>\n",
       "      <td>NaN</td>\n",
       "      <td>NaN</td>\n",
       "      <td>NaN</td>\n",
       "      <td>NaN</td>\n",
       "      <td>NaN</td>\n",
       "      <td>NaN</td>\n",
       "      <td>High wind damaged eight businesses, two homes,...</td>\n",
       "      <td>CSV</td>\n",
       "    </tr>\n",
       "    <tr>\n",
       "      <th>3</th>\n",
       "      <td>199405</td>\n",
       "      <td>15</td>\n",
       "      <td>1347</td>\n",
       "      <td>199405</td>\n",
       "      <td>15</td>\n",
       "      <td>1347</td>\n",
       "      <td>NaN</td>\n",
       "      <td>10314036</td>\n",
       "      <td>ALABAMA</td>\n",
       "      <td>1.0</td>\n",
       "      <td>...</td>\n",
       "      <td>0.0</td>\n",
       "      <td>NaN</td>\n",
       "      <td>NaN</td>\n",
       "      <td>NaN</td>\n",
       "      <td>NaN</td>\n",
       "      <td>NaN</td>\n",
       "      <td>NaN</td>\n",
       "      <td>NaN</td>\n",
       "      <td>Three-quarter inch hail was reported by state ...</td>\n",
       "      <td>CSV</td>\n",
       "    </tr>\n",
       "    <tr>\n",
       "      <th>4</th>\n",
       "      <td>199403</td>\n",
       "      <td>27</td>\n",
       "      <td>1550</td>\n",
       "      <td>199403</td>\n",
       "      <td>27</td>\n",
       "      <td>1550</td>\n",
       "      <td>NaN</td>\n",
       "      <td>10314044</td>\n",
       "      <td>ALABAMA</td>\n",
       "      <td>1.0</td>\n",
       "      <td>...</td>\n",
       "      <td>0.0</td>\n",
       "      <td>NaN</td>\n",
       "      <td>NaN</td>\n",
       "      <td>NaN</td>\n",
       "      <td>NaN</td>\n",
       "      <td>NaN</td>\n",
       "      <td>NaN</td>\n",
       "      <td>NaN</td>\n",
       "      <td>Numerous weather events were reported with a t...</td>\n",
       "      <td>CSV</td>\n",
       "    </tr>\n",
       "  </tbody>\n",
       "</table>\n",
       "<p>5 rows × 51 columns</p>\n",
       "</div>"
      ],
      "text/plain": [
       "   BEGIN_YEARMONTH  BEGIN_DAY  BEGIN_TIME  END_YEARMONTH  END_DAY  END_TIME  \\\n",
       "0           199403         27        1132         199403       27      1132   \n",
       "1           199405         15        1930         199405       15      1930   \n",
       "2           199406         26        2220         199406       26      2220   \n",
       "3           199405         15        1347         199405       15      1347   \n",
       "4           199403         27        1550         199403       27      1550   \n",
       "\n",
       "   EPISODE_ID  EVENT_ID    STATE  STATE_FIPS     ...      END_RANGE  \\\n",
       "0         NaN  10314418  ALABAMA         1.0     ...            0.0   \n",
       "1         NaN  10314419  ALABAMA         1.0     ...            0.0   \n",
       "2         NaN  10314420  ALABAMA         1.0     ...            0.0   \n",
       "3         NaN  10314036  ALABAMA         1.0     ...            0.0   \n",
       "4         NaN  10314044  ALABAMA         1.0     ...            0.0   \n",
       "\n",
       "  END_AZIMUTH END_LOCATION BEGIN_LAT  BEGIN_LON END_LAT END_LON  \\\n",
       "0         NaN          NaN     34.43     -85.98   34.47  -85.78   \n",
       "1         NaN          NaN       NaN        NaN     NaN     NaN   \n",
       "2         NaN          NaN       NaN        NaN     NaN     NaN   \n",
       "3         NaN          NaN       NaN        NaN     NaN     NaN   \n",
       "4         NaN          NaN       NaN        NaN     NaN     NaN   \n",
       "\n",
       "  EPISODE_NARRATIVE                                    EVENT_NARRATIVE  \\\n",
       "0               NaN  A tornado struck near the Grove Oak area in th...   \n",
       "1               NaN  Sheriff's Department reported numerous large t...   \n",
       "2               NaN  High wind damaged eight businesses, two homes,...   \n",
       "3               NaN  Three-quarter inch hail was reported by state ...   \n",
       "4               NaN  Numerous weather events were reported with a t...   \n",
       "\n",
       "  DATA_SOURCE  \n",
       "0         CSV  \n",
       "1         CSV  \n",
       "2         CSV  \n",
       "3         CSV  \n",
       "4         CSV  \n",
       "\n",
       "[5 rows x 51 columns]"
      ]
     },
     "execution_count": 75,
     "metadata": {},
     "output_type": "execute_result"
    }
   ],
   "source": [
    "df.head()"
   ]
  },
  {
   "cell_type": "markdown",
   "metadata": {},
   "source": [
    "**Include only the relevant columns**"
   ]
  },
  {
   "cell_type": "code",
   "execution_count": 76,
   "metadata": {
    "collapsed": true
   },
   "outputs": [],
   "source": [
    "df = df.loc[:, ['BEGIN_YEARMONTH', 'STATE', 'YEAR', 'EVENT_TYPE', 'INJURIES_DIRECT', 'INJURIES_INDIRECT',\n",
    "                'DEATHS_DIRECT', 'DEATHS_INDIRECT', 'DAMAGE_PROPERTY', 'DAMAGE_CROPS']]"
   ]
  },
  {
   "cell_type": "markdown",
   "metadata": {},
   "source": [
    "**Change to string type and extract the month as a separate column**"
   ]
  },
  {
   "cell_type": "code",
   "execution_count": 77,
   "metadata": {
    "collapsed": true
   },
   "outputs": [],
   "source": [
    "df['BEGIN_YEARMONTH'] = df['BEGIN_YEARMONTH'].astype(str)"
   ]
  },
  {
   "cell_type": "code",
   "execution_count": 78,
   "metadata": {
    "collapsed": true
   },
   "outputs": [],
   "source": [
    "Month = []\n",
    "\n",
    "for date in df.loc[:, 'BEGIN_YEARMONTH']:\n",
    "    Month.append(date[4:6])\n",
    "    \n",
    "df['Month'] = np.array(Month).astype('int64')"
   ]
  },
  {
   "cell_type": "code",
   "execution_count": 79,
   "metadata": {},
   "outputs": [
    {
     "name": "stdout",
     "output_type": "stream",
     "text": [
      "<class 'pandas.core.frame.DataFrame'>\n",
      "Int64Index: 1218787 entries, 0 to 56001\n",
      "Data columns (total 11 columns):\n",
      "BEGIN_YEARMONTH      1218787 non-null object\n",
      "STATE                1218786 non-null object\n",
      "YEAR                 1218787 non-null int64\n",
      "EVENT_TYPE           1218787 non-null object\n",
      "INJURIES_DIRECT      1218787 non-null int64\n",
      "INJURIES_INDIRECT    1218787 non-null int64\n",
      "DEATHS_DIRECT        1218787 non-null int64\n",
      "DEATHS_INDIRECT      1218787 non-null int64\n",
      "DAMAGE_PROPERTY      733128 non-null object\n",
      "DAMAGE_CROPS         621011 non-null object\n",
      "Month                1218787 non-null int64\n",
      "dtypes: int64(6), object(5)\n",
      "memory usage: 111.6+ MB\n"
     ]
    }
   ],
   "source": [
    "df.info()"
   ]
  },
  {
   "cell_type": "markdown",
   "metadata": {},
   "source": [
    "**Change display settings to be able to view all the counts to determine how to clean column data**"
   ]
  },
  {
   "cell_type": "code",
   "execution_count": 80,
   "metadata": {
    "collapsed": true
   },
   "outputs": [],
   "source": [
    "pd.set_option('display.height', 1000)\n",
    "pd.set_option('display.max_rows', 1000)"
   ]
  },
  {
   "cell_type": "code",
   "execution_count": 81,
   "metadata": {
    "scrolled": true
   },
   "outputs": [
    {
     "data": {
      "text/plain": [
       "0.00K                 382247\n",
       "0                      42235\n",
       "5K                     21885\n",
       "5.00K                  20242\n",
       "1.00K                  19382\n",
       "10.00K                 16704\n",
       "10K                    15526\n",
       "2.00K                  13660\n",
       "1K                     11061\n",
       "2K                     10842\n",
       "50K                     8668\n",
       "0K                      8533\n",
       "3.00K                   7537\n",
       "25.00K                  7308\n",
       "50.00K                  7087\n",
       "20K                     6622\n",
       "15.00K                  6557\n",
       "3K                      6442\n",
       "20.00K                  6430\n",
       "15K                     5974\n",
       "25K                     5619\n",
       "100.00K                 4787\n",
       "0.50K                   4610\n",
       ".5K                     3868\n",
       "100K                    3759\n",
       "30K                     2958\n",
       "30.00K                  2926\n",
       "4.00K                   2398\n",
       "8.00K                   1990\n",
       "4K                      1953\n",
       "75.00K                  1917\n",
       "250.00K                 1867\n",
       "8K                      1824\n",
       "500.00K                 1734\n",
       "75K                     1719\n",
       "500K                    1712\n",
       "200.00K                 1634\n",
       "40K                     1597\n",
       "150.00K                 1472\n",
       "40.00K                  1455\n",
       ".1K                     1360\n",
       "150K                    1335\n",
       "200K                    1310\n",
       "1.50K                   1270\n",
       "6.00K                   1235\n",
       "1M                      1218\n",
       "250K                    1177\n",
       "1.00M                   1155\n",
       "7.00K                   1042\n",
       "12.00K                   974\n",
       "6K                       963\n",
       ".1M                      939\n",
       "35.00K                   929\n",
       ".01K                     861\n",
       "12K                      795\n",
       "300.00K                  795\n",
       "1.5K                     794\n",
       "35K                      791\n",
       "7K                       780\n",
       "2.5K                     702\n",
       "2.50K                    677\n",
       "60.00K                   676\n",
       "300K                     662\n",
       "60K                      619\n",
       "0.10K                    604\n",
       "80K                      602\n",
       "2M                       552\n",
       "2.00M                    467\n",
       ".5M                      456\n",
       ".05K                     446\n",
       "0.25K                    434\n",
       ".2K                      427\n",
       "5M                       421\n",
       "400.00K                  409\n",
       "750.00K                  395\n",
       "80.00K                   386\n",
       "70K                      370\n",
       ".01M                     362\n",
       "0.20K                    359\n",
       "0.90K                    350\n",
       ".2M                      346\n",
       ".75K                     328\n",
       "400K                     325\n",
       "125.00K                  319\n",
       "1.5M                     313\n",
       "1.50M                    308\n",
       ".25K                     294\n",
       "125K                     292\n",
       "70.00K                   291\n",
       "0.75K                    290\n",
       "45.00K                   288\n",
       "5.00M                    287\n",
       "45K                      286\n",
       "3.00M                    277\n",
       "3M                       267\n",
       "18K                      264\n",
       "7.50K                    263\n",
       "18.00K                   233\n",
       "1.25K                    233\n",
       ".25M                     231\n",
       ".02M                     215\n",
       "350.00K                  212\n",
       "10M                      211\n",
       "600.00K                  209\n",
       "9.00K                    206\n",
       "750K                     206\n",
       "10.00M                   205\n",
       ".3M                      199\n",
       ".05M                     195\n",
       "350K                     194\n",
       "9K                       186\n",
       "7.5K                     183\n",
       ".3K                      183\n",
       ".15M                     177\n",
       "0.30K                    177\n",
       "3.5K                     177\n",
       "120.00K                  168\n",
       "90K                      148\n",
       "4.00M                    147\n",
       "2.5M                     147\n",
       "4.50K                    145\n",
       "4M                       140\n",
       "120K                     137\n",
       "600K                     137\n",
       "2.50M                    130\n",
       "700.00K                  123\n",
       "90.00K                   122\n",
       "11K                      122\n",
       "800.00K                  121\n",
       "800K                     121\n",
       "55K                      121\n",
       "65.00K                   118\n",
       "55.00K                   117\n",
       "16.00K                   116\n",
       "6M                       115\n",
       "65K                      112\n",
       "175K                     111\n",
       "1.2M                     111\n",
       "22K                      106\n",
       "14K                      105\n",
       "20M                      104\n",
       "175.00K                  103\n",
       "0.60K                     99\n",
       ".4M                       99\n",
       "0.50M                     98\n",
       "14.00K                    96\n",
       "13K                       93\n",
       "13.00K                    92\n",
       "17K                       91\n",
       "0.70K                     87\n",
       "700K                      87\n",
       "1.20M                     85\n",
       "450K                      84\n",
       "85K                       83\n",
       ".4K                       83\n",
       ".8K                       82\n",
       "50M                       81\n",
       "50.00M                    80\n",
       "16K                       79\n",
       "11.00K                    79\n",
       "1.25M                     77\n",
       "1000.00K                  76\n",
       "450.00K                   72\n",
       "110.00K                   71\n",
       "22.00K                    70\n",
       "110K                      70\n",
       "20.00M                    69\n",
       "8M                        69\n",
       "15M                       68\n",
       "135.00K                   68\n",
       "3.50K                     68\n",
       "1.1M                      66\n",
       "0.80K                     66\n",
       ".03M                      65\n",
       "15.00M                    63\n",
       "32.79K                    61\n",
       "900.00K                   61\n",
       "4.5K                      61\n",
       "33K                       61\n",
       "7M                        60\n",
       "17.00K                    59\n",
       "24.00K                    59\n",
       "0.01K                     59\n",
       "500                       58\n",
       "3.5M                      58\n",
       "7.00M                     58\n",
       "25M                       57\n",
       ".6K                       57\n",
       ".75M                      56\n",
       "225.00K                   56\n",
       "85.00K                    56\n",
       "0.40K                     55\n",
       "6.00M                     55\n",
       "3.50M                     55\n",
       "25.00M                    52\n",
       "21K                       52\n",
       "5.88K                     51\n",
       "20.4K                     51\n",
       "24.9K                     51\n",
       "12.65M                    51\n",
       "1.3M                      50\n",
       "100.00M                   49\n",
       ".98M                      49\n",
       "23K                       48\n",
       "130.00K                   47\n",
       "75.11K                    47\n",
       "8.00M                     46\n",
       "28K                       45\n",
       ".8M                       45\n",
       "1.4M                      45\n",
       ".02K                      45\n",
       "1.7M                      44\n",
       "K                         44\n",
       "2.05K                     44\n",
       "1.10M                     44\n",
       "275K                      43\n",
       "12.50K                    42\n",
       "1.30M                     42\n",
       ".18M                      41\n",
       "225K                      41\n",
       ".6M                       41\n",
       "1.8M                      41\n",
       "900K                      40\n",
       "27K                       40\n",
       "130K                      40\n",
       "1.80K                     39\n",
       "140K                      38\n",
       "1.6M                      38\n",
       "23.00K                    38\n",
       "1.53M                     38\n",
       ".7M                       38\n",
       "100M                      37\n",
       "28.00K                    37\n",
       ".15K                      37\n",
       "4.5M                      37\n",
       "13.9K                     36\n",
       "4.50M                     36\n",
       "160.00K                   35\n",
       "160K                      35\n",
       "1.20K                     35\n",
       "180.00K                   35\n",
       "12.5K                     35\n",
       "12.00M                    34\n",
       "40M                       34\n",
       "275.00K                   34\n",
       "30M                       34\n",
       "9M                        34\n",
       "375.00K                   33\n",
       "24K                       33\n",
       "550.00K                   33\n",
       "140.00K                   33\n",
       "3.33K                     33\n",
       "650K                      33\n",
       "1.40M                     32\n",
       "19K                       32\n",
       "95K                       32\n",
       "12M                       32\n",
       ".7K                       32\n",
       "1.75M                     31\n",
       "2.25K                     31\n",
       "21.00K                    31\n",
       "30.00M                    30\n",
       "1.80M                     30\n",
       "650.00K                   30\n",
       "0M                        30\n",
       ".9K                       30\n",
       "1.2K                      30\n",
       "32.00K                    30\n",
       ".12M                      29\n",
       "2.2M                      28\n",
       "95.00K                    28\n",
       "5.54M                     27\n",
       "1.60M                     27\n",
       "74.07K                    27\n",
       "180K                      27\n",
       "5.55K                     27\n",
       "16.67K                    27\n",
       ".11K                      26\n",
       "0.00M                     26\n",
       "550K                      26\n",
       ".57M                      26\n",
       "728.55K                   25\n",
       "2.25M                     25\n",
       "0.10M                     25\n",
       "27.00K                    25\n",
       "11M                       24\n",
       "20.83K                    24\n",
       ".22M                      23\n",
       "325K                      23\n",
       "01                        23\n",
       "5.50K                     23\n",
       "8.5K                      23\n",
       "2.08K                     23\n",
       "2.1M                      23\n",
       ".64M                      23\n",
       "40.00M                    23\n",
       "325.00K                   22\n",
       "5.5K                      22\n",
       "10.45K                    22\n",
       "2.10M                     22\n",
       "105.00K                   22\n",
       "0.25M                     21\n",
       "375K                      21\n",
       "1.75K                     21\n",
       "115K                      21\n",
       "1.70M                     21\n",
       ".04M                      21\n",
       "2.20M                     21\n",
       "5000.00K                  21\n",
       "11.00M                    21\n",
       ".9M                       21\n",
       "26K                       21\n",
       "26.00K                    20\n",
       "36.00K                    20\n",
       "240.00K                   20\n",
       ".06K                      20\n",
       "850K                      20\n",
       "1.54M                     19\n",
       "210.00K                   19\n",
       "2.4M                      19\n",
       "9.00M                     19\n",
       "660.00K                   19\n",
       "100                       19\n",
       "850.00K                   19\n",
       "32K                       18\n",
       "0.75M                     18\n",
       "33.00K                    18\n",
       "220.00K                   18\n",
       "2.70K                     18\n",
       "135K                      18\n",
       "1.1K                      17\n",
       "48.00K                    17\n",
       "35.00M                    17\n",
       "18M                       17\n",
       "1.90M                     17\n",
       "34K                       17\n",
       "6.39M                     17\n",
       "1.9M                      16\n",
       "93.75K                    16\n",
       "2.8M                      16\n",
       "280.00K                   16\n",
       "6.67K                     16\n",
       "220K                      16\n",
       "150.00M                   16\n",
       "260.00K                   16\n",
       "29K                       16\n",
       "170.00K                   16\n",
       "240K                      16\n",
       ".31K                      16\n",
       "0.20M                     16\n",
       ".35M                      16\n",
       "14M                       16\n",
       "42K                       15\n",
       "38K                       15\n",
       ".13M                      15\n",
       "6.50K                     15\n",
       "105K                      15\n",
       "15.63K                    15\n",
       "1.36M                     15\n",
       "2.70M                     15\n",
       "170K                      15\n",
       "2.40M                     15\n",
       "2.86K                     15\n",
       "200                       14\n",
       ".22K                      14\n",
       "8.50M                     14\n",
       "165K                      14\n",
       "33.33K                    14\n",
       "3.2M                      14\n",
       "7.5M                      14\n",
       "13M                       14\n",
       "2.30M                     14\n",
       "190K                      14\n",
       "75.00M                    14\n",
       "5.5M                      14\n",
       "2.3M                      14\n",
       "71.43K                    14\n",
       "38.00K                    14\n",
       "2.14K                     14\n",
       "6.50M                     14\n",
       "41K                       14\n",
       "37K                       13\n",
       "7.69K                     13\n",
       "5.50M                     13\n",
       "500.00M                   13\n",
       "210K                      13\n",
       "3.3M                      13\n",
       "6.25K                     13\n",
       "115.00K                   13\n",
       ".85K                      13\n",
       "215.00K                   13\n",
       "250                       13\n",
       "0.15K                     12\n",
       "3.10M                     12\n",
       "300                       12\n",
       "200.00M                   12\n",
       "19.00K                    12\n",
       "14.00M                    12\n",
       "5.55M                     12\n",
       "3.60K                     12\n",
       "6.5K                      12\n",
       "44.00K                    12\n",
       "2.7M                      12\n",
       ".21K                      12\n",
       "4.2M                      12\n",
       "165.00K                   12\n",
       "3.25K                     12\n",
       "230.00K                   12\n",
       "3.6M                      12\n",
       "727.00K                   12\n",
       "190.00K                   12\n",
       "320.00K                   12\n",
       "0.05K                     12\n",
       "1.3K                      12\n",
       "2.60M                     12\n",
       "2.80M                     12\n",
       "420.00K                   11\n",
       "4.4M                      11\n",
       "4.44M                     11\n",
       "3.8M                      11\n",
       "145.00K                   11\n",
       "48K                       11\n",
       "200M                      11\n",
       "11.82K                    11\n",
       "3.30M                     11\n",
       "4.54K                     11\n",
       "22.73K                    11\n",
       "42.00K                    11\n",
       "330.00K                   11\n",
       "60.00M                    11\n",
       "6.5M                      11\n",
       "31K                       11\n",
       "1.8K                      11\n",
       "56.00K                    11\n",
       "4.545454545454546K        11\n",
       ".09K                      11\n",
       "380K                      10\n",
       "36K                       10\n",
       "425K                      10\n",
       "3.12K                     10\n",
       ".08M                      10\n",
       "7.50M                     10\n",
       "34.00K                    10\n",
       "5.56K                     10\n",
       "8.5M                      10\n",
       "53.00K                    10\n",
       ".45M                      10\n",
       "17M                       10\n",
       "80M                       10\n",
       ".76K                      10\n",
       "13.00M                    10\n",
       "46K                       10\n",
       "481.00K                   10\n",
       "16.00M                    10\n",
       "60M                       10\n",
       "750                        9\n",
       "70.00M                     9\n",
       "360.00K                    9\n",
       "45.00M                     9\n",
       "31.00K                     9\n",
       "58K                        9\n",
       "1.6K                       9\n",
       "5.8M                       9\n",
       "37.5K                      9\n",
       "425.00K                    9\n",
       "02                         9\n",
       "4.8M                       9\n",
       "05                         9\n",
       "1.4K                       8\n",
       "3.80M                      8\n",
       "129.00K                    8\n",
       ".23M                       8\n",
       "9.5M                       8\n",
       "19.94K                     8\n",
       "400.00M                    8\n",
       "8.50K                      8\n",
       "950.00K                    8\n",
       "1.67M                      8\n",
       "43K                        8\n",
       "62.00K                     8\n",
       "68.00K                     8\n",
       "35M                        8\n",
       ".17M                       8\n",
       "9.80M                      8\n",
       "340.00K                    8\n",
       "230K                       8\n",
       "58.00K                     8\n",
       "1.99M                      8\n",
       "320K                       8\n",
       "83K                        8\n",
       "330K                       8\n",
       "47K                        8\n",
       "16M                        8\n",
       "57K                        8\n",
       "63K                        8\n",
       "17.00M                     8\n",
       ".24M                       8\n",
       "70M                        8\n",
       "9.20M                      8\n",
       "3.9M                       8\n",
       "                       ...  \n",
       ".77M                       1\n",
       "597K                       1\n",
       "37.00M                     1\n",
       "27.20M                     1\n",
       "246K                       1\n",
       "4.75K                      1\n",
       "5090.00K                   1\n",
       "458.00K                    1\n",
       "66.00M                     1\n",
       "459K                       1\n",
       "726.00K                    1\n",
       "12.09M                     1\n",
       "5.41M                      1\n",
       "374.00K                    1\n",
       "4.74M                      1\n",
       "990K                       1\n",
       "181.00K                    1\n",
       "242.80K                    1\n",
       "0.01M                      1\n",
       "10.70K                     1\n",
       "478K                       1\n",
       "11.16M                     1\n",
       "7110.00K                   1\n",
       "156.50K                    1\n",
       "2.83M                      1\n",
       ".4B                        1\n",
       "220M                       1\n",
       "0.52M                      1\n",
       "840.00K                    1\n",
       "6.60K                      1\n",
       "553.00K                    1\n",
       "547K                       1\n",
       "254K                       1\n",
       "738K                       1\n",
       "3.8K                       1\n",
       "68.61K                     1\n",
       "322.2K                     1\n",
       "3870.00K                   1\n",
       "176K                       1\n",
       "54.1K                      1\n",
       "141K                       1\n",
       "986.00K                    1\n",
       ".16K                       1\n",
       "118.00K                    1\n",
       "18.50K                     1\n",
       "21.5M                      1\n",
       "7.98K                      1\n",
       "1.95K                      1\n",
       "21.30M                     1\n",
       "969.19K                    1\n",
       "0.06M                      1\n",
       "63.70M                     1\n",
       "5.99M                      1\n",
       "89.5K                      1\n",
       "145                        1\n",
       "440M                       1\n",
       "4.20K                      1\n",
       "319.00K                    1\n",
       "128.70M                    1\n",
       "308K                       1\n",
       "33.45M                     1\n",
       "257.40K                    1\n",
       "26.2M                      1\n",
       "5.47M                      1\n",
       ".70                        1\n",
       "3.63M                      1\n",
       "1.71M                      1\n",
       "11.5K                      1\n",
       "4.80M                      1\n",
       "0.23M                      1\n",
       "1.22M                      1\n",
       "77.97M                     1\n",
       ".51M                       1\n",
       "2.82M                      1\n",
       "1300.00K                   1\n",
       "15.66M                     1\n",
       "362K                       1\n",
       "3.68M                      1\n",
       "49.50K                     1\n",
       "166.5M                     1\n",
       "96.60M                     1\n",
       "890.00K                    1\n",
       "41.57M                     1\n",
       "653.00K                    1\n",
       "109K                       1\n",
       "6.06M                      1\n",
       "1.18M                      1\n",
       "12.29M                     1\n",
       "584.00K                    1\n",
       "43.2M                      1\n",
       "809K                       1\n",
       "13.20K                     1\n",
       "431.00K                    1\n",
       "6.90M                      1\n",
       "6.75M                      1\n",
       "3.55M                      1\n",
       "0.04M                      1\n",
       "1.34B                      1\n",
       "271K                       1\n",
       "16.70M                     1\n",
       "603.00K                    1\n",
       "335K                       1\n",
       "588.2K                     1\n",
       ".68M                       1\n",
       "710.00K                    1\n",
       "17.8M                      1\n",
       "598.00K                    1\n",
       ".10                        1\n",
       "166.00M                    1\n",
       "365.55K                    1\n",
       "355K                       1\n",
       "16.6M                      1\n",
       "10.25K                     1\n",
       "3.99M                      1\n",
       "988K                       1\n",
       "5.20K                      1\n",
       "4.69M                      1\n",
       "22.14M                     1\n",
       "3.1K                       1\n",
       "146.5M                     1\n",
       "167.50K                    1\n",
       "471.00K                    1\n",
       "413K                       1\n",
       "552K                       1\n",
       "17.80K                     1\n",
       "885                        1\n",
       "34.31M                     1\n",
       "4.37M                      1\n",
       "499.00K                    1\n",
       "912K                       1\n",
       "370K                       1\n",
       "2.75B                      1\n",
       "316.00K                    1\n",
       "3.56M                      1\n",
       "177K                       1\n",
       ".19M                       1\n",
       "39.6K                      1\n",
       "882.00K                    1\n",
       ".69M                       1\n",
       "9.90M                      1\n",
       "7500.00K                   1\n",
       "3.81M                      1\n",
       "44.5K                      1\n",
       "973.00K                    1\n",
       "161.10M                    1\n",
       "21.75M                     1\n",
       "413.5K                     1\n",
       "3210.00K                   1\n",
       "266                        1\n",
       "5.91M                      1\n",
       "23.7K                      1\n",
       "233K                       1\n",
       "7407.00K                   1\n",
       "301.00K                    1\n",
       "691K                       1\n",
       "518K                       1\n",
       "547M                       1\n",
       "31.2M                      1\n",
       "870K                       1\n",
       "30.7M                      1\n",
       "7000.00K                   1\n",
       "213.30M                    1\n",
       "43.50M                     1\n",
       "31.74M                     1\n",
       "10.1M                      1\n",
       "252M                       1\n",
       "432.00K                    1\n",
       "33.5M                      1\n",
       "27.80M                     1\n",
       "11.70K                     1\n",
       ".45K                       1\n",
       "563K                       1\n",
       "818.46K                    1\n",
       ".18B                       1\n",
       "131.00K                    1\n",
       "581.00K                    1\n",
       "73.00M                     1\n",
       "3758.00K                   1\n",
       "3.65M                      1\n",
       "8.81M                      1\n",
       "606K                       1\n",
       "9.06M                      1\n",
       "12.4M                      1\n",
       "39M                        1\n",
       "31.50K                     1\n",
       "14.20M                     1\n",
       "34.63M                     1\n",
       "24.10M                     1\n",
       "578K                       1\n",
       "23.4M                      1\n",
       "16.96M                     1\n",
       "564.00K                    1\n",
       "235.00M                    1\n",
       "309.00M                    1\n",
       ".41M                       1\n",
       "1.86M                      1\n",
       "619.00K                    1\n",
       "2.25B                      1\n",
       "177M                       1\n",
       ".17K                       1\n",
       "220.00M                    1\n",
       "623K                       1\n",
       "913.00K                    1\n",
       "786.00K                    1\n",
       "3.70K                      1\n",
       "830.00K                    1\n",
       "25.5K                      1\n",
       "53.90K                     1\n",
       "3.23M                      1\n",
       "221.00K                    1\n",
       "2342.00K                   1\n",
       "740K                       1\n",
       "113K                       1\n",
       "35.2K                      1\n",
       "211.00K                    1\n",
       "150.20K                    1\n",
       "1.92M                      1\n",
       "1.10B                      1\n",
       "4.57M                      1\n",
       "954.00K                    1\n",
       "45.50K                     1\n",
       "24.70M                     1\n",
       "6.7K                       1\n",
       "44.50K                     1\n",
       "8.60M                      1\n",
       "343K                       1\n",
       "1.90K                      1\n",
       "16.10M                     1\n",
       "654K                       1\n",
       "3.48M                      1\n",
       "2.54B                      1\n",
       "19.25K                     1\n",
       "914.00K                    1\n",
       "3.29M                      1\n",
       "502.7K                     1\n",
       "954K                       1\n",
       "120.80M                    1\n",
       "8.32M                      1\n",
       "879K                       1\n",
       "8.31M                      1\n",
       "6.34M                      1\n",
       "7.24M                      1\n",
       ".5B                        1\n",
       "615.00K                    1\n",
       "265.10K                    1\n",
       "17.14M                     1\n",
       "23.5M                      1\n",
       "781.00K                    1\n",
       "10.13M                     1\n",
       "5788.00K                   1\n",
       "557.00K                    1\n",
       "247.00K                    1\n",
       "688.00K                    1\n",
       "0.55M                      1\n",
       "777.8K                     1\n",
       "25.02M                     1\n",
       "9.31M                      1\n",
       "14.10K                     1\n",
       "60                         1\n",
       "3.59M                      1\n",
       "2.55M                      1\n",
       "274.00K                    1\n",
       "11.60K                     1\n",
       "3.67M                      1\n",
       ".36M                       1\n",
       "6400.00K                   1\n",
       "7.06M                      1\n",
       "1584.00K                   1\n",
       "716.00K                    1\n",
       "2.18K                      1\n",
       "7.70M                      1\n",
       "932K                       1\n",
       "505K                       1\n",
       "37.4M                      1\n",
       "2.85K                      1\n",
       "610.00K                    1\n",
       "644.00K                    1\n",
       "841.00K                    1\n",
       "1127.00K                   1\n",
       "667.00K                    1\n",
       ".78K                       1\n",
       "17.92M                     1\n",
       ".78M                       1\n",
       "83.80K                     1\n",
       "960.00K                    1\n",
       "15.30M                     1\n",
       "41M                        1\n",
       "16.74M                     1\n",
       "89K                        1\n",
       "13.13M                     1\n",
       "147.00M                    1\n",
       "278.6M                     1\n",
       "38.00M                     1\n",
       "305                        1\n",
       "0.57K                      1\n",
       "6.07M                      1\n",
       "1.66M                      1\n",
       "6.3K                       1\n",
       "180M                       1\n",
       "163K                       1\n",
       "162K                       1\n",
       "1.46K                      1\n",
       "9.75K                      1\n",
       "46.8K                      1\n",
       "508K                       1\n",
       "9.30M                      1\n",
       "269.70K                    1\n",
       "282.00K                    1\n",
       "59.5M                      1\n",
       "08                         1\n",
       "21.3M                      1\n",
       "138K                       1\n",
       "3.72M                      1\n",
       "82.00M                     1\n",
       "60.4M                      1\n",
       "1748.00K                   1\n",
       "40.30K                     1\n",
       "4.78M                      1\n",
       "572.00K                    1\n",
       "281.00K                    1\n",
       "6.57M                      1\n",
       "724K                       1\n",
       "15.50K                     1\n",
       "20.20M                     1\n",
       "979K                       1\n",
       "2.68M                      1\n",
       "776.00K                    1\n",
       "868.00K                    1\n",
       "31.60K                     1\n",
       "242.00K                    1\n",
       "12.90K                     1\n",
       "32.00M                     1\n",
       "0.67M                      1\n",
       ".66K                       1\n",
       ".95K                       1\n",
       "21.7K                      1\n",
       "785.00K                    1\n",
       "8.83K                      1\n",
       "493K                       1\n",
       ".50                        1\n",
       "426.00K                    1\n",
       "179.5K                     1\n",
       "106.00K                    1\n",
       ".15                        1\n",
       "236.00K                    1\n",
       "161.20M                    1\n",
       "919K                       1\n",
       "992.00K                    1\n",
       "662K                       1\n",
       "1.68M                      1\n",
       "357K                       1\n",
       "20.40M                     1\n",
       "895.00K                    1\n",
       "57.00M                     1\n",
       "1.06M                      1\n",
       "62.60K                     1\n",
       "39.90M                     1\n",
       "715.00K                    1\n",
       "40.2K                      1\n",
       "312K                       1\n",
       "936K                       1\n",
       ".86K                       1\n",
       "61K                        1\n",
       "39.00M                     1\n",
       "45.50M                     1\n",
       "16.70K                     1\n",
       "487.00K                    1\n",
       "10.14M                     1\n",
       "254.00K                    1\n",
       "881M                       1\n",
       "24.21M                     1\n",
       "3.01M                      1\n",
       "490K                       1\n",
       "612.00K                    1\n",
       "2.02M                      1\n",
       "2h                         1\n",
       "13.30M                     1\n",
       "382M                       1\n",
       "13.20M                     1\n",
       "1299.00K                   1\n",
       "40.5K                      1\n",
       "716.3K                     1\n",
       "2.3K                       1\n",
       "94M                        1\n",
       "226.00K                    1\n",
       "19.77K                     1\n",
       "5.85M                      1\n",
       "89.00M                     1\n",
       "989.00K                    1\n",
       "1.76M                      1\n",
       "3.22M                      1\n",
       "3.47M                      1\n",
       "27.9M                      1\n",
       "431.72K                    1\n",
       "5.08M                      1\n",
       "766K                       1\n",
       "12.6M                      1\n",
       "2.80B                      1\n",
       "343.00K                    1\n",
       "153.55K                    1\n",
       "147                        1\n",
       "0.76M                      1\n",
       "4.68M                      1\n",
       "6.61M                      1\n",
       "47.3K                      1\n",
       "29.7M                      1\n",
       "15.3M                      1\n",
       "571K                       1\n",
       "402.30K                    1\n",
       "2.81M                      1\n",
       "4.1K                       1\n",
       "202.00K                    1\n",
       "2819.00K                   1\n",
       "52.50K                     1\n",
       "38.50M                     1\n",
       "0.00                       1\n",
       "1.01M                      1\n",
       "246                        1\n",
       "9.7K                       1\n",
       "2.72M                      1\n",
       "1.41M                      1\n",
       "322.00K                    1\n",
       "926.00K                    1\n",
       "5.10K                      1\n",
       "665.00K                    1\n",
       "8                          1\n",
       "436K                       1\n",
       "27.5K                      1\n",
       "25.92M                     1\n",
       "537K                       1\n",
       "52.50M                     1\n",
       "7.30M                      1\n",
       "224K                       1\n",
       "86.6K                      1\n",
       "47.80K                     1\n",
       "3.87M                      1\n",
       "3.15M                      1\n",
       "22.7M                      1\n",
       "1633.00K                   1\n",
       "62.63K                     1\n",
       "13.54M                     1\n",
       "78.2K                      1\n",
       "163.5K                     1\n",
       "3.85M                      1\n",
       "5.16M                      1\n",
       "44.7M                      1\n",
       "25.65M                     1\n",
       "34.56M                     1\n",
       "8.2K                       1\n",
       "1302.00K                   1\n",
       "21.50K                     1\n",
       "4.35M                      1\n",
       "196.00K                    1\n",
       "105                        1\n",
       "530K                       1\n",
       "590K                       1\n",
       "14.80K                     1\n",
       "957.00K                    1\n",
       "36.25K                     1\n",
       "686.00K                    1\n",
       "2.33M                      1\n",
       "66.20K                     1\n",
       "317.00K                    1\n",
       "706K                       1\n",
       "102K                       1\n",
       "4.64M                      1\n",
       "3.46M                      1\n",
       ".31M                       1\n",
       "8.64M                      1\n",
       "260M                       1\n",
       "66.9M                      1\n",
       "350                        1\n",
       "88.75K                     1\n",
       "24.20M                     1\n",
       "777.00K                    1\n",
       "20.70M                     1\n",
       "217.00K                    1\n",
       "420.00M                    1\n",
       "632K                       1\n",
       "726K                       1\n",
       "3460.00K                   1\n",
       "502K                       1\n",
       "165M                       1\n",
       "164.50K                    1\n",
       "385K                       1\n",
       "740.00K                    1\n",
       ".59M                       1\n",
       "63.80M                     1\n",
       "4.94M                      1\n",
       "133K                       1\n",
       "741K                       1\n",
       "23.58M                     1\n",
       "28.20M                     1\n",
       "3200.00K                   1\n",
       "22.85K                     1\n",
       "55.50K                     1\n",
       "124K                       1\n",
       "14.1M                      1\n",
       "1.01K                      1\n",
       ".47M                       1\n",
       "Name: DAMAGE_PROPERTY, Length: 2647, dtype: int64"
      ]
     },
     "execution_count": 81,
     "metadata": {},
     "output_type": "execute_result"
    }
   ],
   "source": [
    "df['DAMAGE_PROPERTY'].value_counts()"
   ]
  },
  {
   "cell_type": "markdown",
   "metadata": {},
   "source": [
    "**Drop null values**"
   ]
  },
  {
   "cell_type": "code",
   "execution_count": 82,
   "metadata": {
    "collapsed": true
   },
   "outputs": [],
   "source": [
    "df = df.dropna()"
   ]
  },
  {
   "cell_type": "markdown",
   "metadata": {},
   "source": [
    "**Clean the DAMAGE_PROPERTY column so that it only includes numbers**"
   ]
  },
  {
   "cell_type": "code",
   "execution_count": 83,
   "metadata": {
    "collapsed": true
   },
   "outputs": [],
   "source": [
    "damage = []\n",
    "\n",
    "for row in df['DAMAGE_PROPERTY']:\n",
    "    appended = False\n",
    "    row = row.strip()\n",
    "    \n",
    "    for position in row:\n",
    "        \n",
    "        if len(row) > 1:\n",
    "        \n",
    "            if position == 'K':\n",
    "                number = row.replace('K', '')\n",
    "                number = float(number)\n",
    "                number = number * 1000\n",
    "                damage.append(number)\n",
    "                appended = True\n",
    "          \n",
    "            if position == 'M':\n",
    "                number = row.replace('M', '')\n",
    "                number = float(number)\n",
    "                number = number * 1000000\n",
    "                damage.append(number)\n",
    "                appended = True\n",
    "            \n",
    "            if position == 'h':\n",
    "                number = row.replace('h', '')\n",
    "                number = float(number)\n",
    "                number = number * 100\n",
    "                damage.append(number)\n",
    "                appended = True\n",
    "            \n",
    "            if position == 'H':\n",
    "                number = row.replace('H', '')\n",
    "                number = float(number)\n",
    "                number = number * 100\n",
    "                damage.append(number)\n",
    "                appended = True\n",
    "            \n",
    "            if position == 'B':\n",
    "                number = row.replace('B', '')\n",
    "                number = float(number)\n",
    "                number = number * 1000000000\n",
    "                damage.append(number)\n",
    "                appended = True\n",
    "    \n",
    "    if row == '0':\n",
    "        damage.append(0)\n",
    "        appended = True\n",
    "        \n",
    "    if row == '00':\n",
    "        damage.append(0)\n",
    "        appended = True\n",
    "    \n",
    "    if row == '01':\n",
    "        damage.append(1)\n",
    "        appended = True\n",
    "    \n",
    "    if row == '02':\n",
    "        damage.append(2)\n",
    "        appended = True\n",
    "        \n",
    "    if row == '03':\n",
    "        damage.append(3)\n",
    "        appended = True\n",
    "     \n",
    "    if row == '04':\n",
    "        damage.append(4)\n",
    "        appended = True\n",
    "    \n",
    "    if row == '05':\n",
    "        damage.append(5)\n",
    "        appended = True\n",
    "        \n",
    "    if row == '06':\n",
    "        damage.append(6)\n",
    "        appended = True\n",
    "        \n",
    "    if row == '07':\n",
    "        damage.append(7)\n",
    "        appended = True\n",
    "        \n",
    "    if row == '08':\n",
    "        damage.append(8)\n",
    "        appended = True\n",
    "        \n",
    "    if row == '09':\n",
    "        damage.append(9)\n",
    "        appended = True\n",
    "    \n",
    "    if row == 'K':\n",
    "        damage.append(0)\n",
    "        appended = True\n",
    "    \n",
    "    if (len(row) == 1) & (type(row) == 'str'):\n",
    "        damage.append(0)\n",
    "        appended = True\n",
    "    \n",
    "    if appended == False:\n",
    "        damage.append(row)\n",
    "       \n",
    "    \n",
    "    \n",
    "    "
   ]
  },
  {
   "cell_type": "code",
   "execution_count": 84,
   "metadata": {
    "collapsed": true
   },
   "outputs": [],
   "source": [
    "df['DAMAGE_PROPERTY'] = np.array(damage)"
   ]
  },
  {
   "cell_type": "code",
   "execution_count": 85,
   "metadata": {
    "collapsed": true
   },
   "outputs": [],
   "source": [
    "df['DAMAGE_PROPERTY'] = df['DAMAGE_PROPERTY'].astype(float).astype('int64')"
   ]
  },
  {
   "cell_type": "markdown",
   "metadata": {},
   "source": [
    "**Clean the DAMAGE_CROPS column in the same manner**"
   ]
  },
  {
   "cell_type": "code",
   "execution_count": 86,
   "metadata": {
    "collapsed": true
   },
   "outputs": [],
   "source": [
    "damage = []\n",
    "\n",
    "for row in df['DAMAGE_CROPS']:\n",
    "    appended = False\n",
    "    row = row.strip()\n",
    "    \n",
    "    for position in row:\n",
    "        \n",
    "        if len(row) > 1:\n",
    "        \n",
    "            if position == 'K':\n",
    "                number = row.replace('K', '')\n",
    "                number = float(number)\n",
    "                number = number * 1000\n",
    "                damage.append(number)\n",
    "                appended = True\n",
    "                \n",
    "            if position == 'k':\n",
    "                number = row.replace('k', '')\n",
    "                number = float(number)\n",
    "                number = number * 1000\n",
    "                damage.append(number)\n",
    "                appended = True\n",
    "          \n",
    "            if position == 'M':\n",
    "                number = row.replace('M', '')\n",
    "                number = float(number)\n",
    "                number = number * 1000000\n",
    "                damage.append(number)\n",
    "                appended = True\n",
    "            \n",
    "            if position == 'h':\n",
    "                number = row.replace('h', '')\n",
    "                number = float(number)\n",
    "                number = number * 100\n",
    "                damage.append(number)\n",
    "                appended = True\n",
    "            \n",
    "            if position == 'H':\n",
    "                number = row.replace('H', '')\n",
    "                number = float(number)\n",
    "                number = number * 100\n",
    "                damage.append(number)\n",
    "                appended = True\n",
    "            \n",
    "            if position == 'B':\n",
    "                number = row.replace('B', '')\n",
    "                number = float(number)\n",
    "                number = number * 1000000000\n",
    "                damage.append(number)\n",
    "                appended = True\n",
    "                \n",
    "            if position == 'T':\n",
    "                number = row.replace('T', '')\n",
    "                number = float(number)\n",
    "                number = number * 1000000000000\n",
    "                damage.append(number)\n",
    "                appended = True\n",
    "\n",
    "    \n",
    "    if row == '0':\n",
    "        damage.append(0)\n",
    "        appended = True\n",
    "        \n",
    "    if row == '00':\n",
    "        damage.append(0)\n",
    "        appended = True\n",
    "    \n",
    "    if row == '01':\n",
    "        damage.append(1)\n",
    "        appended = True\n",
    "    \n",
    "    if row == '02':\n",
    "        damage.append(2)\n",
    "        appended = True\n",
    "        \n",
    "    if row == '03':\n",
    "        damage.append(3)\n",
    "        appended = True\n",
    "     \n",
    "    if row == '04':\n",
    "        damage.append(4)\n",
    "        appended = True\n",
    "    \n",
    "    if row == '05':\n",
    "        damage.append(5)\n",
    "        appended = True\n",
    "        \n",
    "    if row == '06':\n",
    "        damage.append(6)\n",
    "        appended = True\n",
    "        \n",
    "    if row == '07':\n",
    "        damage.append(7)\n",
    "        appended = True\n",
    "        \n",
    "    if row == '08':\n",
    "        damage.append(8)\n",
    "        appended = True\n",
    "        \n",
    "    if row == '09':\n",
    "        damage.append(9)\n",
    "        appended = True\n",
    "    \n",
    "    if row == 'K':\n",
    "        damage.append(0)\n",
    "        appended = True\n",
    "        \n",
    "    if row == 'M':\n",
    "        damage.append(0)\n",
    "        appended = True\n",
    "        \n",
    "    if row == '0?':\n",
    "        damage.append(0)\n",
    "        appended = True\n",
    "    \n",
    "    if (len(row) == 1) & (type(row) == 'str'):\n",
    "        damage.append(0)\n",
    "        appended = True\n",
    "    \n",
    "    if appended == False:\n",
    "        damage.append(row)"
   ]
  },
  {
   "cell_type": "code",
   "execution_count": 87,
   "metadata": {
    "collapsed": true
   },
   "outputs": [],
   "source": [
    "df['DAMAGE_CROPS'] = np.array(damage).astype(float).astype('int64')"
   ]
  },
  {
   "cell_type": "markdown",
   "metadata": {},
   "source": [
    "**Convert date to datetime format**"
   ]
  },
  {
   "cell_type": "code",
   "execution_count": 88,
   "metadata": {
    "collapsed": true
   },
   "outputs": [],
   "source": [
    "df['Date'] = pd.to_datetime(df['BEGIN_YEARMONTH'], format = '%Y%m')"
   ]
  },
  {
   "cell_type": "code",
   "execution_count": 89,
   "metadata": {
    "collapsed": true
   },
   "outputs": [],
   "source": [
    "del df['BEGIN_YEARMONTH']"
   ]
  },
  {
   "cell_type": "markdown",
   "metadata": {},
   "source": [
    "**Write dataframe to csv file**"
   ]
  },
  {
   "cell_type": "code",
   "execution_count": 90,
   "metadata": {
    "collapsed": true
   },
   "outputs": [],
   "source": [
    "Storm_Events = df.copy()"
   ]
  },
  {
   "cell_type": "code",
   "execution_count": 91,
   "metadata": {
    "collapsed": true
   },
   "outputs": [],
   "source": [
    "Storm_Events.to_csv('Storm_Events.csv', index = False)"
   ]
  },
  {
   "cell_type": "markdown",
   "metadata": {},
   "source": [
    "## Read in Gas data and Clean"
   ]
  },
  {
   "cell_type": "markdown",
   "metadata": {},
   "source": [
    "**Read in data**"
   ]
  },
  {
   "cell_type": "code",
   "execution_count": 92,
   "metadata": {
    "collapsed": true
   },
   "outputs": [],
   "source": [
    "df = pd.read_csv('C:/Users/Skywind/Desktop/Backup2/Python/Springboard/project2/Gas/Gas.csv')"
   ]
  },
  {
   "cell_type": "markdown",
   "metadata": {},
   "source": [
    "**Subset data to only include MGACD which represents motor gas usage**"
   ]
  },
  {
   "cell_type": "code",
   "execution_count": 93,
   "metadata": {
    "collapsed": true
   },
   "outputs": [],
   "source": [
    "df = df[df['MSN'] == 'MGACD']"
   ]
  },
  {
   "cell_type": "markdown",
   "metadata": {},
   "source": [
    "**Delete irrelevant columns**"
   ]
  },
  {
   "cell_type": "code",
   "execution_count": 94,
   "metadata": {
    "collapsed": true
   },
   "outputs": [],
   "source": [
    "del df['Data_Status']\n",
    "del df['MSN']"
   ]
  },
  {
   "cell_type": "markdown",
   "metadata": {},
   "source": [
    "**Melt the year columns and place in single column**"
   ]
  },
  {
   "cell_type": "code",
   "execution_count": 95,
   "metadata": {},
   "outputs": [
    {
     "data": {
      "text/html": [
       "<div>\n",
       "<style scoped>\n",
       "    .dataframe tbody tr th:only-of-type {\n",
       "        vertical-align: middle;\n",
       "    }\n",
       "\n",
       "    .dataframe tbody tr th {\n",
       "        vertical-align: top;\n",
       "    }\n",
       "\n",
       "    .dataframe thead th {\n",
       "        text-align: right;\n",
       "    }\n",
       "</style>\n",
       "<table border=\"1\" class=\"dataframe\">\n",
       "  <thead>\n",
       "    <tr style=\"text-align: right;\">\n",
       "      <th></th>\n",
       "      <th>State</th>\n",
       "      <th>Year</th>\n",
       "      <th>Gas</th>\n",
       "    </tr>\n",
       "  </thead>\n",
       "  <tbody>\n",
       "    <tr>\n",
       "      <th>0</th>\n",
       "      <td>AK</td>\n",
       "      <td>1970</td>\n",
       "      <td>3.18</td>\n",
       "    </tr>\n",
       "    <tr>\n",
       "      <th>1</th>\n",
       "      <td>AL</td>\n",
       "      <td>1970</td>\n",
       "      <td>2.82</td>\n",
       "    </tr>\n",
       "    <tr>\n",
       "      <th>2</th>\n",
       "      <td>AR</td>\n",
       "      <td>1970</td>\n",
       "      <td>2.74</td>\n",
       "    </tr>\n",
       "    <tr>\n",
       "      <th>3</th>\n",
       "      <td>AZ</td>\n",
       "      <td>1970</td>\n",
       "      <td>2.80</td>\n",
       "    </tr>\n",
       "    <tr>\n",
       "      <th>4</th>\n",
       "      <td>CA</td>\n",
       "      <td>1970</td>\n",
       "      <td>2.80</td>\n",
       "    </tr>\n",
       "  </tbody>\n",
       "</table>\n",
       "</div>"
      ],
      "text/plain": [
       "  State  Year   Gas\n",
       "0    AK  1970  3.18\n",
       "1    AL  1970  2.82\n",
       "2    AR  1970  2.74\n",
       "3    AZ  1970  2.80\n",
       "4    CA  1970  2.80"
      ]
     },
     "execution_count": 95,
     "metadata": {},
     "output_type": "execute_result"
    }
   ],
   "source": [
    "df = pd.melt(frame = df, id_vars = 'State', var_name = 'Year', value_name = 'Gas')\n",
    "df.head()"
   ]
  },
  {
   "cell_type": "markdown",
   "metadata": {},
   "source": [
    "**Fix year datatype and subset data to include years 1994 and over**"
   ]
  },
  {
   "cell_type": "code",
   "execution_count": 96,
   "metadata": {
    "collapsed": true
   },
   "outputs": [],
   "source": [
    "df['Year'] = df['Year'].astype(int)"
   ]
  },
  {
   "cell_type": "code",
   "execution_count": 97,
   "metadata": {
    "collapsed": true
   },
   "outputs": [],
   "source": [
    "df = df[df['Year'] >= 1994]"
   ]
  },
  {
   "cell_type": "markdown",
   "metadata": {},
   "source": [
    "**Use the following reference document to convert dollars per million btu to dollars per gallon** "
   ]
  },
  {
   "cell_type": "markdown",
   "metadata": {},
   "source": [
    "https://www.eia.gov/totalenergy/data/monthly/pdf/sec13_3.pdf\n",
    "42 gallons in 1 barrel\n",
    "\n",
    "1994 = 5.231\n",
    "1995 = 5.218\n",
    "1996 = 5.218\n",
    "1997 = 5.215\n",
    "1998 = 5.215\n",
    "1999 = 5.213\n",
    "2000 = 5.214\n",
    "2001 = 5.214\n",
    "2002 = 5.211\n",
    "2003 = 5.203\n",
    "2004 = 5.201\n",
    "2005 = 5.198\n",
    "2006 = 5.191\n",
    "2007 = 5.155\n",
    "2008 = 5.126\n",
    "2009 = 5.101\n",
    "2010 = 5.078\n",
    "2011 = 5.068\n",
    "2012 = 5.063\n",
    "2013 = 5.062\n",
    "2014 = 5.060\n",
    "2015 = 5.060"
   ]
  },
  {
   "cell_type": "code",
   "execution_count": 98,
   "metadata": {
    "collapsed": true
   },
   "outputs": [],
   "source": [
    "year = np.arange(1994, 2016)\n",
    "convert = np.array([5.231, 5.218, 5.218, 5.215, 5.215, 5.213, 5.214, 5.214, 5.211, 5.203, 5.201, 5.198, 5.191,\n",
    "                    5.155, 5.126, 5.101, 5.078, 5.068, 5.063, 5.062, 5.060, 5.060])"
   ]
  },
  {
   "cell_type": "code",
   "execution_count": 99,
   "metadata": {
    "collapsed": true
   },
   "outputs": [],
   "source": [
    "conversion = []\n",
    "for row in df['Year']:\n",
    "    position = np.where(year == row)[0][0]\n",
    "    conversion.append((convert[position]))"
   ]
  },
  {
   "cell_type": "code",
   "execution_count": 100,
   "metadata": {
    "collapsed": true
   },
   "outputs": [],
   "source": [
    "df['conversion'] = conversion"
   ]
  },
  {
   "cell_type": "code",
   "execution_count": 101,
   "metadata": {
    "collapsed": true
   },
   "outputs": [],
   "source": [
    "df['Gas_Per_Gallon'] = df['conversion'] * df['Gas'] / 42"
   ]
  },
  {
   "cell_type": "code",
   "execution_count": 102,
   "metadata": {},
   "outputs": [
    {
     "data": {
      "text/html": [
       "<div>\n",
       "<style scoped>\n",
       "    .dataframe tbody tr th:only-of-type {\n",
       "        vertical-align: middle;\n",
       "    }\n",
       "\n",
       "    .dataframe tbody tr th {\n",
       "        vertical-align: top;\n",
       "    }\n",
       "\n",
       "    .dataframe thead th {\n",
       "        text-align: right;\n",
       "    }\n",
       "</style>\n",
       "<table border=\"1\" class=\"dataframe\">\n",
       "  <thead>\n",
       "    <tr style=\"text-align: right;\">\n",
       "      <th></th>\n",
       "      <th>State</th>\n",
       "      <th>Year</th>\n",
       "      <th>Gas</th>\n",
       "      <th>conversion</th>\n",
       "      <th>Gas_Per_Gallon</th>\n",
       "    </tr>\n",
       "  </thead>\n",
       "  <tbody>\n",
       "    <tr>\n",
       "      <th>1248</th>\n",
       "      <td>AK</td>\n",
       "      <td>1994</td>\n",
       "      <td>10.50</td>\n",
       "      <td>5.231</td>\n",
       "      <td>1.307750</td>\n",
       "    </tr>\n",
       "    <tr>\n",
       "      <th>1249</th>\n",
       "      <td>AL</td>\n",
       "      <td>1994</td>\n",
       "      <td>8.59</td>\n",
       "      <td>5.231</td>\n",
       "      <td>1.069864</td>\n",
       "    </tr>\n",
       "    <tr>\n",
       "      <th>1250</th>\n",
       "      <td>AR</td>\n",
       "      <td>1994</td>\n",
       "      <td>8.62</td>\n",
       "      <td>5.231</td>\n",
       "      <td>1.073600</td>\n",
       "    </tr>\n",
       "    <tr>\n",
       "      <th>1251</th>\n",
       "      <td>AZ</td>\n",
       "      <td>1994</td>\n",
       "      <td>9.58</td>\n",
       "      <td>5.231</td>\n",
       "      <td>1.193166</td>\n",
       "    </tr>\n",
       "    <tr>\n",
       "      <th>1252</th>\n",
       "      <td>CA</td>\n",
       "      <td>1994</td>\n",
       "      <td>9.10</td>\n",
       "      <td>5.231</td>\n",
       "      <td>1.133383</td>\n",
       "    </tr>\n",
       "  </tbody>\n",
       "</table>\n",
       "</div>"
      ],
      "text/plain": [
       "     State  Year    Gas  conversion  Gas_Per_Gallon\n",
       "1248    AK  1994  10.50       5.231        1.307750\n",
       "1249    AL  1994   8.59       5.231        1.069864\n",
       "1250    AR  1994   8.62       5.231        1.073600\n",
       "1251    AZ  1994   9.58       5.231        1.193166\n",
       "1252    CA  1994   9.10       5.231        1.133383"
      ]
     },
     "execution_count": 102,
     "metadata": {},
     "output_type": "execute_result"
    }
   ],
   "source": [
    "df.head()"
   ]
  },
  {
   "cell_type": "markdown",
   "metadata": {},
   "source": [
    "**Delete irrelevant columns and fix column label**"
   ]
  },
  {
   "cell_type": "code",
   "execution_count": 103,
   "metadata": {
    "collapsed": true
   },
   "outputs": [],
   "source": [
    "del df['conversion']\n",
    "del df['Gas']"
   ]
  },
  {
   "cell_type": "code",
   "execution_count": 104,
   "metadata": {
    "collapsed": true
   },
   "outputs": [],
   "source": [
    "df.rename(columns={'State':'State_Abbrev'}, inplace=True)"
   ]
  },
  {
   "cell_type": "markdown",
   "metadata": {},
   "source": [
    "**Write to csv file**"
   ]
  },
  {
   "cell_type": "code",
   "execution_count": 105,
   "metadata": {
    "collapsed": true
   },
   "outputs": [],
   "source": [
    "Gas_Price = df.copy()"
   ]
  },
  {
   "cell_type": "code",
   "execution_count": 106,
   "metadata": {
    "collapsed": true
   },
   "outputs": [],
   "source": [
    "Gas_Price.to_csv('Gas_Price.csv', index = False)"
   ]
  },
  {
   "cell_type": "markdown",
   "metadata": {},
   "source": [
    "## Read in Crime Data and Clean"
   ]
  },
  {
   "cell_type": "markdown",
   "metadata": {},
   "source": [
    "**Load in data**"
   ]
  },
  {
   "cell_type": "code",
   "execution_count": 107,
   "metadata": {
    "collapsed": true
   },
   "outputs": [],
   "source": [
    "df = pd.read_csv('C:/Users/Skywind/Desktop/Backup2/Python/Springboard/project2/Crime/estimated_crimes.csv')"
   ]
  },
  {
   "cell_type": "markdown",
   "metadata": {},
   "source": [
    "**Include only state aggregated data**"
   ]
  },
  {
   "cell_type": "code",
   "execution_count": 108,
   "metadata": {
    "collapsed": true
   },
   "outputs": [],
   "source": [
    "df = df[df['state_abbr'].notnull()]"
   ]
  },
  {
   "cell_type": "markdown",
   "metadata": {},
   "source": [
    "**Fix column labels to match other datasets**"
   ]
  },
  {
   "cell_type": "code",
   "execution_count": 109,
   "metadata": {
    "collapsed": true
   },
   "outputs": [],
   "source": [
    "df.rename(columns={'year':'Year', 'state_abbr': 'State_Abbrev'}, inplace=True)"
   ]
  },
  {
   "cell_type": "markdown",
   "metadata": {},
   "source": [
    "**Delete irrelevant column**"
   ]
  },
  {
   "cell_type": "code",
   "execution_count": 110,
   "metadata": {
    "collapsed": true
   },
   "outputs": [],
   "source": [
    "del df['caveats']"
   ]
  },
  {
   "cell_type": "markdown",
   "metadata": {},
   "source": [
    "**Compare population for year 1995 to the population data for 1995**"
   ]
  },
  {
   "cell_type": "code",
   "execution_count": 111,
   "metadata": {},
   "outputs": [
    {
     "data": {
      "text/html": [
       "<div>\n",
       "<style scoped>\n",
       "    .dataframe tbody tr th:only-of-type {\n",
       "        vertical-align: middle;\n",
       "    }\n",
       "\n",
       "    .dataframe tbody tr th {\n",
       "        vertical-align: top;\n",
       "    }\n",
       "\n",
       "    .dataframe thead th {\n",
       "        text-align: right;\n",
       "    }\n",
       "</style>\n",
       "<table border=\"1\" class=\"dataframe\">\n",
       "  <thead>\n",
       "    <tr style=\"text-align: right;\">\n",
       "      <th></th>\n",
       "      <th>Year</th>\n",
       "      <th>State_Abbrev</th>\n",
       "      <th>population</th>\n",
       "      <th>violent_crime</th>\n",
       "      <th>homicide</th>\n",
       "      <th>rape_legacy</th>\n",
       "      <th>rape_revised</th>\n",
       "      <th>robbery</th>\n",
       "      <th>aggravated_assault</th>\n",
       "      <th>property_crime</th>\n",
       "      <th>burglary</th>\n",
       "      <th>larceny</th>\n",
       "      <th>motor_vehicle_theft</th>\n",
       "    </tr>\n",
       "  </thead>\n",
       "  <tbody>\n",
       "    <tr>\n",
       "      <th>22</th>\n",
       "      <td>1995</td>\n",
       "      <td>AL</td>\n",
       "      <td>4253000</td>\n",
       "      <td>26894</td>\n",
       "      <td>475</td>\n",
       "      <td>1350</td>\n",
       "      <td>NaN</td>\n",
       "      <td>7900</td>\n",
       "      <td>17169</td>\n",
       "      <td>179294</td>\n",
       "      <td>43586</td>\n",
       "      <td>120967</td>\n",
       "      <td>14741</td>\n",
       "    </tr>\n",
       "    <tr>\n",
       "      <th>23</th>\n",
       "      <td>1996</td>\n",
       "      <td>AL</td>\n",
       "      <td>4273000</td>\n",
       "      <td>24159</td>\n",
       "      <td>444</td>\n",
       "      <td>1397</td>\n",
       "      <td>NaN</td>\n",
       "      <td>7124</td>\n",
       "      <td>15194</td>\n",
       "      <td>181803</td>\n",
       "      <td>42821</td>\n",
       "      <td>123350</td>\n",
       "      <td>15632</td>\n",
       "    </tr>\n",
       "    <tr>\n",
       "      <th>24</th>\n",
       "      <td>1997</td>\n",
       "      <td>AL</td>\n",
       "      <td>4319000</td>\n",
       "      <td>24379</td>\n",
       "      <td>426</td>\n",
       "      <td>1396</td>\n",
       "      <td>NaN</td>\n",
       "      <td>6931</td>\n",
       "      <td>15626</td>\n",
       "      <td>186809</td>\n",
       "      <td>43786</td>\n",
       "      <td>127616</td>\n",
       "      <td>15407</td>\n",
       "    </tr>\n",
       "    <tr>\n",
       "      <th>25</th>\n",
       "      <td>1998</td>\n",
       "      <td>AL</td>\n",
       "      <td>4352000</td>\n",
       "      <td>22286</td>\n",
       "      <td>354</td>\n",
       "      <td>1443</td>\n",
       "      <td>NaN</td>\n",
       "      <td>5698</td>\n",
       "      <td>14791</td>\n",
       "      <td>177779</td>\n",
       "      <td>41965</td>\n",
       "      <td>120943</td>\n",
       "      <td>14871</td>\n",
       "    </tr>\n",
       "    <tr>\n",
       "      <th>26</th>\n",
       "      <td>1999</td>\n",
       "      <td>AL</td>\n",
       "      <td>4369862</td>\n",
       "      <td>21421</td>\n",
       "      <td>345</td>\n",
       "      <td>1513</td>\n",
       "      <td>NaN</td>\n",
       "      <td>5297</td>\n",
       "      <td>14266</td>\n",
       "      <td>171398</td>\n",
       "      <td>38648</td>\n",
       "      <td>119616</td>\n",
       "      <td>13134</td>\n",
       "    </tr>\n",
       "  </tbody>\n",
       "</table>\n",
       "</div>"
      ],
      "text/plain": [
       "    Year State_Abbrev  population  violent_crime  homicide  rape_legacy  \\\n",
       "22  1995           AL     4253000          26894       475         1350   \n",
       "23  1996           AL     4273000          24159       444         1397   \n",
       "24  1997           AL     4319000          24379       426         1396   \n",
       "25  1998           AL     4352000          22286       354         1443   \n",
       "26  1999           AL     4369862          21421       345         1513   \n",
       "\n",
       "    rape_revised  robbery  aggravated_assault  property_crime  burglary  \\\n",
       "22           NaN     7900               17169          179294     43586   \n",
       "23           NaN     7124               15194          181803     42821   \n",
       "24           NaN     6931               15626          186809     43786   \n",
       "25           NaN     5698               14791          177779     41965   \n",
       "26           NaN     5297               14266          171398     38648   \n",
       "\n",
       "    larceny  motor_vehicle_theft  \n",
       "22   120967                14741  \n",
       "23   123350                15632  \n",
       "24   127616                15407  \n",
       "25   120943                14871  \n",
       "26   119616                13134  "
      ]
     },
     "execution_count": 111,
     "metadata": {},
     "output_type": "execute_result"
    }
   ],
   "source": [
    "df.head()"
   ]
  },
  {
   "cell_type": "code",
   "execution_count": 112,
   "metadata": {},
   "outputs": [
    {
     "data": {
      "text/html": [
       "<div>\n",
       "<style scoped>\n",
       "    .dataframe tbody tr th:only-of-type {\n",
       "        vertical-align: middle;\n",
       "    }\n",
       "\n",
       "    .dataframe tbody tr th {\n",
       "        vertical-align: top;\n",
       "    }\n",
       "\n",
       "    .dataframe thead th {\n",
       "        text-align: right;\n",
       "    }\n",
       "</style>\n",
       "<table border=\"1\" class=\"dataframe\">\n",
       "  <thead>\n",
       "    <tr style=\"text-align: right;\">\n",
       "      <th></th>\n",
       "      <th>Year</th>\n",
       "      <th>State_Abbrev</th>\n",
       "      <th>Population</th>\n",
       "    </tr>\n",
       "  </thead>\n",
       "  <tbody>\n",
       "    <tr>\n",
       "      <th>51</th>\n",
       "      <td>1995</td>\n",
       "      <td>AK</td>\n",
       "      <td>604412</td>\n",
       "    </tr>\n",
       "    <tr>\n",
       "      <th>52</th>\n",
       "      <td>1995</td>\n",
       "      <td>AL</td>\n",
       "      <td>4296800</td>\n",
       "    </tr>\n",
       "    <tr>\n",
       "      <th>53</th>\n",
       "      <td>1995</td>\n",
       "      <td>AR</td>\n",
       "      <td>2535399</td>\n",
       "    </tr>\n",
       "    <tr>\n",
       "      <th>54</th>\n",
       "      <td>1995</td>\n",
       "      <td>AZ</td>\n",
       "      <td>4432499</td>\n",
       "    </tr>\n",
       "    <tr>\n",
       "      <th>55</th>\n",
       "      <td>1995</td>\n",
       "      <td>CA</td>\n",
       "      <td>31696582</td>\n",
       "    </tr>\n",
       "  </tbody>\n",
       "</table>\n",
       "</div>"
      ],
      "text/plain": [
       "    Year State_Abbrev  Population\n",
       "51  1995           AK      604412\n",
       "52  1995           AL     4296800\n",
       "53  1995           AR     2535399\n",
       "54  1995           AZ     4432499\n",
       "55  1995           CA    31696582"
      ]
     },
     "execution_count": 112,
     "metadata": {},
     "output_type": "execute_result"
    }
   ],
   "source": [
    "Population[Population['Year'] == 1995].head()"
   ]
  },
  {
   "cell_type": "markdown",
   "metadata": {},
   "source": [
    "**Population data does not match. Will use the Population's dataframe's values. Delete this population column and rape_revised so no redundant information**"
   ]
  },
  {
   "cell_type": "code",
   "execution_count": 113,
   "metadata": {
    "collapsed": true
   },
   "outputs": [],
   "source": [
    "del df['population']"
   ]
  },
  {
   "cell_type": "code",
   "execution_count": 114,
   "metadata": {
    "collapsed": true
   },
   "outputs": [],
   "source": [
    "del df['rape_revised']"
   ]
  },
  {
   "cell_type": "markdown",
   "metadata": {},
   "source": [
    "**Write to csv file**"
   ]
  },
  {
   "cell_type": "code",
   "execution_count": 115,
   "metadata": {
    "collapsed": true
   },
   "outputs": [],
   "source": [
    "Crimes = df.copy()"
   ]
  },
  {
   "cell_type": "code",
   "execution_count": 116,
   "metadata": {
    "collapsed": true
   },
   "outputs": [],
   "source": [
    "Crimes.to_csv('Crimes.csv', index = False)"
   ]
  },
  {
   "cell_type": "markdown",
   "metadata": {},
   "source": [
    "## Read in Drought data and Clean"
   ]
  },
  {
   "cell_type": "markdown",
   "metadata": {},
   "source": [
    "**Load in data and subset for years 1994 and over**"
   ]
  },
  {
   "cell_type": "code",
   "execution_count": 117,
   "metadata": {
    "collapsed": true
   },
   "outputs": [],
   "source": [
    "df = pd.read_csv('C:/Users/Skywind/Desktop/Backup2/Python/Springboard/project2/Standard Precipitation Index (Pearson)/SPI_data.csv')"
   ]
  },
  {
   "cell_type": "code",
   "execution_count": 118,
   "metadata": {
    "collapsed": true
   },
   "outputs": [],
   "source": [
    "df = df[df['Year'] >= 1994]"
   ]
  },
  {
   "cell_type": "markdown",
   "metadata": {},
   "source": [
    "**Delete useless column**"
   ]
  },
  {
   "cell_type": "code",
   "execution_count": 119,
   "metadata": {
    "collapsed": true
   },
   "outputs": [],
   "source": [
    "del df['fips']"
   ]
  },
  {
   "cell_type": "markdown",
   "metadata": {},
   "source": [
    "**Melt month into one column**"
   ]
  },
  {
   "cell_type": "code",
   "execution_count": 120,
   "metadata": {},
   "outputs": [
    {
     "data": {
      "text/html": [
       "<div>\n",
       "<style scoped>\n",
       "    .dataframe tbody tr th:only-of-type {\n",
       "        vertical-align: middle;\n",
       "    }\n",
       "\n",
       "    .dataframe tbody tr th {\n",
       "        vertical-align: top;\n",
       "    }\n",
       "\n",
       "    .dataframe thead th {\n",
       "        text-align: right;\n",
       "    }\n",
       "</style>\n",
       "<table border=\"1\" class=\"dataframe\">\n",
       "  <thead>\n",
       "    <tr style=\"text-align: right;\">\n",
       "      <th></th>\n",
       "      <th>state</th>\n",
       "      <th>county</th>\n",
       "      <th>Year</th>\n",
       "      <th>month</th>\n",
       "      <th>SPI</th>\n",
       "    </tr>\n",
       "  </thead>\n",
       "  <tbody>\n",
       "    <tr>\n",
       "      <th>0</th>\n",
       "      <td>AL</td>\n",
       "      <td>Autauga County</td>\n",
       "      <td>1994</td>\n",
       "      <td>Jan</td>\n",
       "      <td>-0.52</td>\n",
       "    </tr>\n",
       "    <tr>\n",
       "      <th>1</th>\n",
       "      <td>AL</td>\n",
       "      <td>Autauga County</td>\n",
       "      <td>1995</td>\n",
       "      <td>Jan</td>\n",
       "      <td>0.15</td>\n",
       "    </tr>\n",
       "    <tr>\n",
       "      <th>2</th>\n",
       "      <td>AL</td>\n",
       "      <td>Autauga County</td>\n",
       "      <td>1996</td>\n",
       "      <td>Jan</td>\n",
       "      <td>0.95</td>\n",
       "    </tr>\n",
       "    <tr>\n",
       "      <th>3</th>\n",
       "      <td>AL</td>\n",
       "      <td>Autauga County</td>\n",
       "      <td>1997</td>\n",
       "      <td>Jan</td>\n",
       "      <td>0.65</td>\n",
       "    </tr>\n",
       "    <tr>\n",
       "      <th>4</th>\n",
       "      <td>AL</td>\n",
       "      <td>Autauga County</td>\n",
       "      <td>1998</td>\n",
       "      <td>Jan</td>\n",
       "      <td>1.01</td>\n",
       "    </tr>\n",
       "  </tbody>\n",
       "</table>\n",
       "</div>"
      ],
      "text/plain": [
       "  state          county  Year month   SPI\n",
       "0    AL  Autauga County  1994   Jan -0.52\n",
       "1    AL  Autauga County  1995   Jan  0.15\n",
       "2    AL  Autauga County  1996   Jan  0.95\n",
       "3    AL  Autauga County  1997   Jan  0.65\n",
       "4    AL  Autauga County  1998   Jan  1.01"
      ]
     },
     "execution_count": 120,
     "metadata": {},
     "output_type": "execute_result"
    }
   ],
   "source": [
    "df = pd.melt(frame = df, id_vars = ['state', 'county', 'Year'] , var_name = 'month', value_name = 'SPI')\n",
    "df.head()"
   ]
  },
  {
   "cell_type": "markdown",
   "metadata": {},
   "source": [
    "**Create function to convert abbreviation to numbers and save to new column**"
   ]
  },
  {
   "cell_type": "code",
   "execution_count": 121,
   "metadata": {
    "collapsed": true
   },
   "outputs": [],
   "source": [
    "def monthToNum(x):\n",
    "\n",
    "    extract = { 'Jan' : 1,\n",
    "                'Feb' : 2,\n",
    "                'Mar' : 3,\n",
    "                'Apr' : 4,\n",
    "                'May' : 5,\n",
    "                'Jun' : 6,\n",
    "                'Jul' : 7,\n",
    "                'Aug' : 8,\n",
    "                'Sep' : 9, \n",
    "                'Oct' : 10,\n",
    "                'Nov' : 11,\n",
    "                'Dec' : 12 }\n",
    "    \n",
    "    short_x =  x[:3]\n",
    "    \n",
    "    return extract[short_x]"
   ]
  },
  {
   "cell_type": "code",
   "execution_count": 122,
   "metadata": {
    "collapsed": true
   },
   "outputs": [],
   "source": [
    "df['Month'] = df['month'].apply(monthToNum)"
   ]
  },
  {
   "cell_type": "code",
   "execution_count": 123,
   "metadata": {
    "collapsed": true
   },
   "outputs": [],
   "source": [
    "del df['month']"
   ]
  },
  {
   "cell_type": "markdown",
   "metadata": {},
   "source": [
    "**Group by state year and month and take average of SPI values**"
   ]
  },
  {
   "cell_type": "code",
   "execution_count": 124,
   "metadata": {
    "collapsed": true
   },
   "outputs": [],
   "source": [
    "SPI = df.groupby(['state', 'Year', 'Month']).mean()\n",
    "\n",
    "SPI = pd.DataFrame(SPI.to_records())"
   ]
  },
  {
   "cell_type": "markdown",
   "metadata": {},
   "source": [
    "**Rename column to match other datasets and save to file**"
   ]
  },
  {
   "cell_type": "code",
   "execution_count": 125,
   "metadata": {
    "collapsed": true
   },
   "outputs": [],
   "source": [
    "SPI.rename(columns={'state':'State'}, inplace=True)"
   ]
  },
  {
   "cell_type": "code",
   "execution_count": 126,
   "metadata": {
    "collapsed": true
   },
   "outputs": [],
   "source": [
    "SPI.to_csv('SPI.csv', index = False)"
   ]
  },
  {
   "cell_type": "markdown",
   "metadata": {},
   "source": [
    "## Read Behaviorial Risk Factor Surveillance System data and Clean"
   ]
  },
  {
   "cell_type": "markdown",
   "metadata": {},
   "source": [
    "**Define path where files are. The files are renamed to their respective years**"
   ]
  },
  {
   "cell_type": "code",
   "execution_count": 127,
   "metadata": {
    "collapsed": true
   },
   "outputs": [],
   "source": [
    "path = 'C:/Users/Skywind/Desktop/Backup2/Python/Springboard/project2/Behavioral Risk Factor Surveillance System'\n",
    "XPTFiles = glob.glob(path + '/*.XPT')"
   ]
  },
  {
   "cell_type": "markdown",
   "metadata": {},
   "source": [
    "**Years is a reference column for the years. The states is the reference column to append the right state based on the index of the numbers numpy array. The numbers corresponds to the states list in alphabetical order in according to the variable dictionary of the code book**"
   ]
  },
  {
   "cell_type": "code",
   "execution_count": 128,
   "metadata": {
    "collapsed": true
   },
   "outputs": [],
   "source": [
    "Years = [1994, 1995, 1996, 1997, 1998, 1999, 2000, 2001, 2002, 2003, 2004, 2005, 2006, 2007, 2008, 2009, 2010,\n",
    "         2011, 2012, 2013, 2014, 2015, 2016]\n",
    "\n",
    "states = ['Alabama', 'Alaska', 'Arizona', 'Arkansas', 'California', 'Colorado', 'Connecticut', 'Delaware',\n",
    "          'Florida', 'Georgia', 'Idaho', 'Illinois', 'Indiana', 'Iowa', 'Kansas', 'Kentucky', 'Louisiana',\n",
    "          'Maine', 'Maryland', 'Massachusetts', 'Michigan', 'Minnesota', 'Mississippi', 'Missouri', 'Montana',\n",
    "          'Nebraska', 'Nevada', 'New Hampshire', 'New Jersey', 'New Mexico', 'New York', 'North Carolina',\n",
    "          'North Dakota', 'Ohio', 'Oklahoma', 'Oregon', 'Pennsylvania', 'Rhode Island', 'South Carolina',\n",
    "          'South Dakota', 'Tennessee', 'Texas', 'Utah', 'Vermont', 'Virginia', 'Washington', 'West Virginia',\n",
    "          'Wisconsin', 'Wyoming']  \n",
    "\n",
    "numbers = np.array([1, 2, 4, 5, 6, 8, 9, 10, 12, 13, 16, 17, 18, 19, 20, 21, 22, 23, 24, 25, 26 ,27, 28, 29, 30, 31, 32, 33, 34,\n",
    "           35, 36, 37, 38, 39, 40, 41, 42, 44, 45, 46, 47, 48, 49, 50, 51, 53, 54, 55, 56])"
   ]
  },
  {
   "cell_type": "code",
   "execution_count": 129,
   "metadata": {
    "collapsed": true
   },
   "outputs": [],
   "source": [
    "i = 0\n",
    "for file in XPTFiles:\n",
    "    if i == 0:\n",
    "        df = pd.read_sas(file, format = 'xport')\n",
    "        df['Year'] = Years[i]\n",
    "        \n",
    "        #Subset data to only include these variables\n",
    "        df = df.loc[:, ['_STATE', 'PHYSHLTH', 'MENTHLTH', 'Year']]\n",
    "        \n",
    "        #Do not include values such as virgin islands etc\n",
    "        df = df[(df['_STATE'] != 11) & (df['_STATE'] != 15) & (df['_STATE'] != 72) & (df['_STATE'] != 78) & (df['_STATE'] != 66)]\n",
    "        \n",
    "        States = []\n",
    "        for row in df['_STATE']:\n",
    "            index = np.where(numbers == row)[0][0]\n",
    "            States.append(states[index])\n",
    "       \n",
    "        df['State'] = States\n",
    "        \n",
    "        del df['_STATE']\n",
    "        \n",
    "        #Subset data to ignore \"refuse to answer\" or \"don't know\"\n",
    "        df = df[(df['MENTHLTH'] <= 30) & (df['PHYSHLTH'] <= 30)]\n",
    "        \n",
    "        #Aggregate by mean and group by Year and State\n",
    "        df = df.groupby(['Year', 'State']).mean()\n",
    "        df = pd.DataFrame(df.to_records())\n",
    "        \n",
    "        i += 1\n",
    "        continue\n",
    "    \n",
    "    df2 = pd.read_sas(file, format = 'xport')\n",
    "    df2['Year'] = Years[i]\n",
    "    \n",
    "    df2 = df2.loc[:, ['_STATE', 'PHYSHLTH', 'MENTHLTH', 'Year']]\n",
    "    \n",
    "    df2 = df2[(df2['_STATE'] != 11) & (df2['_STATE'] != 15) & (df2['_STATE'] != 72) & (df2['_STATE'] != 78) & (df2['_STATE'] != 66)]\n",
    "    \n",
    "    States = []\n",
    "    for row in df2['_STATE']:\n",
    "        index = np.where(numbers == row)[0][0]\n",
    "        States.append(states[index])\n",
    "     \n",
    "    df2['State'] = States\n",
    "        \n",
    "    del df2['_STATE']\n",
    "        \n",
    "    df2 = df2[(df2['MENTHLTH'] <= 30) & (df2['PHYSHLTH'] <= 30)]\n",
    "    \n",
    "    df2 = df2.groupby(['Year', 'State']).mean()\n",
    "    df2 = pd.DataFrame(df2.to_records())\n",
    "    \n",
    "    df = pd.concat([df, df2])\n",
    "    i += 1"
   ]
  },
  {
   "cell_type": "code",
   "execution_count": 130,
   "metadata": {},
   "outputs": [
    {
     "name": "stdout",
     "output_type": "stream",
     "text": [
      "<class 'pandas.core.frame.DataFrame'>\n",
      "Int64Index: 1098 entries, 0 to 48\n",
      "Data columns (total 4 columns):\n",
      "Year        1098 non-null int32\n",
      "State       1098 non-null object\n",
      "PHYSHLTH    1098 non-null float64\n",
      "MENTHLTH    1098 non-null float64\n",
      "dtypes: float64(2), int32(1), object(1)\n",
      "memory usage: 38.6+ KB\n"
     ]
    }
   ],
   "source": [
    "df.info()"
   ]
  },
  {
   "cell_type": "code",
   "execution_count": 131,
   "metadata": {},
   "outputs": [
    {
     "data": {
      "text/html": [
       "<div>\n",
       "<style scoped>\n",
       "    .dataframe tbody tr th:only-of-type {\n",
       "        vertical-align: middle;\n",
       "    }\n",
       "\n",
       "    .dataframe tbody tr th {\n",
       "        vertical-align: top;\n",
       "    }\n",
       "\n",
       "    .dataframe thead th {\n",
       "        text-align: right;\n",
       "    }\n",
       "</style>\n",
       "<table border=\"1\" class=\"dataframe\">\n",
       "  <thead>\n",
       "    <tr style=\"text-align: right;\">\n",
       "      <th></th>\n",
       "      <th>Year</th>\n",
       "      <th>State</th>\n",
       "      <th>PHYSHLTH</th>\n",
       "      <th>MENTHLTH</th>\n",
       "    </tr>\n",
       "  </thead>\n",
       "  <tbody>\n",
       "    <tr>\n",
       "      <th>0</th>\n",
       "      <td>1994</td>\n",
       "      <td>Alabama</td>\n",
       "      <td>13.255814</td>\n",
       "      <td>13.930233</td>\n",
       "    </tr>\n",
       "    <tr>\n",
       "      <th>1</th>\n",
       "      <td>1994</td>\n",
       "      <td>Alaska</td>\n",
       "      <td>8.027132</td>\n",
       "      <td>9.430233</td>\n",
       "    </tr>\n",
       "    <tr>\n",
       "      <th>2</th>\n",
       "      <td>1994</td>\n",
       "      <td>Arizona</td>\n",
       "      <td>10.468468</td>\n",
       "      <td>10.387387</td>\n",
       "    </tr>\n",
       "    <tr>\n",
       "      <th>3</th>\n",
       "      <td>1994</td>\n",
       "      <td>Arkansas</td>\n",
       "      <td>11.447489</td>\n",
       "      <td>11.703196</td>\n",
       "    </tr>\n",
       "    <tr>\n",
       "      <th>4</th>\n",
       "      <td>1994</td>\n",
       "      <td>California</td>\n",
       "      <td>9.182464</td>\n",
       "      <td>9.693128</td>\n",
       "    </tr>\n",
       "  </tbody>\n",
       "</table>\n",
       "</div>"
      ],
      "text/plain": [
       "   Year       State   PHYSHLTH   MENTHLTH\n",
       "0  1994     Alabama  13.255814  13.930233\n",
       "1  1994      Alaska   8.027132   9.430233\n",
       "2  1994     Arizona  10.468468  10.387387\n",
       "3  1994    Arkansas  11.447489  11.703196\n",
       "4  1994  California   9.182464   9.693128"
      ]
     },
     "execution_count": 131,
     "metadata": {},
     "output_type": "execute_result"
    }
   ],
   "source": [
    "df.head()"
   ]
  },
  {
   "cell_type": "markdown",
   "metadata": {},
   "source": [
    "**Save to csv file**"
   ]
  },
  {
   "cell_type": "code",
   "execution_count": 132,
   "metadata": {
    "collapsed": true
   },
   "outputs": [],
   "source": [
    "Health = df.copy()"
   ]
  },
  {
   "cell_type": "code",
   "execution_count": 133,
   "metadata": {
    "collapsed": true
   },
   "outputs": [],
   "source": [
    "Health.to_csv('Health.csv', index = False)"
   ]
  },
  {
   "cell_type": "code",
   "execution_count": null,
   "metadata": {
    "collapsed": true
   },
   "outputs": [],
   "source": []
  }
 ],
 "metadata": {
  "kernelspec": {
   "display_name": "Python 3",
   "language": "python",
   "name": "python3"
  },
  "language_info": {
   "codemirror_mode": {
    "name": "ipython",
    "version": 3
   },
   "file_extension": ".py",
   "mimetype": "text/x-python",
   "name": "python",
   "nbconvert_exporter": "python",
   "pygments_lexer": "ipython3",
   "version": "3.6.2"
  }
 },
 "nbformat": 4,
 "nbformat_minor": 2
}
